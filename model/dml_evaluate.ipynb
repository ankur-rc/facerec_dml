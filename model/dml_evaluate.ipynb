{
 "cells": [
  {
   "cell_type": "markdown",
   "metadata": {},
   "source": [
    "## Deep Metric Learning (DML) - Evaluation"
   ]
  },
  {
   "cell_type": "markdown",
   "metadata": {},
   "source": [
    "### Methodology"
   ]
  },
  {
   "cell_type": "markdown",
   "metadata": {},
   "source": [
    "1. **Normalize** each image from the dataset by: \n",
    "    * Pre-processing - histogram equalization\n",
    "    * Post-processing - 2D facial alignment\n",
    "2. Randomise folds containing **train-test splits** for each subject\n",
    "3. **Train** a classifier on each fold's train split\n",
    "    * Generate embeddings for each sample using the FaceNet neural network\n",
    "    * Train a linear SVM model on the embeddings\n",
    "4. **Evaluate** the trained model in step 4 by it's corresponding test split\n",
    "    * Generate embeddings for each sample using the FaceNet neural network\n",
    "    * Evaluate on the trained SVM classifier in step 3\n",
    "5. Repeat step 2, 3, 4 by varying the number of training samples per subject\n",
    "6. Report the average value of **Precision@1** across each fold."
   ]
  },
  {
   "cell_type": "code",
   "execution_count": 1,
   "metadata": {},
   "outputs": [],
   "source": [
    "from __future__ import division\n",
    "import numpy as np\n",
    "import tqdm"
   ]
  },
  {
   "cell_type": "code",
   "execution_count": 2,
   "metadata": {},
   "outputs": [],
   "source": [
    "from Dataset import Dataset\n",
    "from deep.FaceRecognizer import FaceRecognizer"
   ]
  },
  {
   "cell_type": "markdown",
   "metadata": {},
   "source": [
    "### ATT Dataset"
   ]
  },
  {
   "cell_type": "code",
   "execution_count": 3,
   "metadata": {},
   "outputs": [],
   "source": [
    "dataset_path =  \"/media/ankurrc/new_volume/softura/facerec/datasets/norm_standard_att\""
   ]
  },
  {
   "cell_type": "code",
   "execution_count": 4,
   "metadata": {},
   "outputs": [],
   "source": [
    "folds = 3\n",
    "training_samples = [2, 5, 8]"
   ]
  },
  {
   "cell_type": "code",
   "execution_count": 5,
   "metadata": {},
   "outputs": [],
   "source": [
    "results = []"
   ]
  },
  {
   "cell_type": "markdown",
   "metadata": {},
   "source": [
    "#### Train the recognizer for the different folds and evaluate"
   ]
  },
  {
   "cell_type": "code",
   "execution_count": 6,
   "metadata": {},
   "outputs": [],
   "source": [
    "recognizer_model = recognizer_model = FaceRecognizer(\n",
    "        model_path=\"deep/dlib_face_recognition_resnet_model_v1.dat\",\n",
    "        shape_predictor_path=\"deep/shape_predictor_5_face_landmarks.dat\")\n",
    "dataset = Dataset(dataset_path)"
   ]
  },
  {
   "cell_type": "code",
   "execution_count": 7,
   "metadata": {},
   "outputs": [
    {
     "name": "stdout",
     "output_type": "stream",
     "text": [
      "Evaluating algorithm on  [2, 5, 8]  training samples per subject...\n"
     ]
    },
    {
     "data": {
      "application/vnd.jupyter.widget-view+json": {
       "model_id": "ddce03fb64eb4d7f987829fabb31e4dc",
       "version_major": 2,
       "version_minor": 0
      },
      "text/plain": [
       "HBox(children=(IntProgress(value=0, max=3), HTML(value=u'')))"
      ]
     },
     "metadata": {},
     "output_type": "display_data"
    },
    {
     "name": "stdout",
     "output_type": "stream",
     "text": [
      "Training on 2 samples per subject.\n"
     ]
    },
    {
     "data": {
      "application/vnd.jupyter.widget-view+json": {
       "model_id": "a4821591fcf14425bf76e36ebe43d245",
       "version_major": 2,
       "version_minor": 0
      },
      "text/plain": [
       "HBox(children=(IntProgress(value=0, max=3), HTML(value=u'')))"
      ]
     },
     "metadata": {},
     "output_type": "display_data"
    },
    {
     "name": "stdout",
     "output_type": "stream",
     "text": [
      "------------------------------------------------------------Fold 1------------------------------------------------------------\n",
      "Training and evaluating recognizer (80 samples and 40 subjects)...\n",
      "Train-->\n"
     ]
    },
    {
     "data": {
      "application/vnd.jupyter.widget-view+json": {
       "model_id": "7ee43192acba478997bef36e8f718d56",
       "version_major": 2,
       "version_minor": 0
      },
      "text/plain": [
       "HBox(children=(IntProgress(value=0, max=80), HTML(value=u'')))"
      ]
     },
     "metadata": {},
     "output_type": "display_data"
    },
    {
     "name": "stdout",
     "output_type": "stream",
     "text": [
      "Test-->\n"
     ]
    },
    {
     "data": {
      "application/vnd.jupyter.widget-view+json": {
       "model_id": "50f22484f22044a99a44d4a1a92a66b2",
       "version_major": 2,
       "version_minor": 0
      },
      "text/plain": [
       "HBox(children=(IntProgress(value=0, max=314), HTML(value=u'')))"
      ]
     },
     "metadata": {},
     "output_type": "display_data"
    },
    {
     "name": "stdout",
     "output_type": "stream",
     "text": [
      "Precision@1: 99.68152866242038%\n",
      "------------------------------------------------------------Fold 2------------------------------------------------------------\n",
      "Training and evaluating recognizer (80 samples and 40 subjects)...\n",
      "Train-->\n"
     ]
    },
    {
     "data": {
      "application/vnd.jupyter.widget-view+json": {
       "model_id": "49b53abcf0134b27b1896df66811c237",
       "version_major": 2,
       "version_minor": 0
      },
      "text/plain": [
       "HBox(children=(IntProgress(value=0, max=80), HTML(value=u'')))"
      ]
     },
     "metadata": {},
     "output_type": "display_data"
    },
    {
     "name": "stdout",
     "output_type": "stream",
     "text": [
      "Test-->\n"
     ]
    },
    {
     "data": {
      "application/vnd.jupyter.widget-view+json": {
       "model_id": "669cc7dc4386441da0e54721d093b292",
       "version_major": 2,
       "version_minor": 0
      },
      "text/plain": [
       "HBox(children=(IntProgress(value=0, max=314), HTML(value=u'')))"
      ]
     },
     "metadata": {},
     "output_type": "display_data"
    },
    {
     "name": "stdout",
     "output_type": "stream",
     "text": [
      "Precision@1: 100.0%\n",
      "------------------------------------------------------------Fold 3------------------------------------------------------------\n",
      "Training and evaluating recognizer (80 samples and 40 subjects)...\n",
      "Train-->\n"
     ]
    },
    {
     "data": {
      "application/vnd.jupyter.widget-view+json": {
       "model_id": "b8225146db0f4070a51ae82e319df227",
       "version_major": 2,
       "version_minor": 0
      },
      "text/plain": [
       "HBox(children=(IntProgress(value=0, max=80), HTML(value=u'')))"
      ]
     },
     "metadata": {},
     "output_type": "display_data"
    },
    {
     "name": "stdout",
     "output_type": "stream",
     "text": [
      "Test-->\n"
     ]
    },
    {
     "data": {
      "application/vnd.jupyter.widget-view+json": {
       "model_id": "0a6ef0d6fd604951863ebf86ae59e2b5",
       "version_major": 2,
       "version_minor": 0
      },
      "text/plain": [
       "HBox(children=(IntProgress(value=0, max=314), HTML(value=u'')))"
      ]
     },
     "metadata": {},
     "output_type": "display_data"
    },
    {
     "name": "stdout",
     "output_type": "stream",
     "text": [
      "Precision@1: 100.0%\n",
      "------------------------------------------------------------------------------------------------------------------------\n",
      "\n",
      "Training on 5 samples per subject.\n"
     ]
    },
    {
     "data": {
      "application/vnd.jupyter.widget-view+json": {
       "model_id": "794fda60dc6d4fcfb1b18127dec4f163",
       "version_major": 2,
       "version_minor": 0
      },
      "text/plain": [
       "HBox(children=(IntProgress(value=0, max=3), HTML(value=u'')))"
      ]
     },
     "metadata": {},
     "output_type": "display_data"
    },
    {
     "name": "stdout",
     "output_type": "stream",
     "text": [
      "------------------------------------------------------------Fold 1------------------------------------------------------------\n",
      "Training and evaluating recognizer (200 samples and 40 subjects)...\n",
      "Train-->\n"
     ]
    },
    {
     "data": {
      "application/vnd.jupyter.widget-view+json": {
       "model_id": "7bb48d28f0c14258b96251042d753614",
       "version_major": 2,
       "version_minor": 0
      },
      "text/plain": [
       "HBox(children=(IntProgress(value=0, max=200), HTML(value=u'')))"
      ]
     },
     "metadata": {},
     "output_type": "display_data"
    },
    {
     "name": "stdout",
     "output_type": "stream",
     "text": [
      "Test-->\n"
     ]
    },
    {
     "data": {
      "application/vnd.jupyter.widget-view+json": {
       "model_id": "0ce453733a8c434abe4afbf027164eb4",
       "version_major": 2,
       "version_minor": 0
      },
      "text/plain": [
       "HBox(children=(IntProgress(value=0, max=194), HTML(value=u'')))"
      ]
     },
     "metadata": {},
     "output_type": "display_data"
    },
    {
     "name": "stdout",
     "output_type": "stream",
     "text": [
      "Precision@1: 100.0%\n",
      "------------------------------------------------------------Fold 2------------------------------------------------------------\n",
      "Training and evaluating recognizer (200 samples and 40 subjects)...\n",
      "Train-->\n"
     ]
    },
    {
     "data": {
      "application/vnd.jupyter.widget-view+json": {
       "model_id": "2f5dfdf75ff6444198111d6c092ca83c",
       "version_major": 2,
       "version_minor": 0
      },
      "text/plain": [
       "HBox(children=(IntProgress(value=0, max=200), HTML(value=u'')))"
      ]
     },
     "metadata": {},
     "output_type": "display_data"
    },
    {
     "name": "stdout",
     "output_type": "stream",
     "text": [
      "Test-->\n"
     ]
    },
    {
     "data": {
      "application/vnd.jupyter.widget-view+json": {
       "model_id": "ee516bde16c74e15a762c42f8268d5ed",
       "version_major": 2,
       "version_minor": 0
      },
      "text/plain": [
       "HBox(children=(IntProgress(value=0, max=194), HTML(value=u'')))"
      ]
     },
     "metadata": {},
     "output_type": "display_data"
    },
    {
     "name": "stdout",
     "output_type": "stream",
     "text": [
      "Precision@1: 100.0%\n",
      "------------------------------------------------------------Fold 3------------------------------------------------------------\n",
      "Training and evaluating recognizer (200 samples and 40 subjects)...\n",
      "Train-->\n"
     ]
    },
    {
     "data": {
      "application/vnd.jupyter.widget-view+json": {
       "model_id": "e1727b0b5193483791d40707beef7b22",
       "version_major": 2,
       "version_minor": 0
      },
      "text/plain": [
       "HBox(children=(IntProgress(value=0, max=200), HTML(value=u'')))"
      ]
     },
     "metadata": {},
     "output_type": "display_data"
    },
    {
     "name": "stdout",
     "output_type": "stream",
     "text": [
      "Test-->\n"
     ]
    },
    {
     "data": {
      "application/vnd.jupyter.widget-view+json": {
       "model_id": "e56e7c4258084b358900e499d9f91cdf",
       "version_major": 2,
       "version_minor": 0
      },
      "text/plain": [
       "HBox(children=(IntProgress(value=0, max=194), HTML(value=u'')))"
      ]
     },
     "metadata": {},
     "output_type": "display_data"
    },
    {
     "name": "stdout",
     "output_type": "stream",
     "text": [
      "Precision@1: 100.0%\n",
      "------------------------------------------------------------------------------------------------------------------------\n",
      "\n",
      "Training on 8 samples per subject.\n"
     ]
    },
    {
     "data": {
      "application/vnd.jupyter.widget-view+json": {
       "model_id": "d06ea5786f694838ad30453e5ce39aa3",
       "version_major": 2,
       "version_minor": 0
      },
      "text/plain": [
       "HBox(children=(IntProgress(value=0, max=3), HTML(value=u'')))"
      ]
     },
     "metadata": {},
     "output_type": "display_data"
    },
    {
     "name": "stdout",
     "output_type": "stream",
     "text": [
      "------------------------------------------------------------Fold 1------------------------------------------------------------\n",
      "Training and evaluating recognizer (304 samples and 38 subjects)...\n",
      "Train-->\n"
     ]
    },
    {
     "data": {
      "application/vnd.jupyter.widget-view+json": {
       "model_id": "7e2ff22247c74801ba3cb0d064c77571",
       "version_major": 2,
       "version_minor": 0
      },
      "text/plain": [
       "HBox(children=(IntProgress(value=0, max=304), HTML(value=u'')))"
      ]
     },
     "metadata": {},
     "output_type": "display_data"
    },
    {
     "name": "stdout",
     "output_type": "stream",
     "text": [
      "Test-->\n"
     ]
    },
    {
     "data": {
      "application/vnd.jupyter.widget-view+json": {
       "model_id": "4ae5d83580204d579442656460c117d8",
       "version_major": 2,
       "version_minor": 0
      },
      "text/plain": [
       "HBox(children=(IntProgress(value=0, max=75), HTML(value=u'')))"
      ]
     },
     "metadata": {},
     "output_type": "display_data"
    },
    {
     "name": "stdout",
     "output_type": "stream",
     "text": [
      "Precision@1: 100.0%\n",
      "------------------------------------------------------------Fold 2------------------------------------------------------------\n",
      "Training and evaluating recognizer (304 samples and 38 subjects)...\n",
      "Train-->\n"
     ]
    },
    {
     "data": {
      "application/vnd.jupyter.widget-view+json": {
       "model_id": "b63fdabcd584488ca593d66b4d225bd0",
       "version_major": 2,
       "version_minor": 0
      },
      "text/plain": [
       "HBox(children=(IntProgress(value=0, max=304), HTML(value=u'')))"
      ]
     },
     "metadata": {},
     "output_type": "display_data"
    },
    {
     "name": "stdout",
     "output_type": "stream",
     "text": [
      "Test-->\n"
     ]
    },
    {
     "data": {
      "application/vnd.jupyter.widget-view+json": {
       "model_id": "a64175df128b458895fe838f7708ef2f",
       "version_major": 2,
       "version_minor": 0
      },
      "text/plain": [
       "HBox(children=(IntProgress(value=0, max=75), HTML(value=u'')))"
      ]
     },
     "metadata": {},
     "output_type": "display_data"
    },
    {
     "name": "stdout",
     "output_type": "stream",
     "text": [
      "Precision@1: 100.0%\n",
      "------------------------------------------------------------Fold 3------------------------------------------------------------\n",
      "Training and evaluating recognizer (304 samples and 38 subjects)...\n",
      "Train-->\n"
     ]
    },
    {
     "data": {
      "application/vnd.jupyter.widget-view+json": {
       "model_id": "b0e218aa10d24a6ab1d7a69e1d71753b",
       "version_major": 2,
       "version_minor": 0
      },
      "text/plain": [
       "HBox(children=(IntProgress(value=0, max=304), HTML(value=u'')))"
      ]
     },
     "metadata": {},
     "output_type": "display_data"
    },
    {
     "name": "stdout",
     "output_type": "stream",
     "text": [
      "Test-->\n"
     ]
    },
    {
     "data": {
      "application/vnd.jupyter.widget-view+json": {
       "model_id": "d577ade7e489463bbe3005bc9ff917f5",
       "version_major": 2,
       "version_minor": 0
      },
      "text/plain": [
       "HBox(children=(IntProgress(value=0, max=75), HTML(value=u'')))"
      ]
     },
     "metadata": {},
     "output_type": "display_data"
    },
    {
     "name": "stdout",
     "output_type": "stream",
     "text": [
      "Precision@1: 100.0%\n",
      "------------------------------------------------------------------------------------------------------------------------\n",
      "\n",
      "\n",
      "done.\n"
     ]
    }
   ],
   "source": [
    "print \"Evaluating algorithm on \", training_samples, \" training samples per subject...\"\n",
    "for i in tqdm.tnrange(0, len(training_samples)):\n",
    "    #print \"Training on\", training_samples[i], \"samples per subject.\"\n",
    "    num_train = training_samples[i]\n",
    "    tqdm.tqdm.write(\"Training on \" + str(num_train) + \" samples per subject.\")\n",
    "    fold_result = []\n",
    "    for fold in tqdm.tnrange(1, folds+1):\n",
    "        #print \"-\"*60, \"Fold\", fold, \"-\"*60\n",
    "        tqdm.tqdm.write(\"-\"*60 + \"Fold \" + str(fold) + \"-\"*60)\n",
    "        X_train, y_train = dataset.load_data(is_train=True, fold=fold, num_train=num_train)\n",
    "\n",
    "        #print \"Training and evaluating recognizer (\", len(X_train), \"samples and\", len(\n",
    "        #   np.unique(y_train)), \"subjects)...\"\n",
    "        tqdm.tqdm.write(\"Training and evaluating recognizer (\" + str(len(X_train)) + \" samples and \" + str(len(\n",
    "            np.unique(y_train))) + \" subjects)...\")\n",
    "        \n",
    "        #print \"Step 1. Generating embeddings...\"\n",
    "        #print \"Train--->\"\n",
    "        tqdm.tqdm.write(\"Train-->\")\n",
    "        embeddings = recognizer_model.embed(X_train)\n",
    "        #print \"completed.\"\n",
    "\n",
    "        #print \"Step 2. Training linear SVM model...\"\n",
    "        recognizer_model.fit_embeddings(embeddings, y_train)\n",
    "        #print \"completed.\"\n",
    "\n",
    "        X_test, y_test = dataset.load_data(is_train=False, fold=fold, num_train=num_train)\n",
    "        #print \"Predicting on (\", len(X_test), \"samples)...\"\n",
    "\n",
    "        #print \"Step 1. Generating embeddings...\"\n",
    "        # print \"Test--->\"\n",
    "        tqdm.tqdm.write(\"Test-->\")\n",
    "        embeddings = recognizer_model.embed(X_test)\n",
    "        #print \"completed.\"\n",
    "\n",
    "        #print \"Step 2. Evaluating on linear SVM model...\"\n",
    "        result = recognizer_model.evaluate(embeddings, y_test)\n",
    "        \n",
    "        fold_result.append(result)\n",
    "        #print \"Done\"\n",
    "        #print \"Precision@1:\", result, \"%\"\n",
    "        tqdm.tqdm.write(\"Precision@1: \" + str(result) + \"%\")\n",
    "    \n",
    "    results.append(fold_result)\n",
    "\n",
    "    #print \"-\"*120, \"\\n\"\n",
    "    tqdm.tqdm.write(\"-\"*120 + \"\\n\")\n",
    "    \n",
    "print \"done.\""
   ]
  },
  {
   "cell_type": "code",
   "execution_count": 8,
   "metadata": {},
   "outputs": [
    {
     "data": {
      "text/plain": [
       "[[99.68152866242038, 100.0, 100.0],\n",
       " [100.0, 100.0, 100.0],\n",
       " [100.0, 100.0, 100.0]]"
      ]
     },
     "execution_count": 8,
     "metadata": {},
     "output_type": "execute_result"
    }
   ],
   "source": [
    "att_results = results\n",
    "att_results"
   ]
  },
  {
   "cell_type": "markdown",
   "metadata": {},
   "source": [
    "### Cyber Extruder Ultimate Dataset"
   ]
  },
  {
   "cell_type": "code",
   "execution_count": 9,
   "metadata": {},
   "outputs": [],
   "source": [
    "dataset_path =  \"/media/ankurrc/new_volume/softura/facerec/datasets/norm_cyber_extruder_ultimate\""
   ]
  },
  {
   "cell_type": "code",
   "execution_count": 10,
   "metadata": {},
   "outputs": [],
   "source": [
    "recognizer_model = recognizer_model = FaceRecognizer(\n",
    "        model_path=\"deep/dlib_face_recognition_resnet_model_v1.dat\",\n",
    "        shape_predictor_path=\"deep/shape_predictor_5_face_landmarks.dat\")\n",
    "dataset = Dataset(dataset_path)\n",
    "results = []"
   ]
  },
  {
   "cell_type": "code",
   "execution_count": 11,
   "metadata": {},
   "outputs": [
    {
     "name": "stdout",
     "output_type": "stream",
     "text": [
      "Evaluating algorithm on  [2, 5, 8]  training samples per subject...\n"
     ]
    },
    {
     "data": {
      "application/vnd.jupyter.widget-view+json": {
       "model_id": "50dafef6b817455b976a328f98aad34f",
       "version_major": 2,
       "version_minor": 0
      },
      "text/plain": [
       "HBox(children=(IntProgress(value=0, max=3), HTML(value=u'')))"
      ]
     },
     "metadata": {},
     "output_type": "display_data"
    },
    {
     "name": "stdout",
     "output_type": "stream",
     "text": [
      "Training on 2 samples per subject.\n"
     ]
    },
    {
     "data": {
      "application/vnd.jupyter.widget-view+json": {
       "model_id": "542b8bcfa65047c183ded8ba8404ee93",
       "version_major": 2,
       "version_minor": 0
      },
      "text/plain": [
       "HBox(children=(IntProgress(value=0, max=3), HTML(value=u'')))"
      ]
     },
     "metadata": {},
     "output_type": "display_data"
    },
    {
     "name": "stdout",
     "output_type": "stream",
     "text": [
      "------------------------------------------------------------Fold 1------------------------------------------------------------\n",
      "Training and evaluating recognizer (1998 samples and 999 subjects)...\n",
      "Train-->\n"
     ]
    },
    {
     "data": {
      "application/vnd.jupyter.widget-view+json": {
       "model_id": "45622403ad8f44f8836d35c396025277",
       "version_major": 2,
       "version_minor": 0
      },
      "text/plain": [
       "HBox(children=(IntProgress(value=0, max=1998), HTML(value=u'')))"
      ]
     },
     "metadata": {},
     "output_type": "display_data"
    },
    {
     "name": "stdout",
     "output_type": "stream",
     "text": [
      "Test-->\n"
     ]
    },
    {
     "data": {
      "application/vnd.jupyter.widget-view+json": {
       "model_id": "9971b97bc77444c2b3584c17d15693dc",
       "version_major": 2,
       "version_minor": 0
      },
      "text/plain": [
       "HBox(children=(IntProgress(value=0, max=5186), HTML(value=u'')))"
      ]
     },
     "metadata": {},
     "output_type": "display_data"
    },
    {
     "name": "stdout",
     "output_type": "stream",
     "text": [
      "Precision@1: 94.56228306980333%\n",
      "------------------------------------------------------------Fold 2------------------------------------------------------------\n",
      "Training and evaluating recognizer (1998 samples and 999 subjects)...\n",
      "Train-->\n"
     ]
    },
    {
     "data": {
      "application/vnd.jupyter.widget-view+json": {
       "model_id": "269c177e7c2d4f4aa13e6e6cc64a78f8",
       "version_major": 2,
       "version_minor": 0
      },
      "text/plain": [
       "HBox(children=(IntProgress(value=0, max=1998), HTML(value=u'')))"
      ]
     },
     "metadata": {},
     "output_type": "display_data"
    },
    {
     "name": "stdout",
     "output_type": "stream",
     "text": [
      "Test-->\n"
     ]
    },
    {
     "data": {
      "application/vnd.jupyter.widget-view+json": {
       "model_id": "5839342083e942ba85906e2f31eb98a8",
       "version_major": 2,
       "version_minor": 0
      },
      "text/plain": [
       "HBox(children=(IntProgress(value=0, max=5186), HTML(value=u'')))"
      ]
     },
     "metadata": {},
     "output_type": "display_data"
    },
    {
     "name": "stdout",
     "output_type": "stream",
     "text": [
      "Precision@1: 94.79367527959892%\n",
      "------------------------------------------------------------Fold 3------------------------------------------------------------\n",
      "Training and evaluating recognizer (1998 samples and 999 subjects)...\n",
      "Train-->\n"
     ]
    },
    {
     "data": {
      "application/vnd.jupyter.widget-view+json": {
       "model_id": "e053788fa7cb4583a725639c93d57744",
       "version_major": 2,
       "version_minor": 0
      },
      "text/plain": [
       "HBox(children=(IntProgress(value=0, max=1998), HTML(value=u'')))"
      ]
     },
     "metadata": {},
     "output_type": "display_data"
    },
    {
     "name": "stdout",
     "output_type": "stream",
     "text": [
      "Test-->\n"
     ]
    },
    {
     "data": {
      "application/vnd.jupyter.widget-view+json": {
       "model_id": "505b9e705cf14abda1943ad6e409c698",
       "version_major": 2,
       "version_minor": 0
      },
      "text/plain": [
       "HBox(children=(IntProgress(value=0, max=5186), HTML(value=u'')))"
      ]
     },
     "metadata": {},
     "output_type": "display_data"
    },
    {
     "name": "stdout",
     "output_type": "stream",
     "text": [
      "Precision@1: 94.60084843810257%\n",
      "------------------------------------------------------------------------------------------------------------------------\n",
      "\n",
      "Training on 5 samples per subject.\n"
     ]
    },
    {
     "data": {
      "application/vnd.jupyter.widget-view+json": {
       "model_id": "3d6474a117b74ca794ad24c3299607b5",
       "version_major": 2,
       "version_minor": 0
      },
      "text/plain": [
       "HBox(children=(IntProgress(value=0, max=3), HTML(value=u'')))"
      ]
     },
     "metadata": {},
     "output_type": "display_data"
    },
    {
     "name": "stdout",
     "output_type": "stream",
     "text": [
      "------------------------------------------------------------Fold 1------------------------------------------------------------\n",
      "Training and evaluating recognizer (3715 samples and 743 subjects)...\n",
      "Train-->\n"
     ]
    },
    {
     "data": {
      "application/vnd.jupyter.widget-view+json": {
       "model_id": "1331fa62affa4e1892a42db003c742fa",
       "version_major": 2,
       "version_minor": 0
      },
      "text/plain": [
       "HBox(children=(IntProgress(value=0, max=3715), HTML(value=u'')))"
      ]
     },
     "metadata": {},
     "output_type": "display_data"
    },
    {
     "name": "stdout",
     "output_type": "stream",
     "text": [
      "Test-->\n"
     ]
    },
    {
     "data": {
      "application/vnd.jupyter.widget-view+json": {
       "model_id": "2980a6c1c97843c0961adf73b9c6bff4",
       "version_major": 2,
       "version_minor": 0
      },
      "text/plain": [
       "HBox(children=(IntProgress(value=0, max=2349), HTML(value=u'')))"
      ]
     },
     "metadata": {},
     "output_type": "display_data"
    },
    {
     "name": "stdout",
     "output_type": "stream",
     "text": [
      "Precision@1: 98.21200510855684%\n",
      "------------------------------------------------------------Fold 2------------------------------------------------------------\n",
      "Training and evaluating recognizer (3715 samples and 743 subjects)...\n",
      "Train-->\n"
     ]
    },
    {
     "data": {
      "application/vnd.jupyter.widget-view+json": {
       "model_id": "5e652050bd71432eb2fdc799e2a8c0cc",
       "version_major": 2,
       "version_minor": 0
      },
      "text/plain": [
       "HBox(children=(IntProgress(value=0, max=3715), HTML(value=u'')))"
      ]
     },
     "metadata": {},
     "output_type": "display_data"
    },
    {
     "name": "stdout",
     "output_type": "stream",
     "text": [
      "Test-->\n"
     ]
    },
    {
     "data": {
      "application/vnd.jupyter.widget-view+json": {
       "model_id": "e45e3b7e8b8e4811b779751c7952c2ca",
       "version_major": 2,
       "version_minor": 0
      },
      "text/plain": [
       "HBox(children=(IntProgress(value=0, max=2349), HTML(value=u'')))"
      ]
     },
     "metadata": {},
     "output_type": "display_data"
    },
    {
     "name": "stdout",
     "output_type": "stream",
     "text": [
      "Precision@1: 98.42486164325244%\n",
      "------------------------------------------------------------Fold 3------------------------------------------------------------\n",
      "Training and evaluating recognizer (3715 samples and 743 subjects)...\n",
      "Train-->\n"
     ]
    },
    {
     "data": {
      "application/vnd.jupyter.widget-view+json": {
       "model_id": "7cdcd8d9ce71408dbde0a7f9f76e6641",
       "version_major": 2,
       "version_minor": 0
      },
      "text/plain": [
       "HBox(children=(IntProgress(value=0, max=3715), HTML(value=u'')))"
      ]
     },
     "metadata": {},
     "output_type": "display_data"
    },
    {
     "name": "stdout",
     "output_type": "stream",
     "text": [
      "Test-->\n"
     ]
    },
    {
     "data": {
      "application/vnd.jupyter.widget-view+json": {
       "model_id": "9f1cdcd4a8314865beed5059d4f5d8c6",
       "version_major": 2,
       "version_minor": 0
      },
      "text/plain": [
       "HBox(children=(IntProgress(value=0, max=2349), HTML(value=u'')))"
      ]
     },
     "metadata": {},
     "output_type": "display_data"
    },
    {
     "name": "stdout",
     "output_type": "stream",
     "text": [
      "Precision@1: 98.42486164325244%\n",
      "------------------------------------------------------------------------------------------------------------------------\n",
      "\n",
      "Training on 8 samples per subject.\n"
     ]
    },
    {
     "data": {
      "application/vnd.jupyter.widget-view+json": {
       "model_id": "ca67896a2c32401c9fad02c02806e10f",
       "version_major": 2,
       "version_minor": 0
      },
      "text/plain": [
       "HBox(children=(IntProgress(value=0, max=3), HTML(value=u'')))"
      ]
     },
     "metadata": {},
     "output_type": "display_data"
    },
    {
     "name": "stdout",
     "output_type": "stream",
     "text": [
      "------------------------------------------------------------Fold 1------------------------------------------------------------\n",
      "Training and evaluating recognizer (3520 samples and 440 subjects)...\n",
      "Train-->\n"
     ]
    },
    {
     "data": {
      "application/vnd.jupyter.widget-view+json": {
       "model_id": "1230fe7c13ea42acac6062a259b779c5",
       "version_major": 2,
       "version_minor": 0
      },
      "text/plain": [
       "HBox(children=(IntProgress(value=0, max=3520), HTML(value=u'')))"
      ]
     },
     "metadata": {},
     "output_type": "display_data"
    },
    {
     "name": "stdout",
     "output_type": "stream",
     "text": [
      "Test-->\n"
     ]
    },
    {
     "data": {
      "application/vnd.jupyter.widget-view+json": {
       "model_id": "3e08946a389d4a9b894628f032c5363e",
       "version_major": 2,
       "version_minor": 0
      },
      "text/plain": [
       "HBox(children=(IntProgress(value=0, max=440), HTML(value=u'')))"
      ]
     },
     "metadata": {},
     "output_type": "display_data"
    },
    {
     "name": "stdout",
     "output_type": "stream",
     "text": [
      "Precision@1: 99.0909090909091%\n",
      "------------------------------------------------------------Fold 2------------------------------------------------------------\n",
      "Training and evaluating recognizer (3520 samples and 440 subjects)...\n",
      "Train-->\n"
     ]
    },
    {
     "data": {
      "application/vnd.jupyter.widget-view+json": {
       "model_id": "c91f251b0f3a4d799afa2a913976e112",
       "version_major": 2,
       "version_minor": 0
      },
      "text/plain": [
       "HBox(children=(IntProgress(value=0, max=3520), HTML(value=u'')))"
      ]
     },
     "metadata": {},
     "output_type": "display_data"
    },
    {
     "name": "stdout",
     "output_type": "stream",
     "text": [
      "Test-->\n"
     ]
    },
    {
     "data": {
      "application/vnd.jupyter.widget-view+json": {
       "model_id": "633ccd7d3e2140b8a7f53ff06516da32",
       "version_major": 2,
       "version_minor": 0
      },
      "text/plain": [
       "HBox(children=(IntProgress(value=0, max=440), HTML(value=u'')))"
      ]
     },
     "metadata": {},
     "output_type": "display_data"
    },
    {
     "name": "stdout",
     "output_type": "stream",
     "text": [
      "Precision@1: 98.63636363636363%\n",
      "------------------------------------------------------------Fold 3------------------------------------------------------------\n",
      "Training and evaluating recognizer (3520 samples and 440 subjects)...\n",
      "Train-->\n"
     ]
    },
    {
     "data": {
      "application/vnd.jupyter.widget-view+json": {
       "model_id": "dd731bc0599f42fd9aa737c1dfb30308",
       "version_major": 2,
       "version_minor": 0
      },
      "text/plain": [
       "HBox(children=(IntProgress(value=0, max=3520), HTML(value=u'')))"
      ]
     },
     "metadata": {},
     "output_type": "display_data"
    },
    {
     "name": "stdout",
     "output_type": "stream",
     "text": [
      "Test-->\n"
     ]
    },
    {
     "data": {
      "application/vnd.jupyter.widget-view+json": {
       "model_id": "476dc4608377487e985f358adc63baf6",
       "version_major": 2,
       "version_minor": 0
      },
      "text/plain": [
       "HBox(children=(IntProgress(value=0, max=440), HTML(value=u'')))"
      ]
     },
     "metadata": {},
     "output_type": "display_data"
    },
    {
     "name": "stdout",
     "output_type": "stream",
     "text": [
      "Precision@1: 99.77272727272727%\n",
      "------------------------------------------------------------------------------------------------------------------------\n",
      "\n",
      "\n",
      "done.\n"
     ]
    }
   ],
   "source": [
    "print \"Evaluating algorithm on \", training_samples, \" training samples per subject...\"\n",
    "for i in tqdm.tnrange(0, len(training_samples)):\n",
    "    #print \"Training on\", training_samples[i], \"samples per subject.\"\n",
    "    num_train = training_samples[i]\n",
    "    tqdm.tqdm.write(\"Training on \" + str(num_train) + \" samples per subject.\")\n",
    "    fold_result = []\n",
    "    for fold in tqdm.tnrange(1, folds+1):\n",
    "        #print \"-\"*60, \"Fold\", fold, \"-\"*60\n",
    "        tqdm.tqdm.write(\"-\"*60 + \"Fold \" + str(fold) + \"-\"*60)\n",
    "        X_train, y_train = dataset.load_data(is_train=True, fold=fold, num_train=num_train)\n",
    "\n",
    "        #print \"Training and evaluating recognizer (\", len(X_train), \"samples and\", len(\n",
    "        #   np.unique(y_train)), \"subjects)...\"\n",
    "        tqdm.tqdm.write(\"Training and evaluating recognizer (\" + str(len(X_train)) + \" samples and \" + str(len(\n",
    "            np.unique(y_train))) + \" subjects)...\")\n",
    "        \n",
    "        #print \"Step 1. Generating embeddings...\"\n",
    "        #print \"Train--->\"\n",
    "        tqdm.tqdm.write(\"Train-->\")\n",
    "        embeddings = recognizer_model.embed(X_train)\n",
    "        #print \"completed.\"\n",
    "\n",
    "        #print \"Step 2. Training linear SVM model...\"\n",
    "        recognizer_model.fit_embeddings(embeddings, y_train)\n",
    "        #print \"completed.\"\n",
    "\n",
    "        X_test, y_test = dataset.load_data(is_train=False, fold=fold, num_train=num_train)\n",
    "        #print \"Predicting on (\", len(X_test), \"samples)...\"\n",
    "\n",
    "        #print \"Step 1. Generating embeddings...\"\n",
    "        # print \"Test--->\"\n",
    "        tqdm.tqdm.write(\"Test-->\")\n",
    "        embeddings = recognizer_model.embed(X_test)\n",
    "        #print \"completed.\"\n",
    "\n",
    "        #print \"Step 2. Evaluating on linear SVM model...\"\n",
    "        result = recognizer_model.evaluate(embeddings, y_test)\n",
    "        \n",
    "        fold_result.append(result)\n",
    "        #print \"Done\"\n",
    "        #print \"Precision@1:\", result, \"%\"\n",
    "        tqdm.tqdm.write(\"Precision@1: \" + str(result) + \"%\")\n",
    "    \n",
    "    results.append(fold_result)\n",
    "\n",
    "    #print \"-\"*120, \"\\n\"\n",
    "    tqdm.tqdm.write(\"-\"*120 + \"\\n\")\n",
    "    \n",
    "print \"done.\""
   ]
  },
  {
   "cell_type": "markdown",
   "metadata": {},
   "source": [
    "## Results"
   ]
  },
  {
   "cell_type": "code",
   "execution_count": 12,
   "metadata": {},
   "outputs": [
    {
     "data": {
      "text/plain": [
       "[[94.56228306980333, 94.79367527959892, 94.60084843810257],\n",
       " [98.21200510855684, 98.42486164325244, 98.42486164325244],\n",
       " [99.0909090909091, 98.63636363636363, 99.77272727272727]]"
      ]
     },
     "execution_count": 12,
     "metadata": {},
     "output_type": "execute_result"
    }
   ],
   "source": [
    "ceu_results = results\n",
    "ceu_results"
   ]
  },
  {
   "cell_type": "code",
   "execution_count": 13,
   "metadata": {},
   "outputs": [],
   "source": [
    "att_lbph = np.array([[87.89, 85.98, 87.89], [95.87, 97.93, 96.39], [98.6, 100.0, 100.0]])\n",
    "ceu_lbph = np.array([[24.16, 23.33, 24.18], [37.37, 37.54, 38.48], [51.81 ,47.27, 51.13]])\n",
    "samples_subject = [2, 5, 8]"
   ]
  },
  {
   "cell_type": "code",
   "execution_count": 14,
   "metadata": {},
   "outputs": [],
   "source": [
    "att_avg = np.mean(axis=1, a=att_results)\n",
    "ceu_avg = np.mean(axis=1, a=ceu_results)\n",
    "att_lbph_avg = np.mean(axis=1, a=att_lbph)\n",
    "ceu_lbph_avg = np.mean(axis=1, a=ceu_lbph)"
   ]
  },
  {
   "cell_type": "code",
   "execution_count": 17,
   "metadata": {},
   "outputs": [],
   "source": [
    "import matplotlib.pyplot as plt\n",
    "plt.rcParams['figure.figsize'] = [15, 7]"
   ]
  },
  {
   "cell_type": "code",
   "execution_count": 18,
   "metadata": {},
   "outputs": [
    {
     "data": {
      "image/png": "[encoded data removed]",
      "text/plain": [
       "<Figure size 1080x504 with 1 Axes>"
      ]
     },
     "metadata": {},
     "output_type": "display_data"
    }
   ],
   "source": [
    "plt.xlabel('Number of training samples')\n",
    "plt.ylabel('Precision')\n",
    "plt.plot(samples_subject, att_avg, label=\"ATT DML\")\n",
    "plt.plot(samples_subject, ceu_avg, label=\"Cyber Extruder DML\")\n",
    "plt.plot(samples_subject, att_lbph_avg, label=\"ATT LBPH\")\n",
    "plt.plot(samples_subject, ceu_lbph_avg, label=\"Cyber Extruder LBPH\")\n",
    "plt.legend(loc='lower right')\n",
    "plt.grid(True)\n",
    "plt.show()"
   ]
  },
  {
   "cell_type": "code",
   "execution_count": null,
   "metadata": {},
   "outputs": [],
   "source": []
  }
 ],
 "metadata": {
  "kernelspec": {
   "display_name": "Python 2",
   "language": "python",
   "name": "python2"
  },
  "language_info": {
   "codemirror_mode": {
    "name": "ipython",
    "version": 2
   },
   "file_extension": ".py",
   "mimetype": "text/x-python",
   "name": "python",
   "nbconvert_exporter": "python",
   "pygments_lexer": "ipython2",
   "version": "2.7.14"
  },
  "widgets": {
   "application/vnd.jupyter.widget-state+json": {
    "state": {
     "022f04c1edad4fceac7e801bb18902da": {
      "model_module": "@jupyter-widgets/controls",
      "model_module_version": "1.2.0",
      "model_name": "DescriptionStyleModel",
      "state": {
       "description_width": ""
      }
     },
     "02a830003031416c8e78a3589193ed3b": {
      "model_module": "@jupyter-widgets/controls",
      "model_module_version": "1.2.0",
      "model_name": "DescriptionStyleModel",
      "state": {
       "description_width": ""
      }
     },
     "032473dab1854b3ca32a1fb8dcafe776": {
      "model_module": "@jupyter-widgets/base",
      "model_module_version": "1.0.0",
      "model_name": "LayoutModel",
      "state": {}
     },
     "03381de84cfd40d69bfa1cc181dd5ec4": {
      "model_module": "@jupyter-widgets/controls",
      "model_module_version": "1.2.0",
      "model_name": "DescriptionStyleModel",
      "state": {
       "description_width": ""
      }
     },
     "03a90426e940479688127bb6abcc849f": {
      "model_module": "@jupyter-widgets/base",
      "model_module_version": "1.0.0",
      "model_name": "LayoutModel",
      "state": {}
     },
     "046ab15f84a74392981ba1cbf2ddf1bc": {
      "model_module": "@jupyter-widgets/controls",
      "model_module_version": "1.2.0",
      "model_name": "DescriptionStyleModel",
      "state": {
       "description_width": ""
      }
     },
     "04f01fab9a3144ff991f1ae73cd49bf5": {
      "model_module": "@jupyter-widgets/controls",
      "model_module_version": "1.2.0",
      "model_name": "DescriptionStyleModel",
      "state": {
       "description_width": ""
      }
     },
     "04fa75f9fca446b3bbc3b00b16659bf3": {
      "model_module": "@jupyter-widgets/controls",
      "model_module_version": "1.2.0",
      "model_name": "HTMLModel",
      "state": {
       "layout": "IPY_MODEL_b43d17a704a0480ca3fec0e9c487e799",
       "style": "IPY_MODEL_65126b14ef9b45338e9997b34970e04c",
       "value": "100% 5186/5186 [03:08&lt;00:00, 27.46it/s]"
      }
     },
     "0563a85ba8c444508185497c6087dd18": {
      "model_module": "@jupyter-widgets/controls",
      "model_module_version": "1.2.0",
      "model_name": "DescriptionStyleModel",
      "state": {
       "description_width": ""
      }
     },
     "05804455a61042ebbd7210cc8349a763": {
      "model_module": "@jupyter-widgets/controls",
      "model_module_version": "1.2.0",
      "model_name": "HTMLModel",
      "state": {
       "layout": "IPY_MODEL_9844b3b048844da69516b1df16e8e553",
       "style": "IPY_MODEL_ba738ceb2926479e98d402d961f04be4",
       "value": "100% 314/314 [00:09&lt;00:00, 33.43it/s]"
      }
     },
     "059b15e028874e48bc22c551cc77b0de": {
      "model_module": "@jupyter-widgets/controls",
      "model_module_version": "1.2.0",
      "model_name": "ProgressStyleModel",
      "state": {
       "description_width": ""
      }
     },
     "05cb1ef7ea8e4044b9edb65d5c08b254": {
      "model_module": "@jupyter-widgets/controls",
      "model_module_version": "1.2.0",
      "model_name": "IntProgressModel",
      "state": {
       "bar_style": "success",
       "layout": "IPY_MODEL_39265722de7044a398f0759d373bc337",
       "max": 2349,
       "style": "IPY_MODEL_602f55a453634c14b2a948aecf21f62a",
       "value": 2349
      }
     },
     "07d19ad4dbb642df94499daa3c3faecc": {
      "model_module": "@jupyter-widgets/controls",
      "model_module_version": "1.2.0",
      "model_name": "HTMLModel",
      "state": {
       "layout": "IPY_MODEL_a7c13deab294407490f243c13c0f52f4",
       "style": "IPY_MODEL_559d5dc5e2d347a49f263b276819f7ae",
       "value": "100% 200/200 [00:09&lt;00:00, 22.13it/s]"
      }
     },
     "08705b2a7768438199ba85448f4f0ab5": {
      "model_module": "@jupyter-widgets/base",
      "model_module_version": "1.0.0",
      "model_name": "LayoutModel",
      "state": {}
     },
     "08b9cdf2a0a34da0a6e06c0cf103dd5d": {
      "model_module": "@jupyter-widgets/controls",
      "model_module_version": "1.2.0",
      "model_name": "ProgressStyleModel",
      "state": {
       "description_width": ""
      }
     },
     "097f51c62ab14718bae44c342d984cd8": {
      "model_module": "@jupyter-widgets/controls",
      "model_module_version": "1.2.0",
      "model_name": "ProgressStyleModel",
      "state": {
       "description_width": ""
      }
     },
     "09a481db1b5a4078a2763967d8799f0c": {
      "model_module": "@jupyter-widgets/controls",
      "model_module_version": "1.2.0",
      "model_name": "IntProgressModel",
      "state": {
       "bar_style": "success",
       "layout": "IPY_MODEL_95fbb94bd8f3443f80f1ed0d55bcd04e",
       "max": 440,
       "style": "IPY_MODEL_1289b2901a954d758c7d337f1c7645ff",
       "value": 440
      }
     },
     "0a6ef0d6fd604951863ebf86ae59e2b5": {
      "model_module": "@jupyter-widgets/controls",
      "model_module_version": "1.2.0",
      "model_name": "HBoxModel",
      "state": {
       "children": [
        "IPY_MODEL_f14a9da1c81a4e698871d66ab08e1fa4",
        "IPY_MODEL_05804455a61042ebbd7210cc8349a763"
       ],
       "layout": "IPY_MODEL_3d93540c4a5a49539f62a28befbe0823"
      }
     },
     "0ab2a33f2cb34e168cbacef8851cb08b": {
      "model_module": "@jupyter-widgets/base",
      "model_module_version": "1.0.0",
      "model_name": "LayoutModel",
      "state": {}
     },
     "0c9d2a42e2e14ed9b2b4a700f62a3f76": {
      "model_module": "@jupyter-widgets/controls",
      "model_module_version": "1.2.0",
      "model_name": "DescriptionStyleModel",
      "state": {
       "description_width": ""
      }
     },
     "0cdb9466807c4788aef0e6b6162cbbd2": {
      "model_module": "@jupyter-widgets/base",
      "model_module_version": "1.0.0",
      "model_name": "LayoutModel",
      "state": {}
     },
     "0ce453733a8c434abe4afbf027164eb4": {
      "model_module": "@jupyter-widgets/controls",
      "model_module_version": "1.2.0",
      "model_name": "HBoxModel",
      "state": {
       "children": [
        "IPY_MODEL_1d326913d6914b719da8d47ad9aa0cf9",
        "IPY_MODEL_2b5c1d5cc6b7453b8e8ad3d1cb84baa6"
       ],
       "layout": "IPY_MODEL_db5cc5028f9445e8a44d6ba9d9211cb8"
      }
     },
     "0d8686b91c464bd9a7f3ac245ed69063": {
      "model_module": "@jupyter-widgets/base",
      "model_module_version": "1.0.0",
      "model_name": "LayoutModel",
      "state": {}
     },
     "0db394fd9f534a9888c2e1e47955e45d": {
      "model_module": "@jupyter-widgets/controls",
      "model_module_version": "1.2.0",
      "model_name": "HTMLModel",
      "state": {
       "layout": "IPY_MODEL_920bedc78a17432b80cd5fc532758875",
       "style": "IPY_MODEL_776f79d58bf64c638b0ba2c521b27a91",
       "value": "100% 304/304 [00:12&lt;00:00, 25.14it/s]"
      }
     },
     "0dc7db6b3fef474baf8325f422b09327": {
      "model_module": "@jupyter-widgets/controls",
      "model_module_version": "1.2.0",
      "model_name": "ProgressStyleModel",
      "state": {
       "description_width": ""
      }
     },
     "108cc6e6825f473ea538f7116c422661": {
      "model_module": "@jupyter-widgets/base",
      "model_module_version": "1.0.0",
      "model_name": "LayoutModel",
      "state": {}
     },
     "11658a10bfe74d43b87b8575d4e2c4ce": {
      "model_module": "@jupyter-widgets/base",
      "model_module_version": "1.0.0",
      "model_name": "LayoutModel",
      "state": {}
     },
     "11a56dc42a324aa3b77ccdd0eb12c42b": {
      "model_module": "@jupyter-widgets/controls",
      "model_module_version": "1.2.0",
      "model_name": "IntProgressModel",
      "state": {
       "bar_style": "success",
       "layout": "IPY_MODEL_dce80ebf376a4db680cf3fa9e4debd0d",
       "max": 80,
       "style": "IPY_MODEL_e519f3e895194488b7c65e085051b6e3",
       "value": 80
      }
     },
     "11bed0cc2f2e48f1936f2fc9cdfba3f9": {
      "model_module": "@jupyter-widgets/base",
      "model_module_version": "1.0.0",
      "model_name": "LayoutModel",
      "state": {}
     },
     "1230fe7c13ea42acac6062a259b779c5": {
      "model_module": "@jupyter-widgets/controls",
      "model_module_version": "1.2.0",
      "model_name": "HBoxModel",
      "state": {
       "children": [
        "IPY_MODEL_4ec03a473d5e4aa2b3fadfa68bdedfae",
        "IPY_MODEL_bbfd8c4d0733436ab50e69dafae9d636"
       ],
       "layout": "IPY_MODEL_08705b2a7768438199ba85448f4f0ab5"
      }
     },
     "1289b2901a954d758c7d337f1c7645ff": {
      "model_module": "@jupyter-widgets/controls",
      "model_module_version": "1.2.0",
      "model_name": "ProgressStyleModel",
      "state": {
       "description_width": ""
      }
     },
     "1331fa62affa4e1892a42db003c742fa": {
      "model_module": "@jupyter-widgets/controls",
      "model_module_version": "1.2.0",
      "model_name": "HBoxModel",
      "state": {
       "children": [
        "IPY_MODEL_415ef3fbd95448569b716ea340f0d5b8",
        "IPY_MODEL_192ce5f5a22e4e18b4e13a81fbcc32fe"
       ],
       "layout": "IPY_MODEL_bb7c9a52ccaf4bdbaa290ef7d61c09c1"
      }
     },
     "1358ac298c2b493998e9aa2b72bf31d5": {
      "model_module": "@jupyter-widgets/controls",
      "model_module_version": "1.2.0",
      "model_name": "ProgressStyleModel",
      "state": {
       "description_width": ""
      }
     },
     "1403fba187f74215928467070b47a968": {
      "model_module": "@jupyter-widgets/controls",
      "model_module_version": "1.2.0",
      "model_name": "HTMLModel",
      "state": {
       "layout": "IPY_MODEL_7c12958d2dad4cb4a8b4a6c03980f003",
       "style": "IPY_MODEL_696428c1abf24b8c8c64f16f2d1eb1fa",
       "value": "100% 75/75 [00:02&lt;00:00, 29.65it/s]"
      }
     },
     "158081c4f3244080b6284b6be0e72155": {
      "model_module": "@jupyter-widgets/controls",
      "model_module_version": "1.2.0",
      "model_name": "HTMLModel",
      "state": {
       "layout": "IPY_MODEL_8f58d007dbb64c2f8f5e95fa58443559",
       "style": "IPY_MODEL_5e36b76d357c4f5aad6e4ed37a225722",
       "value": "100% 1998/1998 [01:12&lt;00:00, 27.45it/s]"
      }
     },
     "1661a6e4dac04e66a960bce97f444997": {
      "model_module": "@jupyter-widgets/base",
      "model_module_version": "1.0.0",
      "model_name": "LayoutModel",
      "state": {}
     },
     "172816c22c2341c5b36185f97669a08d": {
      "model_module": "@jupyter-widgets/controls",
      "model_module_version": "1.2.0",
      "model_name": "IntProgressModel",
      "state": {
       "bar_style": "success",
       "layout": "IPY_MODEL_b3ead7aa3a99459fa465f92a9caa6d3f",
       "max": 200,
       "style": "IPY_MODEL_a67ffe73eb1141b0bed5d5a4fecaed80",
       "value": 200
      }
     },
     "1890751cb1eb47f79b4e1e70c54dd96e": {
      "model_module": "@jupyter-widgets/controls",
      "model_module_version": "1.2.0",
      "model_name": "HTMLModel",
      "state": {
       "layout": "IPY_MODEL_6d7ad0f1f2b94e0db1b711722f4ae490",
       "style": "IPY_MODEL_621ddaf6fb304cd09b5fbb5154cb137a",
       "value": "100% 304/304 [00:14&lt;00:00, 21.23it/s]"
      }
     },
     "18b18f149e43498cabdcfaa5e4a2933b": {
      "model_module": "@jupyter-widgets/base",
      "model_module_version": "1.0.0",
      "model_name": "LayoutModel",
      "state": {}
     },
     "18b3a70d263b415f8de99963b4e6bd2c": {
      "model_module": "@jupyter-widgets/controls",
      "model_module_version": "1.2.0",
      "model_name": "HTMLModel",
      "state": {
       "layout": "IPY_MODEL_87af3bfe9de84cdeb476333366b82949",
       "style": "IPY_MODEL_0563a85ba8c444508185497c6087dd18",
       "value": "100% 3715/3715 [02:02&lt;00:00, 30.43it/s]"
      }
     },
     "192ce5f5a22e4e18b4e13a81fbcc32fe": {
      "model_module": "@jupyter-widgets/controls",
      "model_module_version": "1.2.0",
      "model_name": "HTMLModel",
      "state": {
       "layout": "IPY_MODEL_717a419b1daf40c9a4df8292394a006e",
       "style": "IPY_MODEL_a746e4ca93a048c79d39eb8f2970b365",
       "value": "100% 3715/3715 [01:55&lt;00:00, 32.19it/s]"
      }
     },
     "1acc8eb490c14ebcabcb254834e6f742": {
      "model_module": "@jupyter-widgets/controls",
      "model_module_version": "1.2.0",
      "model_name": "IntProgressModel",
      "state": {
       "bar_style": "success",
       "layout": "IPY_MODEL_4ad7419cda244042852c6aa758dfa3ee",
       "max": 5186,
       "style": "IPY_MODEL_097f51c62ab14718bae44c342d984cd8",
       "value": 5186
      }
     },
     "1cd64ffa9f38485092f24e44ba46025e": {
      "model_module": "@jupyter-widgets/base",
      "model_module_version": "1.0.0",
      "model_name": "LayoutModel",
      "state": {}
     },
     "1d326913d6914b719da8d47ad9aa0cf9": {
      "model_module": "@jupyter-widgets/controls",
      "model_module_version": "1.2.0",
      "model_name": "IntProgressModel",
      "state": {
       "bar_style": "success",
       "layout": "IPY_MODEL_a3609ba675554ded94d46eb1ec2bcede",
       "max": 194,
       "style": "IPY_MODEL_91ace92ed1304e519f9dd3c24834d60d",
       "value": 194
      }
     },
     "1d4f80ea93634498b97ddff0c7bf5000": {
      "model_module": "@jupyter-widgets/controls",
      "model_module_version": "1.2.0",
      "model_name": "ProgressStyleModel",
      "state": {
       "description_width": ""
      }
     },
     "1e4d5e07f4094529a75134b6afcaabfb": {
      "model_module": "@jupyter-widgets/controls",
      "model_module_version": "1.2.0",
      "model_name": "DescriptionStyleModel",
      "state": {
       "description_width": ""
      }
     },
     "1e7d777ec6ec41d49044797f537e5216": {
      "model_module": "@jupyter-widgets/controls",
      "model_module_version": "1.2.0",
      "model_name": "ProgressStyleModel",
      "state": {
       "description_width": ""
      }
     },
     "1e9323508aa34d5a9c348f0e12e79950": {
      "model_module": "@jupyter-widgets/controls",
      "model_module_version": "1.2.0",
      "model_name": "ProgressStyleModel",
      "state": {
       "description_width": ""
      }
     },
     "1ed1f64be5374bb6bc58a309f4d03bfd": {
      "model_module": "@jupyter-widgets/base",
      "model_module_version": "1.0.0",
      "model_name": "LayoutModel",
      "state": {}
     },
     "1f8cb2fbeaf247f7b58a0b00d6923933": {
      "model_module": "@jupyter-widgets/base",
      "model_module_version": "1.0.0",
      "model_name": "LayoutModel",
      "state": {}
     },
     "1fc30ca0ce8e47cc8543c9576e35a500": {
      "model_module": "@jupyter-widgets/base",
      "model_module_version": "1.0.0",
      "model_name": "LayoutModel",
      "state": {}
     },
     "202b67c2c467497582b8f7bb8bb1f7cc": {
      "model_module": "@jupyter-widgets/controls",
      "model_module_version": "1.2.0",
      "model_name": "IntProgressModel",
      "state": {
       "bar_style": "success",
       "layout": "IPY_MODEL_0ab2a33f2cb34e168cbacef8851cb08b",
       "max": 1998,
       "style": "IPY_MODEL_b8f08863ffb34d56a86dacdb5bb1abba",
       "value": 1998
      }
     },
     "20ffb7f9181c4aa095ddd86a8f384670": {
      "model_module": "@jupyter-widgets/base",
      "model_module_version": "1.0.0",
      "model_name": "LayoutModel",
      "state": {}
     },
     "2104a9d5b9be46e7b13efafe17968bd4": {
      "model_module": "@jupyter-widgets/base",
      "model_module_version": "1.0.0",
      "model_name": "LayoutModel",
      "state": {}
     },
     "218d748e443c4986a97b30aee3c49d21": {
      "model_module": "@jupyter-widgets/base",
      "model_module_version": "1.0.0",
      "model_name": "LayoutModel",
      "state": {}
     },
     "225cbd8b967949b8aedf789521166d43": {
      "model_module": "@jupyter-widgets/controls",
      "model_module_version": "1.2.0",
      "model_name": "DescriptionStyleModel",
      "state": {
       "description_width": ""
      }
     },
     "23409f79a7c946058526fd4c7f3a42e2": {
      "model_module": "@jupyter-widgets/base",
      "model_module_version": "1.0.0",
      "model_name": "LayoutModel",
      "state": {}
     },
     "23ce8d716cf14a009d72114ff6d35851": {
      "model_module": "@jupyter-widgets/controls",
      "model_module_version": "1.2.0",
      "model_name": "HTMLModel",
      "state": {
       "layout": "IPY_MODEL_3f97f3c365514a299368663707b4ef15",
       "style": "IPY_MODEL_8ecacc506d35421284730ec4a7ed9910",
       "value": "100% 5186/5186 [02:58&lt;00:00, 29.12it/s]"
      }
     },
     "240261b6fcff49a49fdca5ad2aa9bfe4": {
      "model_module": "@jupyter-widgets/controls",
      "model_module_version": "1.2.0",
      "model_name": "IntProgressModel",
      "state": {
       "bar_style": "success",
       "layout": "IPY_MODEL_37f256c350324085b850d286e0175baf",
       "max": 3520,
       "style": "IPY_MODEL_0dc7db6b3fef474baf8325f422b09327",
       "value": 3520
      }
     },
     "2527d65ec3734f3898d906631cbbc341": {
      "model_module": "@jupyter-widgets/base",
      "model_module_version": "1.0.0",
      "model_name": "LayoutModel",
      "state": {}
     },
     "25b583ae83fa4df8bb3df551ddb36722": {
      "model_module": "@jupyter-widgets/controls",
      "model_module_version": "1.2.0",
      "model_name": "DescriptionStyleModel",
      "state": {
       "description_width": ""
      }
     },
     "269c177e7c2d4f4aa13e6e6cc64a78f8": {
      "model_module": "@jupyter-widgets/controls",
      "model_module_version": "1.2.0",
      "model_name": "HBoxModel",
      "state": {
       "children": [
        "IPY_MODEL_202b67c2c467497582b8f7bb8bb1f7cc",
        "IPY_MODEL_5debfa02b044493ab0a36781d63f43ee"
       ],
       "layout": "IPY_MODEL_bb1428d50a2543d8807a2231d62ad6f7"
      }
     },
     "277280c04aa94a2d89b6d8b324e253cd": {
      "model_module": "@jupyter-widgets/base",
      "model_module_version": "1.0.0",
      "model_name": "LayoutModel",
      "state": {}
     },
     "27f92c44239e4ffba9ed50bb171c3b36": {
      "model_module": "@jupyter-widgets/base",
      "model_module_version": "1.0.0",
      "model_name": "LayoutModel",
      "state": {}
     },
     "2980a6c1c97843c0961adf73b9c6bff4": {
      "model_module": "@jupyter-widgets/controls",
      "model_module_version": "1.2.0",
      "model_name": "HBoxModel",
      "state": {
       "children": [
        "IPY_MODEL_05cb1ef7ea8e4044b9edb65d5c08b254",
        "IPY_MODEL_86ad3b2b82594ae6ba3cec68671c3c4e"
       ],
       "layout": "IPY_MODEL_8953717e969f4790891f391c18ce471a"
      }
     },
     "299fd0d6104744ac95808d8b50df4779": {
      "model_module": "@jupyter-widgets/controls",
      "model_module_version": "1.2.0",
      "model_name": "ProgressStyleModel",
      "state": {
       "description_width": ""
      }
     },
     "2a907d1a88894ab2a944a8df97b26c8b": {
      "model_module": "@jupyter-widgets/controls",
      "model_module_version": "1.2.0",
      "model_name": "IntProgressModel",
      "state": {
       "bar_style": "success",
       "layout": "IPY_MODEL_b6104deb54e9416f8bc163b0bdb4a2eb",
       "max": 304,
       "style": "IPY_MODEL_c91ba9f77054456eb56d6d84328d28c2",
       "value": 304
      }
     },
     "2af17baf010341c0bd3f405be325f236": {
      "model_module": "@jupyter-widgets/controls",
      "model_module_version": "1.2.0",
      "model_name": "IntProgressModel",
      "state": {
       "bar_style": "success",
       "layout": "IPY_MODEL_c7070ca00a2f4cb9bd3358ef5ac67c81",
       "max": 75,
       "style": "IPY_MODEL_f6e0b89990a440daa10c71a3f8a2337c",
       "value": 75
      }
     },
     "2b2fe3a1579b49019fcf79b753be2d7d": {
      "model_module": "@jupyter-widgets/controls",
      "model_module_version": "1.2.0",
      "model_name": "HTMLModel",
      "state": {
       "layout": "IPY_MODEL_acf52a459f174498b8c613c7c3264506",
       "style": "IPY_MODEL_03381de84cfd40d69bfa1cc181dd5ec4",
       "value": "100% 440/440 [00:13&lt;00:00, 31.64it/s]"
      }
     },
     "2b5c1d5cc6b7453b8e8ad3d1cb84baa6": {
      "model_module": "@jupyter-widgets/controls",
      "model_module_version": "1.2.0",
      "model_name": "HTMLModel",
      "state": {
       "layout": "IPY_MODEL_99bbaacf189245b8a535bb01ccd059bc",
       "style": "IPY_MODEL_f2c65a2dd1c9405a9ddc37f06a6cea75",
       "value": "100% 194/194 [00:06&lt;00:00, 32.20it/s]"
      }
     },
     "2b8aa565e395459999befcd0525b499f": {
      "model_module": "@jupyter-widgets/controls",
      "model_module_version": "1.2.0",
      "model_name": "DescriptionStyleModel",
      "state": {
       "description_width": ""
      }
     },
     "2cba1bd3e5b946f880b45e095ba18fcb": {
      "model_module": "@jupyter-widgets/base",
      "model_module_version": "1.0.0",
      "model_name": "LayoutModel",
      "state": {}
     },
     "2ef53aaef8de4b6c9a105e82567221cd": {
      "model_module": "@jupyter-widgets/base",
      "model_module_version": "1.0.0",
      "model_name": "LayoutModel",
      "state": {}
     },
     "2f5dfdf75ff6444198111d6c092ca83c": {
      "model_module": "@jupyter-widgets/controls",
      "model_module_version": "1.2.0",
      "model_name": "HBoxModel",
      "state": {
       "children": [
        "IPY_MODEL_437721718bdc420c85bef80b302a622c",
        "IPY_MODEL_471318560a784d2fb0252dcd731e2f22"
       ],
       "layout": "IPY_MODEL_8b204438017e4882beb5ac8d73219586"
      }
     },
     "32c225bf57cd409aaed09cbb29335b6b": {
      "model_module": "@jupyter-widgets/controls",
      "model_module_version": "1.2.0",
      "model_name": "IntProgressModel",
      "state": {
       "bar_style": "success",
       "layout": "IPY_MODEL_edbcb87eec424f0790a519ce68a239f5",
       "max": 5186,
       "style": "IPY_MODEL_663ba4c7b5264f8da360cb59867beed5",
       "value": 5186
      }
     },
     "332c7438a3d643ce9cc81a361a05d6df": {
      "model_module": "@jupyter-widgets/base",
      "model_module_version": "1.0.0",
      "model_name": "LayoutModel",
      "state": {}
     },
     "334aa161c7894ee390c341a67c9990ea": {
      "model_module": "@jupyter-widgets/controls",
      "model_module_version": "1.2.0",
      "model_name": "ProgressStyleModel",
      "state": {
       "description_width": ""
      }
     },
     "347d18d0138248d685ada5dfa91092ec": {
      "model_module": "@jupyter-widgets/controls",
      "model_module_version": "1.2.0",
      "model_name": "ProgressStyleModel",
      "state": {
       "description_width": ""
      }
     },
     "35cb6dc684c74a34b2105c214b76f757": {
      "model_module": "@jupyter-widgets/controls",
      "model_module_version": "1.2.0",
      "model_name": "IntProgressModel",
      "state": {
       "bar_style": "success",
       "layout": "IPY_MODEL_a77fa3184a3b4c45a7d3f43d1ed03bec",
       "max": 314,
       "style": "IPY_MODEL_6903957c4c064df78ef3071c9a7efd51",
       "value": 314
      }
     },
     "3703aa27f5be4b10bdd34fd7698af8ba": {
      "model_module": "@jupyter-widgets/controls",
      "model_module_version": "1.2.0",
      "model_name": "ProgressStyleModel",
      "state": {
       "description_width": ""
      }
     },
     "371cabbc9dbf4665b6544d15af0fa70a": {
      "model_module": "@jupyter-widgets/base",
      "model_module_version": "1.0.0",
      "model_name": "LayoutModel",
      "state": {}
     },
     "37c5dc358df54cf3bde3377fafae6a41": {
      "model_module": "@jupyter-widgets/controls",
      "model_module_version": "1.2.0",
      "model_name": "DescriptionStyleModel",
      "state": {
       "description_width": ""
      }
     },
     "37d12414e37e420ab45a28f82774d8df": {
      "model_module": "@jupyter-widgets/controls",
      "model_module_version": "1.2.0",
      "model_name": "HTMLModel",
      "state": {
       "layout": "IPY_MODEL_f3d8a8d4cf684a91a8b03f23cb538b8e",
       "style": "IPY_MODEL_046ab15f84a74392981ba1cbf2ddf1bc",
       "value": "100% 304/304 [00:12&lt;00:00, 25.17it/s]"
      }
     },
     "37f256c350324085b850d286e0175baf": {
      "model_module": "@jupyter-widgets/base",
      "model_module_version": "1.0.0",
      "model_name": "LayoutModel",
      "state": {}
     },
     "385f7c534aa24696852dd7ba313d606f": {
      "model_module": "@jupyter-widgets/base",
      "model_module_version": "1.0.0",
      "model_name": "LayoutModel",
      "state": {}
     },
     "39042d0758e54bc598a24bee51cdcd1f": {
      "model_module": "@jupyter-widgets/base",
      "model_module_version": "1.0.0",
      "model_name": "LayoutModel",
      "state": {}
     },
     "39265722de7044a398f0759d373bc337": {
      "model_module": "@jupyter-widgets/base",
      "model_module_version": "1.0.0",
      "model_name": "LayoutModel",
      "state": {}
     },
     "39362c6ac349405ea2207ce9cf0b8a3d": {
      "model_module": "@jupyter-widgets/base",
      "model_module_version": "1.0.0",
      "model_name": "LayoutModel",
      "state": {}
     },
     "39df7a43f07a4c738ae035a77edc0591": {
      "model_module": "@jupyter-widgets/base",
      "model_module_version": "1.0.0",
      "model_name": "LayoutModel",
      "state": {}
     },
     "3b571ce3e97a49e2967d54807ca3f34b": {
      "model_module": "@jupyter-widgets/controls",
      "model_module_version": "1.2.0",
      "model_name": "IntProgressModel",
      "state": {
       "bar_style": "success",
       "layout": "IPY_MODEL_7c27bbb22d764220b849735d44c92edc",
       "max": 3,
       "style": "IPY_MODEL_08b9cdf2a0a34da0a6e06c0cf103dd5d",
       "value": 3
      }
     },
     "3b640f8f7aa7405d852d23908771ede0": {
      "model_module": "@jupyter-widgets/controls",
      "model_module_version": "1.2.0",
      "model_name": "HTMLModel",
      "state": {
       "layout": "IPY_MODEL_27f92c44239e4ffba9ed50bb171c3b36",
       "style": "IPY_MODEL_6e62833442b14f2394bcd77ae049eff3",
       "value": "100% 80/80 [00:02&lt;00:00, 31.30it/s]"
      }
     },
     "3c7e62e9aa8649a0a2a3f28cdf264a4e": {
      "model_module": "@jupyter-widgets/controls",
      "model_module_version": "1.2.0",
      "model_name": "ProgressStyleModel",
      "state": {
       "description_width": ""
      }
     },
     "3d100c1c348945f48c25680769262f0e": {
      "model_module": "@jupyter-widgets/controls",
      "model_module_version": "1.2.0",
      "model_name": "IntProgressModel",
      "state": {
       "bar_style": "success",
       "layout": "IPY_MODEL_2527d65ec3734f3898d906631cbbc341",
       "max": 3,
       "style": "IPY_MODEL_68c2920c5b28446b85d1f3a859546161",
       "value": 3
      }
     },
     "3d2216edd4e7422383ac778515d90da4": {
      "model_module": "@jupyter-widgets/controls",
      "model_module_version": "1.2.0",
      "model_name": "IntProgressModel",
      "state": {
       "bar_style": "success",
       "layout": "IPY_MODEL_61358ac7594d4c88a8dda033dd639899",
       "max": 194,
       "style": "IPY_MODEL_059b15e028874e48bc22c551cc77b0de",
       "value": 194
      }
     },
     "3d498b65053446548ba4587449d3f2ea": {
      "model_module": "@jupyter-widgets/base",
      "model_module_version": "1.0.0",
      "model_name": "LayoutModel",
      "state": {}
     },
     "3d6474a117b74ca794ad24c3299607b5": {
      "model_module": "@jupyter-widgets/controls",
      "model_module_version": "1.2.0",
      "model_name": "HBoxModel",
      "state": {
       "children": [
        "IPY_MODEL_41597671670a49c09e53a7085c3e8feb",
        "IPY_MODEL_98466d97d623458ca5b44b92b882daba"
       ],
       "layout": "IPY_MODEL_e8fe2cb55d4840f6af2a84b2e90a7288"
      }
     },
     "3d93540c4a5a49539f62a28befbe0823": {
      "model_module": "@jupyter-widgets/base",
      "model_module_version": "1.0.0",
      "model_name": "LayoutModel",
      "state": {}
     },
     "3e08946a389d4a9b894628f032c5363e": {
      "model_module": "@jupyter-widgets/controls",
      "model_module_version": "1.2.0",
      "model_name": "HBoxModel",
      "state": {
       "children": [
        "IPY_MODEL_6b9ac80abefb47de94246b5fdbcf3af2",
        "IPY_MODEL_530e3f26632a49a0938679d3d9167f77"
       ],
       "layout": "IPY_MODEL_aef77cf7a14d4092b8cddd790c18228a"
      }
     },
     "3f97f3c365514a299368663707b4ef15": {
      "model_module": "@jupyter-widgets/base",
      "model_module_version": "1.0.0",
      "model_name": "LayoutModel",
      "state": {}
     },
     "408071252a9a4b719ebc31ef27cd914e": {
      "model_module": "@jupyter-widgets/base",
      "model_module_version": "1.0.0",
      "model_name": "LayoutModel",
      "state": {}
     },
     "4116e9e5e7534e448bf95e0074daa6f6": {
      "model_module": "@jupyter-widgets/base",
      "model_module_version": "1.0.0",
      "model_name": "LayoutModel",
      "state": {}
     },
     "41597671670a49c09e53a7085c3e8feb": {
      "model_module": "@jupyter-widgets/controls",
      "model_module_version": "1.2.0",
      "model_name": "IntProgressModel",
      "state": {
       "bar_style": "success",
       "layout": "IPY_MODEL_1cd64ffa9f38485092f24e44ba46025e",
       "max": 3,
       "style": "IPY_MODEL_d08054070c4c4bafb1dd6e2a2db3db4d",
       "value": 3
      }
     },
     "415ef3fbd95448569b716ea340f0d5b8": {
      "model_module": "@jupyter-widgets/controls",
      "model_module_version": "1.2.0",
      "model_name": "IntProgressModel",
      "state": {
       "bar_style": "success",
       "layout": "IPY_MODEL_1f8cb2fbeaf247f7b58a0b00d6923933",
       "max": 3715,
       "style": "IPY_MODEL_831d71b351de41af85b1cc0cedfbf1b1",
       "value": 3715
      }
     },
     "419280ac73f34bf49ad3b8b82aaed1fb": {
      "model_module": "@jupyter-widgets/controls",
      "model_module_version": "1.2.0",
      "model_name": "DescriptionStyleModel",
      "state": {
       "description_width": ""
      }
     },
     "41a83d3ef5064d618e97a57c13931d70": {
      "model_module": "@jupyter-widgets/base",
      "model_module_version": "1.0.0",
      "model_name": "LayoutModel",
      "state": {}
     },
     "422f95e19478415b840b728823e023f2": {
      "model_module": "@jupyter-widgets/base",
      "model_module_version": "1.0.0",
      "model_name": "LayoutModel",
      "state": {}
     },
     "429a3793b39f4731b799f489d1977006": {
      "model_module": "@jupyter-widgets/base",
      "model_module_version": "1.0.0",
      "model_name": "LayoutModel",
      "state": {}
     },
     "437721718bdc420c85bef80b302a622c": {
      "model_module": "@jupyter-widgets/controls",
      "model_module_version": "1.2.0",
      "model_name": "IntProgressModel",
      "state": {
       "bar_style": "success",
       "layout": "IPY_MODEL_5506cb4d52c84c41a1d3e323a205a79a",
       "max": 200,
       "style": "IPY_MODEL_334aa161c7894ee390c341a67c9990ea",
       "value": 200
      }
     },
     "45622403ad8f44f8836d35c396025277": {
      "model_module": "@jupyter-widgets/controls",
      "model_module_version": "1.2.0",
      "model_name": "HBoxModel",
      "state": {
       "children": [
        "IPY_MODEL_9640cb66c82c437fae3b5547f9a85160",
        "IPY_MODEL_158081c4f3244080b6284b6be0e72155"
       ],
       "layout": "IPY_MODEL_49c54b1587c34c23ac02d2af68fac2d0"
      }
     },
     "459d493ad12b4039a101b760137481a4": {
      "model_module": "@jupyter-widgets/controls",
      "model_module_version": "1.2.0",
      "model_name": "ProgressStyleModel",
      "state": {
       "description_width": ""
      }
     },
     "471318560a784d2fb0252dcd731e2f22": {
      "model_module": "@jupyter-widgets/controls",
      "model_module_version": "1.2.0",
      "model_name": "HTMLModel",
      "state": {
       "layout": "IPY_MODEL_23409f79a7c946058526fd4c7f3a42e2",
       "style": "IPY_MODEL_9eb0ace823ca4a09ad7832caaf793fa6",
       "value": "100% 200/200 [00:06&lt;00:00, 29.75it/s]"
      }
     },
     "476dc4608377487e985f358adc63baf6": {
      "model_module": "@jupyter-widgets/controls",
      "model_module_version": "1.2.0",
      "model_name": "HBoxModel",
      "state": {
       "children": [
        "IPY_MODEL_09a481db1b5a4078a2763967d8799f0c",
        "IPY_MODEL_cca26f1ad1df48c79cbff28c1bb9c860"
       ],
       "layout": "IPY_MODEL_fe4d2350f20b4ec9af41025fefdbe498"
      }
     },
     "49b53abcf0134b27b1896df66811c237": {
      "model_module": "@jupyter-widgets/controls",
      "model_module_version": "1.2.0",
      "model_name": "HBoxModel",
      "state": {
       "children": [
        "IPY_MODEL_b9c82c735c0d4a63b3820563f0336da3",
        "IPY_MODEL_d16f963a41d24c26b58f364eb8a09dd5"
       ],
       "layout": "IPY_MODEL_4116e9e5e7534e448bf95e0074daa6f6"
      }
     },
     "49c54b1587c34c23ac02d2af68fac2d0": {
      "model_module": "@jupyter-widgets/base",
      "model_module_version": "1.0.0",
      "model_name": "LayoutModel",
      "state": {}
     },
     "4ad7419cda244042852c6aa758dfa3ee": {
      "model_module": "@jupyter-widgets/base",
      "model_module_version": "1.0.0",
      "model_name": "LayoutModel",
      "state": {}
     },
     "4ae5d83580204d579442656460c117d8": {
      "model_module": "@jupyter-widgets/controls",
      "model_module_version": "1.2.0",
      "model_name": "HBoxModel",
      "state": {
       "children": [
        "IPY_MODEL_84be7f1fb4cd4291a8bac0731b6a24d7",
        "IPY_MODEL_1403fba187f74215928467070b47a968"
       ],
       "layout": "IPY_MODEL_2cba1bd3e5b946f880b45e095ba18fcb"
      }
     },
     "4b763422e8914cfdab93309d2e8bcad1": {
      "model_module": "@jupyter-widgets/base",
      "model_module_version": "1.0.0",
      "model_name": "LayoutModel",
      "state": {}
     },
     "4d5387d27fd14f9b9c6c5350ae3a896c": {
      "model_module": "@jupyter-widgets/base",
      "model_module_version": "1.0.0",
      "model_name": "LayoutModel",
      "state": {}
     },
     "4da85a291b5943fe8985d40b34259c20": {
      "model_module": "@jupyter-widgets/controls",
      "model_module_version": "1.2.0",
      "model_name": "ProgressStyleModel",
      "state": {
       "description_width": ""
      }
     },
     "4dda8de6a93042859207f7f27ef3b644": {
      "model_module": "@jupyter-widgets/controls",
      "model_module_version": "1.2.0",
      "model_name": "HTMLModel",
      "state": {
       "layout": "IPY_MODEL_56a6aa08702f4755be8e86ee2d07c5a4",
       "style": "IPY_MODEL_9bba56c647d7461487a45316fa64ee08",
       "value": "100% 314/314 [00:09&lt;00:00, 34.07it/s]"
      }
     },
     "4ec03a473d5e4aa2b3fadfa68bdedfae": {
      "model_module": "@jupyter-widgets/controls",
      "model_module_version": "1.2.0",
      "model_name": "IntProgressModel",
      "state": {
       "bar_style": "success",
       "layout": "IPY_MODEL_a97f6bcc95c94738b589c4f45729e411",
       "max": 3520,
       "style": "IPY_MODEL_1d4f80ea93634498b97ddff0c7bf5000",
       "value": 3520
      }
     },
     "4f76073b50064b79922b2a90816a6146": {
      "model_module": "@jupyter-widgets/controls",
      "model_module_version": "1.2.0",
      "model_name": "DescriptionStyleModel",
      "state": {
       "description_width": ""
      }
     },
     "4f7bac58eaf94b6f95404e5debe73787": {
      "model_module": "@jupyter-widgets/controls",
      "model_module_version": "1.2.0",
      "model_name": "DescriptionStyleModel",
      "state": {
       "description_width": ""
      }
     },
     "505b9e705cf14abda1943ad6e409c698": {
      "model_module": "@jupyter-widgets/controls",
      "model_module_version": "1.2.0",
      "model_name": "HBoxModel",
      "state": {
       "children": [
        "IPY_MODEL_b8737b2075054ede8b17a9a1f065fd14",
        "IPY_MODEL_23ce8d716cf14a009d72114ff6d35851"
       ],
       "layout": "IPY_MODEL_af77220c028841ee940bacceba504288"
      }
     },
     "50dafef6b817455b976a328f98aad34f": {
      "model_module": "@jupyter-widgets/controls",
      "model_module_version": "1.2.0",
      "model_name": "HBoxModel",
      "state": {
       "children": [
        "IPY_MODEL_c5426e9c6169433badbf636df8d0c391",
        "IPY_MODEL_aa7918baa4864685bf70f7466db2658e"
       ],
       "layout": "IPY_MODEL_85bc282c7cdd42cb94c99f289269a0d7"
      }
     },
     "50f22484f22044a99a44d4a1a92a66b2": {
      "model_module": "@jupyter-widgets/controls",
      "model_module_version": "1.2.0",
      "model_name": "HBoxModel",
      "state": {
       "children": [
        "IPY_MODEL_35cb6dc684c74a34b2105c214b76f757",
        "IPY_MODEL_4dda8de6a93042859207f7f27ef3b644"
       ],
       "layout": "IPY_MODEL_ebe199393d7c4decb82b9deeb553efea"
      }
     },
     "530e3f26632a49a0938679d3d9167f77": {
      "model_module": "@jupyter-widgets/controls",
      "model_module_version": "1.2.0",
      "model_name": "HTMLModel",
      "state": {
       "layout": "IPY_MODEL_b6fa00fcbe614c58bd179eb50fb1a5e6",
       "style": "IPY_MODEL_7602fe38016b4973bcfb626232185381",
       "value": "100% 440/440 [00:13&lt;00:00, 33.04it/s]"
      }
     },
     "542b8bcfa65047c183ded8ba8404ee93": {
      "model_module": "@jupyter-widgets/controls",
      "model_module_version": "1.2.0",
      "model_name": "HBoxModel",
      "state": {
       "children": [
        "IPY_MODEL_3d100c1c348945f48c25680769262f0e",
        "IPY_MODEL_a0643cecbe96482db651e48b035c4d4b"
       ],
       "layout": "IPY_MODEL_0cdb9466807c4788aef0e6b6162cbbd2"
      }
     },
     "5506cb4d52c84c41a1d3e323a205a79a": {
      "model_module": "@jupyter-widgets/base",
      "model_module_version": "1.0.0",
      "model_name": "LayoutModel",
      "state": {}
     },
     "559d5dc5e2d347a49f263b276819f7ae": {
      "model_module": "@jupyter-widgets/controls",
      "model_module_version": "1.2.0",
      "model_name": "DescriptionStyleModel",
      "state": {
       "description_width": ""
      }
     },
     "56a6aa08702f4755be8e86ee2d07c5a4": {
      "model_module": "@jupyter-widgets/base",
      "model_module_version": "1.0.0",
      "model_name": "LayoutModel",
      "state": {}
     },
     "5839342083e942ba85906e2f31eb98a8": {
      "model_module": "@jupyter-widgets/controls",
      "model_module_version": "1.2.0",
      "model_name": "HBoxModel",
      "state": {
       "children": [
        "IPY_MODEL_32c225bf57cd409aaed09cbb29335b6b",
        "IPY_MODEL_ceb78520e7644bcbac246128f78eba08"
       ],
       "layout": "IPY_MODEL_385f7c534aa24696852dd7ba313d606f"
      }
     },
     "5979e1db65d04aef86acf874545e07b2": {
      "model_module": "@jupyter-widgets/base",
      "model_module_version": "1.0.0",
      "model_name": "LayoutModel",
      "state": {}
     },
     "5a720a7e652842b1aa598b23d20c47f8": {
      "model_module": "@jupyter-widgets/controls",
      "model_module_version": "1.2.0",
      "model_name": "DescriptionStyleModel",
      "state": {
       "description_width": ""
      }
     },
     "5d6e7576beff48d8a1ac0e54e4fd9bee": {
      "model_module": "@jupyter-widgets/controls",
      "model_module_version": "1.2.0",
      "model_name": "IntProgressModel",
      "state": {
       "bar_style": "success",
       "layout": "IPY_MODEL_a12d958e691644c5a5703c444eb18b9c",
       "max": 200,
       "style": "IPY_MODEL_c678d362c637478b83137e97ae157310",
       "value": 200
      }
     },
     "5da07bf7d91a489c86e38c3097feafde": {
      "model_module": "@jupyter-widgets/controls",
      "model_module_version": "1.2.0",
      "model_name": "HTMLModel",
      "state": {
       "layout": "IPY_MODEL_39042d0758e54bc598a24bee51cdcd1f",
       "style": "IPY_MODEL_2b8aa565e395459999befcd0525b499f",
       "value": "100% 75/75 [00:02&lt;00:00, 28.98it/s]"
      }
     },
     "5debfa02b044493ab0a36781d63f43ee": {
      "model_module": "@jupyter-widgets/controls",
      "model_module_version": "1.2.0",
      "model_name": "HTMLModel",
      "state": {
       "layout": "IPY_MODEL_108cc6e6825f473ea538f7116c422661",
       "style": "IPY_MODEL_6d6bb2ca3db3463f9271ad509e3dd20f",
       "value": "100% 1998/1998 [01:13&lt;00:00, 27.30it/s]"
      }
     },
     "5e36b76d357c4f5aad6e4ed37a225722": {
      "model_module": "@jupyter-widgets/controls",
      "model_module_version": "1.2.0",
      "model_name": "DescriptionStyleModel",
      "state": {
       "description_width": ""
      }
     },
     "5e652050bd71432eb2fdc799e2a8c0cc": {
      "model_module": "@jupyter-widgets/controls",
      "model_module_version": "1.2.0",
      "model_name": "HBoxModel",
      "state": {
       "children": [
        "IPY_MODEL_d158867c5f764fdb9b49c7512a112c55",
        "IPY_MODEL_66428687472b4eff95aa5628e633cd6e"
       ],
       "layout": "IPY_MODEL_eca1d6a2bf894c40aa793c19c7596089"
      }
     },
     "5e73cd7f01d944009a28b94d27ac4b4d": {
      "model_module": "@jupyter-widgets/controls",
      "model_module_version": "1.2.0",
      "model_name": "IntProgressModel",
      "state": {
       "bar_style": "success",
       "layout": "IPY_MODEL_96b8ed0f98ae4303815b5848e817ae6f",
       "max": 3,
       "style": "IPY_MODEL_3c7e62e9aa8649a0a2a3f28cdf264a4e",
       "value": 3
      }
     },
     "600b055e28114b3d96ff5542db1b3ed5": {
      "model_module": "@jupyter-widgets/controls",
      "model_module_version": "1.2.0",
      "model_name": "DescriptionStyleModel",
      "state": {
       "description_width": ""
      }
     },
     "602f55a453634c14b2a948aecf21f62a": {
      "model_module": "@jupyter-widgets/controls",
      "model_module_version": "1.2.0",
      "model_name": "ProgressStyleModel",
      "state": {
       "description_width": ""
      }
     },
     "607643799eaa45a2afcfcbbf3389b7e8": {
      "model_module": "@jupyter-widgets/base",
      "model_module_version": "1.0.0",
      "model_name": "LayoutModel",
      "state": {}
     },
     "61358ac7594d4c88a8dda033dd639899": {
      "model_module": "@jupyter-widgets/base",
      "model_module_version": "1.0.0",
      "model_name": "LayoutModel",
      "state": {}
     },
     "618b180677ca4558a81e6db6ececc460": {
      "model_module": "@jupyter-widgets/base",
      "model_module_version": "1.0.0",
      "model_name": "LayoutModel",
      "state": {}
     },
     "621ddaf6fb304cd09b5fbb5154cb137a": {
      "model_module": "@jupyter-widgets/controls",
      "model_module_version": "1.2.0",
      "model_name": "DescriptionStyleModel",
      "state": {
       "description_width": ""
      }
     },
     "626ec1fa07c04717ba2409251b4bb07f": {
      "model_module": "@jupyter-widgets/controls",
      "model_module_version": "1.2.0",
      "model_name": "ProgressStyleModel",
      "state": {
       "description_width": ""
      }
     },
     "629e629180fb4898a444480f45f45885": {
      "model_module": "@jupyter-widgets/controls",
      "model_module_version": "1.2.0",
      "model_name": "HTMLModel",
      "state": {
       "layout": "IPY_MODEL_ca137ae1a7c64498b7e484da646003ca",
       "style": "IPY_MODEL_820c4ccd250f413bb5ee27eb5454e1bf",
       "value": "100% 3520/3520 [01:53&lt;00:00, 30.88it/s]"
      }
     },
     "633ccd7d3e2140b8a7f53ff06516da32": {
      "model_module": "@jupyter-widgets/controls",
      "model_module_version": "1.2.0",
      "model_name": "HBoxModel",
      "state": {
       "children": [
        "IPY_MODEL_92ef0473e98b41b2afb46b45b1aaa26e",
        "IPY_MODEL_2b2fe3a1579b49019fcf79b753be2d7d"
       ],
       "layout": "IPY_MODEL_c6a4686efdc446ae90f322151638ab67"
      }
     },
     "65126b14ef9b45338e9997b34970e04c": {
      "model_module": "@jupyter-widgets/controls",
      "model_module_version": "1.2.0",
      "model_name": "DescriptionStyleModel",
      "state": {
       "description_width": ""
      }
     },
     "66243463c9214118aff8b8c3500032d8": {
      "model_module": "@jupyter-widgets/base",
      "model_module_version": "1.0.0",
      "model_name": "LayoutModel",
      "state": {}
     },
     "663ba4c7b5264f8da360cb59867beed5": {
      "model_module": "@jupyter-widgets/controls",
      "model_module_version": "1.2.0",
      "model_name": "ProgressStyleModel",
      "state": {
       "description_width": ""
      }
     },
     "66428687472b4eff95aa5628e633cd6e": {
      "model_module": "@jupyter-widgets/controls",
      "model_module_version": "1.2.0",
      "model_name": "HTMLModel",
      "state": {
       "layout": "IPY_MODEL_277280c04aa94a2d89b6d8b324e253cd",
       "style": "IPY_MODEL_8aac575a6c5748bb9955040cb189f3cf",
       "value": "100% 3715/3715 [02:06&lt;00:00, 29.43it/s]"
      }
     },
     "669cc7dc4386441da0e54721d093b292": {
      "model_module": "@jupyter-widgets/controls",
      "model_module_version": "1.2.0",
      "model_name": "HBoxModel",
      "state": {
       "children": [
        "IPY_MODEL_d82f496a3e7d46cdba1d438842fb6eba",
        "IPY_MODEL_cc47bfa65b8f46a49482ab5840079b76"
       ],
       "layout": "IPY_MODEL_4b763422e8914cfdab93309d2e8bcad1"
      }
     },
     "68c2920c5b28446b85d1f3a859546161": {
      "model_module": "@jupyter-widgets/controls",
      "model_module_version": "1.2.0",
      "model_name": "ProgressStyleModel",
      "state": {
       "description_width": ""
      }
     },
     "6903957c4c064df78ef3071c9a7efd51": {
      "model_module": "@jupyter-widgets/controls",
      "model_module_version": "1.2.0",
      "model_name": "ProgressStyleModel",
      "state": {
       "description_width": ""
      }
     },
     "6941c9ad782541728ad4d49064bf350e": {
      "model_module": "@jupyter-widgets/controls",
      "model_module_version": "1.2.0",
      "model_name": "ProgressStyleModel",
      "state": {
       "description_width": ""
      }
     },
     "696428c1abf24b8c8c64f16f2d1eb1fa": {
      "model_module": "@jupyter-widgets/controls",
      "model_module_version": "1.2.0",
      "model_name": "DescriptionStyleModel",
      "state": {
       "description_width": ""
      }
     },
     "6afca73966754194b6e19dd449ce649b": {
      "model_module": "@jupyter-widgets/base",
      "model_module_version": "1.0.0",
      "model_name": "LayoutModel",
      "state": {}
     },
     "6b9ac80abefb47de94246b5fdbcf3af2": {
      "model_module": "@jupyter-widgets/controls",
      "model_module_version": "1.2.0",
      "model_name": "IntProgressModel",
      "state": {
       "bar_style": "success",
       "layout": "IPY_MODEL_3d498b65053446548ba4587449d3f2ea",
       "max": 440,
       "style": "IPY_MODEL_b29a750e7d5848579b914eea0418db74",
       "value": 440
      }
     },
     "6ca17ff8fa584fa6a4692ac57d7a544a": {
      "model_module": "@jupyter-widgets/controls",
      "model_module_version": "1.2.0",
      "model_name": "HTMLModel",
      "state": {
       "layout": "IPY_MODEL_94938044ec7045a99802dfd9f14644e9",
       "style": "IPY_MODEL_225cbd8b967949b8aedf789521166d43",
       "value": "100% 2349/2349 [01:23&lt;00:00, 28.09it/s]"
      }
     },
     "6d6bb2ca3db3463f9271ad509e3dd20f": {
      "model_module": "@jupyter-widgets/controls",
      "model_module_version": "1.2.0",
      "model_name": "DescriptionStyleModel",
      "state": {
       "description_width": ""
      }
     },
     "6d7ad0f1f2b94e0db1b711722f4ae490": {
      "model_module": "@jupyter-widgets/base",
      "model_module_version": "1.0.0",
      "model_name": "LayoutModel",
      "state": {}
     },
     "6d910d05f0b34b6bbb4d1662d0442267": {
      "model_module": "@jupyter-widgets/controls",
      "model_module_version": "1.2.0",
      "model_name": "HTMLModel",
      "state": {
       "layout": "IPY_MODEL_11658a10bfe74d43b87b8575d4e2c4ce",
       "style": "IPY_MODEL_761027359ab347acb0d5acf103aab40d",
       "value": "100% 3520/3520 [01:52&lt;00:00, 31.34it/s]"
      }
     },
     "6e62833442b14f2394bcd77ae049eff3": {
      "model_module": "@jupyter-widgets/controls",
      "model_module_version": "1.2.0",
      "model_name": "DescriptionStyleModel",
      "state": {
       "description_width": ""
      }
     },
     "717a419b1daf40c9a4df8292394a006e": {
      "model_module": "@jupyter-widgets/base",
      "model_module_version": "1.0.0",
      "model_name": "LayoutModel",
      "state": {}
     },
     "71b1685ad764415c93106ede9386a222": {
      "model_module": "@jupyter-widgets/controls",
      "model_module_version": "1.2.0",
      "model_name": "ProgressStyleModel",
      "state": {
       "description_width": ""
      }
     },
     "72be1a5e0fa04899a08af8e4bb2b9d05": {
      "model_module": "@jupyter-widgets/base",
      "model_module_version": "1.0.0",
      "model_name": "LayoutModel",
      "state": {}
     },
     "7585feb68f3e46d7acd7c7df92514567": {
      "model_module": "@jupyter-widgets/base",
      "model_module_version": "1.0.0",
      "model_name": "LayoutModel",
      "state": {}
     },
     "7602fe38016b4973bcfb626232185381": {
      "model_module": "@jupyter-widgets/controls",
      "model_module_version": "1.2.0",
      "model_name": "DescriptionStyleModel",
      "state": {
       "description_width": ""
      }
     },
     "761027359ab347acb0d5acf103aab40d": {
      "model_module": "@jupyter-widgets/controls",
      "model_module_version": "1.2.0",
      "model_name": "DescriptionStyleModel",
      "state": {
       "description_width": ""
      }
     },
     "776f79d58bf64c638b0ba2c521b27a91": {
      "model_module": "@jupyter-widgets/controls",
      "model_module_version": "1.2.0",
      "model_name": "DescriptionStyleModel",
      "state": {
       "description_width": ""
      }
     },
     "794fda60dc6d4fcfb1b18127dec4f163": {
      "model_module": "@jupyter-widgets/controls",
      "model_module_version": "1.2.0",
      "model_name": "HBoxModel",
      "state": {
       "children": [
        "IPY_MODEL_c78d623c03db4eee898173d3a2abe53d",
        "IPY_MODEL_a6f1ca0b0d6949aca01621dd0898a828"
       ],
       "layout": "IPY_MODEL_332c7438a3d643ce9cc81a361a05d6df"
      }
     },
     "7969c01a11774247a1cda0d60caf4d12": {
      "model_module": "@jupyter-widgets/base",
      "model_module_version": "1.0.0",
      "model_name": "LayoutModel",
      "state": {}
     },
     "79e4357e980b497194e370bc650b6ffe": {
      "model_module": "@jupyter-widgets/base",
      "model_module_version": "1.0.0",
      "model_name": "LayoutModel",
      "state": {}
     },
     "7bb23c435c6248889f31994b65c826d0": {
      "model_module": "@jupyter-widgets/controls",
      "model_module_version": "1.2.0",
      "model_name": "HTMLModel",
      "state": {
       "layout": "IPY_MODEL_20ffb7f9181c4aa095ddd86a8f384670",
       "style": "IPY_MODEL_600b055e28114b3d96ff5542db1b3ed5",
       "value": "100% 3/3 [07:03&lt;00:00, 141.25s/it]"
      }
     },
     "7bb48d28f0c14258b96251042d753614": {
      "model_module": "@jupyter-widgets/controls",
      "model_module_version": "1.2.0",
      "model_name": "HBoxModel",
      "state": {
       "children": [
        "IPY_MODEL_172816c22c2341c5b36185f97669a08d",
        "IPY_MODEL_c7554618e64d4501a7e2e7addaabbc7a"
       ],
       "layout": "IPY_MODEL_e89acfc733f940009ace8ffa75163574"
      }
     },
     "7c12958d2dad4cb4a8b4a6c03980f003": {
      "model_module": "@jupyter-widgets/base",
      "model_module_version": "1.0.0",
      "model_name": "LayoutModel",
      "state": {}
     },
     "7c27bbb22d764220b849735d44c92edc": {
      "model_module": "@jupyter-widgets/base",
      "model_module_version": "1.0.0",
      "model_name": "LayoutModel",
      "state": {}
     },
     "7cdcd8d9ce71408dbde0a7f9f76e6641": {
      "model_module": "@jupyter-widgets/controls",
      "model_module_version": "1.2.0",
      "model_name": "HBoxModel",
      "state": {
       "children": [
        "IPY_MODEL_9aed03d686dc44b48319697d24b4990f",
        "IPY_MODEL_18b3a70d263b415f8de99963b4e6bd2c"
       ],
       "layout": "IPY_MODEL_607643799eaa45a2afcfcbbf3389b7e8"
      }
     },
     "7e2ff22247c74801ba3cb0d064c77571": {
      "model_module": "@jupyter-widgets/controls",
      "model_module_version": "1.2.0",
      "model_name": "HBoxModel",
      "state": {
       "children": [
        "IPY_MODEL_8663b711d30f4b85b5ded00374f86f0a",
        "IPY_MODEL_1890751cb1eb47f79b4e1e70c54dd96e"
       ],
       "layout": "IPY_MODEL_408071252a9a4b719ebc31ef27cd914e"
      }
     },
     "7e4225624a9d4086a9bb758c7b9f238a": {
      "model_module": "@jupyter-widgets/controls",
      "model_module_version": "1.2.0",
      "model_name": "ProgressStyleModel",
      "state": {
       "description_width": ""
      }
     },
     "7ee43192acba478997bef36e8f718d56": {
      "model_module": "@jupyter-widgets/controls",
      "model_module_version": "1.2.0",
      "model_name": "HBoxModel",
      "state": {
       "children": [
        "IPY_MODEL_11a56dc42a324aa3b77ccdd0eb12c42b",
        "IPY_MODEL_3b640f8f7aa7405d852d23908771ede0"
       ],
       "layout": "IPY_MODEL_7969c01a11774247a1cda0d60caf4d12"
      }
     },
     "7f99c9678b3c4797aeb238e71faf7387": {
      "model_module": "@jupyter-widgets/base",
      "model_module_version": "1.0.0",
      "model_name": "LayoutModel",
      "state": {}
     },
     "80182e35b604440f830692edf4059f05": {
      "model_module": "@jupyter-widgets/base",
      "model_module_version": "1.0.0",
      "model_name": "LayoutModel",
      "state": {}
     },
     "807378fe27bf470e91bb9a42bbb83291": {
      "model_module": "@jupyter-widgets/base",
      "model_module_version": "1.0.0",
      "model_name": "LayoutModel",
      "state": {}
     },
     "820c4ccd250f413bb5ee27eb5454e1bf": {
      "model_module": "@jupyter-widgets/controls",
      "model_module_version": "1.2.0",
      "model_name": "DescriptionStyleModel",
      "state": {
       "description_width": ""
      }
     },
     "831d71b351de41af85b1cc0cedfbf1b1": {
      "model_module": "@jupyter-widgets/controls",
      "model_module_version": "1.2.0",
      "model_name": "ProgressStyleModel",
      "state": {
       "description_width": ""
      }
     },
     "8323b61725fd4ebbb30f9776413e8e72": {
      "model_module": "@jupyter-widgets/controls",
      "model_module_version": "1.2.0",
      "model_name": "IntProgressModel",
      "state": {
       "bar_style": "success",
       "layout": "IPY_MODEL_2104a9d5b9be46e7b13efafe17968bd4",
       "max": 194,
       "style": "IPY_MODEL_1358ac298c2b493998e9aa2b72bf31d5",
       "value": 194
      }
     },
     "8344f94179564e2e8f03240bc821c437": {
      "model_module": "@jupyter-widgets/base",
      "model_module_version": "1.0.0",
      "model_name": "LayoutModel",
      "state": {}
     },
     "849156e137dc4528b4d375f17023b757": {
      "model_module": "@jupyter-widgets/base",
      "model_module_version": "1.0.0",
      "model_name": "LayoutModel",
      "state": {}
     },
     "84be7f1fb4cd4291a8bac0731b6a24d7": {
      "model_module": "@jupyter-widgets/controls",
      "model_module_version": "1.2.0",
      "model_name": "IntProgressModel",
      "state": {
       "bar_style": "success",
       "layout": "IPY_MODEL_1ed1f64be5374bb6bc58a309f4d03bfd",
       "max": 75,
       "style": "IPY_MODEL_71b1685ad764415c93106ede9386a222",
       "value": 75
      }
     },
     "85bc282c7cdd42cb94c99f289269a0d7": {
      "model_module": "@jupyter-widgets/base",
      "model_module_version": "1.0.0",
      "model_name": "LayoutModel",
      "state": {}
     },
     "8663b711d30f4b85b5ded00374f86f0a": {
      "model_module": "@jupyter-widgets/controls",
      "model_module_version": "1.2.0",
      "model_name": "IntProgressModel",
      "state": {
       "bar_style": "success",
       "layout": "IPY_MODEL_dd9beaf229344514a15f6ebcf44dd818",
       "max": 304,
       "style": "IPY_MODEL_ae1aac33489d4d49a087ac7bbf5156d7",
       "value": 304
      }
     },
     "86ad3b2b82594ae6ba3cec68671c3c4e": {
      "model_module": "@jupyter-widgets/controls",
      "model_module_version": "1.2.0",
      "model_name": "HTMLModel",
      "state": {
       "layout": "IPY_MODEL_bdde10277de54f13acd86f0859a09128",
       "style": "IPY_MODEL_f42cd84a55804be5b88e235a96eb6511",
       "value": "100% 2349/2349 [01:18&lt;00:00, 29.76it/s]"
      }
     },
     "87af3bfe9de84cdeb476333366b82949": {
      "model_module": "@jupyter-widgets/base",
      "model_module_version": "1.0.0",
      "model_name": "LayoutModel",
      "state": {}
     },
     "8953717e969f4790891f391c18ce471a": {
      "model_module": "@jupyter-widgets/base",
      "model_module_version": "1.0.0",
      "model_name": "LayoutModel",
      "state": {}
     },
     "89e16008ab15446b88d6103d144732e4": {
      "model_module": "@jupyter-widgets/controls",
      "model_module_version": "1.2.0",
      "model_name": "HTMLModel",
      "state": {
       "layout": "IPY_MODEL_1fc30ca0ce8e47cc8543c9576e35a500",
       "style": "IPY_MODEL_4f76073b50064b79922b2a90816a6146",
       "value": "100% 80/80 [00:02&lt;00:00, 31.91it/s]"
      }
     },
     "8a4fb9bb6b2c4d1488cfd5b3b7902ba4": {
      "model_module": "@jupyter-widgets/base",
      "model_module_version": "1.0.0",
      "model_name": "LayoutModel",
      "state": {}
     },
     "8aac575a6c5748bb9955040cb189f3cf": {
      "model_module": "@jupyter-widgets/controls",
      "model_module_version": "1.2.0",
      "model_name": "DescriptionStyleModel",
      "state": {
       "description_width": ""
      }
     },
     "8b204438017e4882beb5ac8d73219586": {
      "model_module": "@jupyter-widgets/base",
      "model_module_version": "1.0.0",
      "model_name": "LayoutModel",
      "state": {}
     },
     "8c3e6cb54b2b4bd280f3a27b97394a85": {
      "model_module": "@jupyter-widgets/controls",
      "model_module_version": "1.2.0",
      "model_name": "HTMLModel",
      "state": {
       "layout": "IPY_MODEL_11bed0cc2f2e48f1936f2fc9cdfba3f9",
       "style": "IPY_MODEL_04f01fab9a3144ff991f1ae73cd49bf5",
       "value": "100% 3/3 [00:38&lt;00:00, 12.76s/it]"
      }
     },
     "8c5cf7a21cdc46edb5c4697392c31f8c": {
      "model_module": "@jupyter-widgets/base",
      "model_module_version": "1.0.0",
      "model_name": "LayoutModel",
      "state": {}
     },
     "8ecacc506d35421284730ec4a7ed9910": {
      "model_module": "@jupyter-widgets/controls",
      "model_module_version": "1.2.0",
      "model_name": "DescriptionStyleModel",
      "state": {
       "description_width": ""
      }
     },
     "8f58d007dbb64c2f8f5e95fa58443559": {
      "model_module": "@jupyter-widgets/base",
      "model_module_version": "1.0.0",
      "model_name": "LayoutModel",
      "state": {}
     },
     "9103a25630c34943b4808ae97ff2c8ce": {
      "model_module": "@jupyter-widgets/base",
      "model_module_version": "1.0.0",
      "model_name": "LayoutModel",
      "state": {}
     },
     "91ace92ed1304e519f9dd3c24834d60d": {
      "model_module": "@jupyter-widgets/controls",
      "model_module_version": "1.2.0",
      "model_name": "ProgressStyleModel",
      "state": {
       "description_width": ""
      }
     },
     "920bedc78a17432b80cd5fc532758875": {
      "model_module": "@jupyter-widgets/base",
      "model_module_version": "1.0.0",
      "model_name": "LayoutModel",
      "state": {}
     },
     "92ef0473e98b41b2afb46b45b1aaa26e": {
      "model_module": "@jupyter-widgets/controls",
      "model_module_version": "1.2.0",
      "model_name": "IntProgressModel",
      "state": {
       "bar_style": "success",
       "layout": "IPY_MODEL_fec1aa01ddfd4f109e0e384a81baf0fb",
       "max": 440,
       "style": "IPY_MODEL_347d18d0138248d685ada5dfa91092ec",
       "value": 440
      }
     },
     "94938044ec7045a99802dfd9f14644e9": {
      "model_module": "@jupyter-widgets/base",
      "model_module_version": "1.0.0",
      "model_name": "LayoutModel",
      "state": {}
     },
     "95fbb94bd8f3443f80f1ed0d55bcd04e": {
      "model_module": "@jupyter-widgets/base",
      "model_module_version": "1.0.0",
      "model_name": "LayoutModel",
      "state": {}
     },
     "9640cb66c82c437fae3b5547f9a85160": {
      "model_module": "@jupyter-widgets/controls",
      "model_module_version": "1.2.0",
      "model_name": "IntProgressModel",
      "state": {
       "bar_style": "success",
       "layout": "IPY_MODEL_b14a7f2c08ed4d14a74b2b3e9bc07a3d",
       "max": 1998,
       "style": "IPY_MODEL_e6ae6f26760e4bce8f89ee25ef02159f",
       "value": 1998
      }
     },
     "96b8ed0f98ae4303815b5848e817ae6f": {
      "model_module": "@jupyter-widgets/base",
      "model_module_version": "1.0.0",
      "model_name": "LayoutModel",
      "state": {}
     },
     "96c8788460f04bbfb2517d5e6addb554": {
      "model_module": "@jupyter-widgets/controls",
      "model_module_version": "1.2.0",
      "model_name": "DescriptionStyleModel",
      "state": {
       "description_width": ""
      }
     },
     "97280684a4b14af7a8d6f2dcc3cadd1a": {
      "model_module": "@jupyter-widgets/controls",
      "model_module_version": "1.2.0",
      "model_name": "IntProgressModel",
      "state": {
       "bar_style": "success",
       "layout": "IPY_MODEL_9d056a308fdb486ea40560a641c46357",
       "max": 304,
       "style": "IPY_MODEL_7e4225624a9d4086a9bb758c7b9f238a",
       "value": 304
      }
     },
     "9844b3b048844da69516b1df16e8e553": {
      "model_module": "@jupyter-widgets/base",
      "model_module_version": "1.0.0",
      "model_name": "LayoutModel",
      "state": {}
     },
     "98466d97d623458ca5b44b92b882daba": {
      "model_module": "@jupyter-widgets/controls",
      "model_module_version": "1.2.0",
      "model_name": "HTMLModel",
      "state": {
       "layout": "IPY_MODEL_8c5cf7a21cdc46edb5c4697392c31f8c",
       "style": "IPY_MODEL_02a830003031416c8e78a3589193ed3b",
       "value": "100% 3/3 [11:09&lt;00:00, 223.20s/it]"
      }
     },
     "9971b97bc77444c2b3584c17d15693dc": {
      "model_module": "@jupyter-widgets/controls",
      "model_module_version": "1.2.0",
      "model_name": "HBoxModel",
      "state": {
       "children": [
        "IPY_MODEL_1acc8eb490c14ebcabcb254834e6f742",
        "IPY_MODEL_04fa75f9fca446b3bbc3b00b16659bf3"
       ],
       "layout": "IPY_MODEL_849156e137dc4528b4d375f17023b757"
      }
     },
     "99bbaacf189245b8a535bb01ccd059bc": {
      "model_module": "@jupyter-widgets/base",
      "model_module_version": "1.0.0",
      "model_name": "LayoutModel",
      "state": {}
     },
     "99f9c0e4659d4192b5629564ce27cf66": {
      "model_module": "@jupyter-widgets/controls",
      "model_module_version": "1.2.0",
      "model_name": "HTMLModel",
      "state": {
       "layout": "IPY_MODEL_c00a1c60eda44ca7be1ce57cf685091f",
       "style": "IPY_MODEL_022f04c1edad4fceac7e801bb18902da",
       "value": "100% 194/194 [00:07&lt;00:00, 26.31it/s]"
      }
     },
     "9aed03d686dc44b48319697d24b4990f": {
      "model_module": "@jupyter-widgets/controls",
      "model_module_version": "1.2.0",
      "model_name": "IntProgressModel",
      "state": {
       "bar_style": "success",
       "layout": "IPY_MODEL_807378fe27bf470e91bb9a42bbb83291",
       "max": 3715,
       "style": "IPY_MODEL_6941c9ad782541728ad4d49064bf350e",
       "value": 3715
      }
     },
     "9bb0e5df3608494195ffd16a28f941b9": {
      "model_module": "@jupyter-widgets/controls",
      "model_module_version": "1.2.0",
      "model_name": "IntProgressModel",
      "state": {
       "bar_style": "success",
       "layout": "IPY_MODEL_7f99c9678b3c4797aeb238e71faf7387",
       "max": 80,
       "style": "IPY_MODEL_ca79619c13504643bab80f88a1209641",
       "value": 80
      }
     },
     "9bba56c647d7461487a45316fa64ee08": {
      "model_module": "@jupyter-widgets/controls",
      "model_module_version": "1.2.0",
      "model_name": "DescriptionStyleModel",
      "state": {
       "description_width": ""
      }
     },
     "9d056a308fdb486ea40560a641c46357": {
      "model_module": "@jupyter-widgets/base",
      "model_module_version": "1.0.0",
      "model_name": "LayoutModel",
      "state": {}
     },
     "9d3f21d2316745958f0dcb52683a866a": {
      "model_module": "@jupyter-widgets/base",
      "model_module_version": "1.0.0",
      "model_name": "LayoutModel",
      "state": {}
     },
     "9eb0ace823ca4a09ad7832caaf793fa6": {
      "model_module": "@jupyter-widgets/controls",
      "model_module_version": "1.2.0",
      "model_name": "DescriptionStyleModel",
      "state": {
       "description_width": ""
      }
     },
     "9ec873dae2124a8b836ce3478c3e6f1d": {
      "model_module": "@jupyter-widgets/base",
      "model_module_version": "1.0.0",
      "model_name": "LayoutModel",
      "state": {}
     },
     "9f1cdcd4a8314865beed5059d4f5d8c6": {
      "model_module": "@jupyter-widgets/controls",
      "model_module_version": "1.2.0",
      "model_name": "HBoxModel",
      "state": {
       "children": [
        "IPY_MODEL_e9e6c52818f243d58b0016afd343d923",
        "IPY_MODEL_6ca17ff8fa584fa6a4692ac57d7a544a"
       ],
       "layout": "IPY_MODEL_9103a25630c34943b4808ae97ff2c8ce"
      }
     },
     "9f2256d7549143fbbd995dd3e25bd859": {
      "model_module": "@jupyter-widgets/base",
      "model_module_version": "1.0.0",
      "model_name": "LayoutModel",
      "state": {}
     },
     "a0643cecbe96482db651e48b035c4d4b": {
      "model_module": "@jupyter-widgets/controls",
      "model_module_version": "1.2.0",
      "model_name": "HTMLModel",
      "state": {
       "layout": "IPY_MODEL_2ef53aaef8de4b6c9a105e82567221cd",
       "style": "IPY_MODEL_a7e976a9f7e7412ea175a00137423332",
       "value": "100% 3/3 [13:48&lt;00:00, 276.25s/it]"
      }
     },
     "a08273cbb5dc4a6c94045429614fffd5": {
      "model_module": "@jupyter-widgets/controls",
      "model_module_version": "1.2.0",
      "model_name": "IntProgressModel",
      "state": {
       "bar_style": "success",
       "layout": "IPY_MODEL_e1b87bed02284761bef20d7d087744bd",
       "max": 1998,
       "style": "IPY_MODEL_1e7d777ec6ec41d49044797f537e5216",
       "value": 1998
      }
     },
     "a0f543acfa4942a38166fd56adeac0d2": {
      "model_module": "@jupyter-widgets/controls",
      "model_module_version": "1.2.0",
      "model_name": "DescriptionStyleModel",
      "state": {
       "description_width": ""
      }
     },
     "a12d958e691644c5a5703c444eb18b9c": {
      "model_module": "@jupyter-widgets/base",
      "model_module_version": "1.0.0",
      "model_name": "LayoutModel",
      "state": {}
     },
     "a1aee04cbaac4aff95da0b0deb508b18": {
      "model_module": "@jupyter-widgets/base",
      "model_module_version": "1.0.0",
      "model_name": "LayoutModel",
      "state": {}
     },
     "a229f3816e324a79ba738f6a5af0b2eb": {
      "model_module": "@jupyter-widgets/controls",
      "model_module_version": "1.2.0",
      "model_name": "ProgressStyleModel",
      "state": {
       "description_width": ""
      }
     },
     "a3609ba675554ded94d46eb1ec2bcede": {
      "model_module": "@jupyter-widgets/base",
      "model_module_version": "1.0.0",
      "model_name": "LayoutModel",
      "state": {}
     },
     "a455ef4709c54923975d1e4d377598dd": {
      "model_module": "@jupyter-widgets/base",
      "model_module_version": "1.0.0",
      "model_name": "LayoutModel",
      "state": {}
     },
     "a4821591fcf14425bf76e36ebe43d245": {
      "model_module": "@jupyter-widgets/controls",
      "model_module_version": "1.2.0",
      "model_name": "HBoxModel",
      "state": {
       "children": [
        "IPY_MODEL_f968997c618045859b06afb97f9d8ac6",
        "IPY_MODEL_8c3e6cb54b2b4bd280f3a27b97394a85"
       ],
       "layout": "IPY_MODEL_6afca73966754194b6e19dd449ce649b"
      }
     },
     "a54c71c1abb444b882f1d240b86be037": {
      "model_module": "@jupyter-widgets/controls",
      "model_module_version": "1.2.0",
      "model_name": "ProgressStyleModel",
      "state": {
       "description_width": ""
      }
     },
     "a64175df128b458895fe838f7708ef2f": {
      "model_module": "@jupyter-widgets/controls",
      "model_module_version": "1.2.0",
      "model_name": "HBoxModel",
      "state": {
       "children": [
        "IPY_MODEL_fa61f23daac94da1a3a017eb3fe723a4",
        "IPY_MODEL_c06132ca5d4d4e8ba15e808a672a5865"
       ],
       "layout": "IPY_MODEL_0d8686b91c464bd9a7f3ac245ed69063"
      }
     },
     "a67ffe73eb1141b0bed5d5a4fecaed80": {
      "model_module": "@jupyter-widgets/controls",
      "model_module_version": "1.2.0",
      "model_name": "ProgressStyleModel",
      "state": {
       "description_width": ""
      }
     },
     "a6f1ca0b0d6949aca01621dd0898a828": {
      "model_module": "@jupyter-widgets/controls",
      "model_module_version": "1.2.0",
      "model_name": "HTMLModel",
      "state": {
       "layout": "IPY_MODEL_d244103d29b44698bcf3a4fa9f1d52d2",
       "style": "IPY_MODEL_25b583ae83fa4df8bb3df551ddb36722",
       "value": "100% 3/3 [00:44&lt;00:00, 14.76s/it]"
      }
     },
     "a746e4ca93a048c79d39eb8f2970b365": {
      "model_module": "@jupyter-widgets/controls",
      "model_module_version": "1.2.0",
      "model_name": "DescriptionStyleModel",
      "state": {
       "description_width": ""
      }
     },
     "a77fa3184a3b4c45a7d3f43d1ed03bec": {
      "model_module": "@jupyter-widgets/base",
      "model_module_version": "1.0.0",
      "model_name": "LayoutModel",
      "state": {}
     },
     "a7c13deab294407490f243c13c0f52f4": {
      "model_module": "@jupyter-widgets/base",
      "model_module_version": "1.0.0",
      "model_name": "LayoutModel",
      "state": {}
     },
     "a7e976a9f7e7412ea175a00137423332": {
      "model_module": "@jupyter-widgets/controls",
      "model_module_version": "1.2.0",
      "model_name": "DescriptionStyleModel",
      "state": {
       "description_width": ""
      }
     },
     "a8c4da49e2bf487f9435c53464c2997a": {
      "model_module": "@jupyter-widgets/base",
      "model_module_version": "1.0.0",
      "model_name": "LayoutModel",
      "state": {}
     },
     "a8c88ff96d0348e5871bdc94ccaad885": {
      "model_module": "@jupyter-widgets/controls",
      "model_module_version": "1.2.0",
      "model_name": "DescriptionStyleModel",
      "state": {
       "description_width": ""
      }
     },
     "a97f6bcc95c94738b589c4f45729e411": {
      "model_module": "@jupyter-widgets/base",
      "model_module_version": "1.0.0",
      "model_name": "LayoutModel",
      "state": {}
     },
     "aa7918baa4864685bf70f7466db2658e": {
      "model_module": "@jupyter-widgets/controls",
      "model_module_version": "1.2.0",
      "model_name": "HTMLModel",
      "state": {
       "layout": "IPY_MODEL_cff6661c86654fce963f488973931682",
       "style": "IPY_MODEL_f07027fda5144f66b71ef042884a7297",
       "value": "100% 3/3 [32:02&lt;00:00, 640.72s/it]"
      }
     },
     "ab4babe3a7304f8c93c61b8104c1755f": {
      "model_module": "@jupyter-widgets/controls",
      "model_module_version": "1.2.0",
      "model_name": "DescriptionStyleModel",
      "state": {
       "description_width": ""
      }
     },
     "acf52a459f174498b8c613c7c3264506": {
      "model_module": "@jupyter-widgets/base",
      "model_module_version": "1.0.0",
      "model_name": "LayoutModel",
      "state": {}
     },
     "ae1aac33489d4d49a087ac7bbf5156d7": {
      "model_module": "@jupyter-widgets/controls",
      "model_module_version": "1.2.0",
      "model_name": "ProgressStyleModel",
      "state": {
       "description_width": ""
      }
     },
     "ae415e141e0a4112858de963f14c8add": {
      "model_module": "@jupyter-widgets/base",
      "model_module_version": "1.0.0",
      "model_name": "LayoutModel",
      "state": {}
     },
     "aef77cf7a14d4092b8cddd790c18228a": {
      "model_module": "@jupyter-widgets/base",
      "model_module_version": "1.0.0",
      "model_name": "LayoutModel",
      "state": {}
     },
     "af77220c028841ee940bacceba504288": {
      "model_module": "@jupyter-widgets/base",
      "model_module_version": "1.0.0",
      "model_name": "LayoutModel",
      "state": {}
     },
     "b064aa0a13d34439bfc5eb836cd8264a": {
      "model_module": "@jupyter-widgets/controls",
      "model_module_version": "1.2.0",
      "model_name": "ProgressStyleModel",
      "state": {
       "description_width": ""
      }
     },
     "b0e218aa10d24a6ab1d7a69e1d71753b": {
      "model_module": "@jupyter-widgets/controls",
      "model_module_version": "1.2.0",
      "model_name": "HBoxModel",
      "state": {
       "children": [
        "IPY_MODEL_97280684a4b14af7a8d6f2dcc3cadd1a",
        "IPY_MODEL_37d12414e37e420ab45a28f82774d8df"
       ],
       "layout": "IPY_MODEL_39362c6ac349405ea2207ce9cf0b8a3d"
      }
     },
     "b14a7f2c08ed4d14a74b2b3e9bc07a3d": {
      "model_module": "@jupyter-widgets/base",
      "model_module_version": "1.0.0",
      "model_name": "LayoutModel",
      "state": {}
     },
     "b226e3c6e71141e89c78757c066081b5": {
      "model_module": "@jupyter-widgets/base",
      "model_module_version": "1.0.0",
      "model_name": "LayoutModel",
      "state": {}
     },
     "b29a750e7d5848579b914eea0418db74": {
      "model_module": "@jupyter-widgets/controls",
      "model_module_version": "1.2.0",
      "model_name": "ProgressStyleModel",
      "state": {
       "description_width": ""
      }
     },
     "b3e97e8bdba64d4595fecf8f3ac5c12a": {
      "model_module": "@jupyter-widgets/controls",
      "model_module_version": "1.2.0",
      "model_name": "HTMLModel",
      "state": {
       "layout": "IPY_MODEL_41a83d3ef5064d618e97a57c13931d70",
       "style": "IPY_MODEL_a8c88ff96d0348e5871bdc94ccaad885",
       "value": "100% 3/3 [02:11&lt;00:00, 43.76s/it]"
      }
     },
     "b3ead7aa3a99459fa465f92a9caa6d3f": {
      "model_module": "@jupyter-widgets/base",
      "model_module_version": "1.0.0",
      "model_name": "LayoutModel",
      "state": {}
     },
     "b43d17a704a0480ca3fec0e9c487e799": {
      "model_module": "@jupyter-widgets/base",
      "model_module_version": "1.0.0",
      "model_name": "LayoutModel",
      "state": {}
     },
     "b45ad2c0bb444a1f8fbfc9ebd5fa549c": {
      "model_module": "@jupyter-widgets/controls",
      "model_module_version": "1.2.0",
      "model_name": "IntProgressModel",
      "state": {
       "bar_style": "success",
       "layout": "IPY_MODEL_eb189d4cafd84688a9532e4e091ca015",
       "max": 3,
       "style": "IPY_MODEL_626ec1fa07c04717ba2409251b4bb07f",
       "value": 3
      }
     },
     "b6104deb54e9416f8bc163b0bdb4a2eb": {
      "model_module": "@jupyter-widgets/base",
      "model_module_version": "1.0.0",
      "model_name": "LayoutModel",
      "state": {}
     },
     "b63fdabcd584488ca593d66b4d225bd0": {
      "model_module": "@jupyter-widgets/controls",
      "model_module_version": "1.2.0",
      "model_name": "HBoxModel",
      "state": {
       "children": [
        "IPY_MODEL_2a907d1a88894ab2a944a8df97b26c8b",
        "IPY_MODEL_0db394fd9f534a9888c2e1e47955e45d"
       ],
       "layout": "IPY_MODEL_de184065eb2f41f58a078b392f87cd1a"
      }
     },
     "b6fa00fcbe614c58bd179eb50fb1a5e6": {
      "model_module": "@jupyter-widgets/base",
      "model_module_version": "1.0.0",
      "model_name": "LayoutModel",
      "state": {}
     },
     "b8225146db0f4070a51ae82e319df227": {
      "model_module": "@jupyter-widgets/controls",
      "model_module_version": "1.2.0",
      "model_name": "HBoxModel",
      "state": {
       "children": [
        "IPY_MODEL_9bb0e5df3608494195ffd16a28f941b9",
        "IPY_MODEL_89e16008ab15446b88d6103d144732e4"
       ],
       "layout": "IPY_MODEL_422f95e19478415b840b728823e023f2"
      }
     },
     "b8737b2075054ede8b17a9a1f065fd14": {
      "model_module": "@jupyter-widgets/controls",
      "model_module_version": "1.2.0",
      "model_name": "IntProgressModel",
      "state": {
       "bar_style": "success",
       "layout": "IPY_MODEL_371cabbc9dbf4665b6544d15af0fa70a",
       "max": 5186,
       "style": "IPY_MODEL_3703aa27f5be4b10bdd34fd7698af8ba",
       "value": 5186
      }
     },
     "b8f08863ffb34d56a86dacdb5bb1abba": {
      "model_module": "@jupyter-widgets/controls",
      "model_module_version": "1.2.0",
      "model_name": "ProgressStyleModel",
      "state": {
       "description_width": ""
      }
     },
     "b9c82c735c0d4a63b3820563f0336da3": {
      "model_module": "@jupyter-widgets/controls",
      "model_module_version": "1.2.0",
      "model_name": "IntProgressModel",
      "state": {
       "bar_style": "success",
       "layout": "IPY_MODEL_a8c4da49e2bf487f9435c53464c2997a",
       "max": 80,
       "style": "IPY_MODEL_dac7b4ecb0cd44c4b4224d3f3d49d329",
       "value": 80
      }
     },
     "ba04e3b74db843d7963917660c5aad87": {
      "model_module": "@jupyter-widgets/controls",
      "model_module_version": "1.2.0",
      "model_name": "HTMLModel",
      "state": {
       "layout": "IPY_MODEL_a455ef4709c54923975d1e4d377598dd",
       "style": "IPY_MODEL_1e4d5e07f4094529a75134b6afcaabfb",
       "value": "100% 3/3 [00:48&lt;00:00, 16.22s/it]"
      }
     },
     "ba738ceb2926479e98d402d961f04be4": {
      "model_module": "@jupyter-widgets/controls",
      "model_module_version": "1.2.0",
      "model_name": "DescriptionStyleModel",
      "state": {
       "description_width": ""
      }
     },
     "bb1428d50a2543d8807a2231d62ad6f7": {
      "model_module": "@jupyter-widgets/base",
      "model_module_version": "1.0.0",
      "model_name": "LayoutModel",
      "state": {}
     },
     "bb7c9a52ccaf4bdbaa290ef7d61c09c1": {
      "model_module": "@jupyter-widgets/base",
      "model_module_version": "1.0.0",
      "model_name": "LayoutModel",
      "state": {}
     },
     "bbfd8c4d0733436ab50e69dafae9d636": {
      "model_module": "@jupyter-widgets/controls",
      "model_module_version": "1.2.0",
      "model_name": "HTMLModel",
      "state": {
       "layout": "IPY_MODEL_80182e35b604440f830692edf4059f05",
       "style": "IPY_MODEL_419280ac73f34bf49ad3b8b82aaed1fb",
       "value": "100% 3520/3520 [01:56&lt;00:00, 30.17it/s]"
      }
     },
     "bdde10277de54f13acd86f0859a09128": {
      "model_module": "@jupyter-widgets/base",
      "model_module_version": "1.0.0",
      "model_name": "LayoutModel",
      "state": {}
     },
     "bf47439f089547f49a60a3a4019e5cc3": {
      "model_module": "@jupyter-widgets/controls",
      "model_module_version": "1.2.0",
      "model_name": "IntProgressModel",
      "state": {
       "bar_style": "success",
       "layout": "IPY_MODEL_b226e3c6e71141e89c78757c066081b5",
       "max": 3520,
       "style": "IPY_MODEL_1e9323508aa34d5a9c348f0e12e79950",
       "value": 3520
      }
     },
     "c00a1c60eda44ca7be1ce57cf685091f": {
      "model_module": "@jupyter-widgets/base",
      "model_module_version": "1.0.0",
      "model_name": "LayoutModel",
      "state": {}
     },
     "c06132ca5d4d4e8ba15e808a672a5865": {
      "model_module": "@jupyter-widgets/controls",
      "model_module_version": "1.2.0",
      "model_name": "HTMLModel",
      "state": {
       "layout": "IPY_MODEL_8344f94179564e2e8f03240bc821c437",
       "style": "IPY_MODEL_5a720a7e652842b1aa598b23d20c47f8",
       "value": "100% 75/75 [00:03&lt;00:00, 21.41it/s]"
      }
     },
     "c5426e9c6169433badbf636df8d0c391": {
      "model_module": "@jupyter-widgets/controls",
      "model_module_version": "1.2.0",
      "model_name": "IntProgressModel",
      "state": {
       "bar_style": "success",
       "layout": "IPY_MODEL_dd7104593f0848dbbc14b8d855ad5a32",
       "max": 3,
       "style": "IPY_MODEL_b064aa0a13d34439bfc5eb836cd8264a",
       "value": 3
      }
     },
     "c67379d2e042497e812a551a87b20787": {
      "model_module": "@jupyter-widgets/base",
      "model_module_version": "1.0.0",
      "model_name": "LayoutModel",
      "state": {}
     },
     "c678d362c637478b83137e97ae157310": {
      "model_module": "@jupyter-widgets/controls",
      "model_module_version": "1.2.0",
      "model_name": "ProgressStyleModel",
      "state": {
       "description_width": ""
      }
     },
     "c6a4686efdc446ae90f322151638ab67": {
      "model_module": "@jupyter-widgets/base",
      "model_module_version": "1.0.0",
      "model_name": "LayoutModel",
      "state": {}
     },
     "c6c7977ebd1b46aeb3a52fdc09150cf3": {
      "model_module": "@jupyter-widgets/controls",
      "model_module_version": "1.2.0",
      "model_name": "HTMLModel",
      "state": {
       "layout": "IPY_MODEL_03a90426e940479688127bb6abcc849f",
       "style": "IPY_MODEL_37c5dc358df54cf3bde3377fafae6a41",
       "value": "100% 194/194 [00:07&lt;00:00, 25.93it/s]"
      }
     },
     "c6ecf01add9b471d810b064de59dd7c2": {
      "model_module": "@jupyter-widgets/controls",
      "model_module_version": "1.2.0",
      "model_name": "DescriptionStyleModel",
      "state": {
       "description_width": ""
      }
     },
     "c7070ca00a2f4cb9bd3358ef5ac67c81": {
      "model_module": "@jupyter-widgets/base",
      "model_module_version": "1.0.0",
      "model_name": "LayoutModel",
      "state": {}
     },
     "c7554618e64d4501a7e2e7addaabbc7a": {
      "model_module": "@jupyter-widgets/controls",
      "model_module_version": "1.2.0",
      "model_name": "HTMLModel",
      "state": {
       "layout": "IPY_MODEL_1661a6e4dac04e66a960bce97f444997",
       "style": "IPY_MODEL_ab4babe3a7304f8c93c61b8104c1755f",
       "value": "100% 200/200 [00:06&lt;00:00, 32.70it/s]"
      }
     },
     "c78d623c03db4eee898173d3a2abe53d": {
      "model_module": "@jupyter-widgets/controls",
      "model_module_version": "1.2.0",
      "model_name": "IntProgressModel",
      "state": {
       "bar_style": "success",
       "layout": "IPY_MODEL_39df7a43f07a4c738ae035a77edc0591",
       "max": 3,
       "style": "IPY_MODEL_299fd0d6104744ac95808d8b50df4779",
       "value": 3
      }
     },
     "c91ba9f77054456eb56d6d84328d28c2": {
      "model_module": "@jupyter-widgets/controls",
      "model_module_version": "1.2.0",
      "model_name": "ProgressStyleModel",
      "state": {
       "description_width": ""
      }
     },
     "c91f251b0f3a4d799afa2a913976e112": {
      "model_module": "@jupyter-widgets/controls",
      "model_module_version": "1.2.0",
      "model_name": "HBoxModel",
      "state": {
       "children": [
        "IPY_MODEL_240261b6fcff49a49fdca5ad2aa9bfe4",
        "IPY_MODEL_629e629180fb4898a444480f45f45885"
       ],
       "layout": "IPY_MODEL_c67379d2e042497e812a551a87b20787"
      }
     },
     "c9d5421eb1f849648eeb2fc5b3344c49": {
      "model_module": "@jupyter-widgets/base",
      "model_module_version": "1.0.0",
      "model_name": "LayoutModel",
      "state": {}
     },
     "ca137ae1a7c64498b7e484da646003ca": {
      "model_module": "@jupyter-widgets/base",
      "model_module_version": "1.0.0",
      "model_name": "LayoutModel",
      "state": {}
     },
     "ca67896a2c32401c9fad02c02806e10f": {
      "model_module": "@jupyter-widgets/controls",
      "model_module_version": "1.2.0",
      "model_name": "HBoxModel",
      "state": {
       "children": [
        "IPY_MODEL_5e73cd7f01d944009a28b94d27ac4b4d",
        "IPY_MODEL_7bb23c435c6248889f31994b65c826d0"
       ],
       "layout": "IPY_MODEL_e55a0cfab0854846a30d77c636f0032d"
      }
     },
     "ca79619c13504643bab80f88a1209641": {
      "model_module": "@jupyter-widgets/controls",
      "model_module_version": "1.2.0",
      "model_name": "ProgressStyleModel",
      "state": {
       "description_width": ""
      }
     },
     "cc47bfa65b8f46a49482ab5840079b76": {
      "model_module": "@jupyter-widgets/controls",
      "model_module_version": "1.2.0",
      "model_name": "HTMLModel",
      "state": {
       "layout": "IPY_MODEL_429a3793b39f4731b799f489d1977006",
       "style": "IPY_MODEL_c6ecf01add9b471d810b064de59dd7c2",
       "value": "100% 314/314 [00:10&lt;00:00, 29.17it/s]"
      }
     },
     "cca26f1ad1df48c79cbff28c1bb9c860": {
      "model_module": "@jupyter-widgets/controls",
      "model_module_version": "1.2.0",
      "model_name": "HTMLModel",
      "state": {
       "layout": "IPY_MODEL_9f2256d7549143fbbd995dd3e25bd859",
       "style": "IPY_MODEL_a0f543acfa4942a38166fd56adeac0d2",
       "value": "100% 440/440 [00:14&lt;00:00, 30.27it/s]"
      }
     },
     "ceb78520e7644bcbac246128f78eba08": {
      "model_module": "@jupyter-widgets/controls",
      "model_module_version": "1.2.0",
      "model_name": "HTMLModel",
      "state": {
       "layout": "IPY_MODEL_fed91e55966a45d7a5a5071c6d2e8006",
       "style": "IPY_MODEL_0c9d2a42e2e14ed9b2b4a700f62a3f76",
       "value": "100% 5186/5186 [02:58&lt;00:00, 29.02it/s]"
      }
     },
     "cff6661c86654fce963f488973931682": {
      "model_module": "@jupyter-widgets/base",
      "model_module_version": "1.0.0",
      "model_name": "LayoutModel",
      "state": {}
     },
     "d06ea5786f694838ad30453e5ce39aa3": {
      "model_module": "@jupyter-widgets/controls",
      "model_module_version": "1.2.0",
      "model_name": "HBoxModel",
      "state": {
       "children": [
        "IPY_MODEL_b45ad2c0bb444a1f8fbfc9ebd5fa549c",
        "IPY_MODEL_ba04e3b74db843d7963917660c5aad87"
       ],
       "layout": "IPY_MODEL_4d5387d27fd14f9b9c6c5350ae3a896c"
      }
     },
     "d08054070c4c4bafb1dd6e2a2db3db4d": {
      "model_module": "@jupyter-widgets/controls",
      "model_module_version": "1.2.0",
      "model_name": "ProgressStyleModel",
      "state": {
       "description_width": ""
      }
     },
     "d12f971bc819489a93282504d50297ea": {
      "model_module": "@jupyter-widgets/controls",
      "model_module_version": "1.2.0",
      "model_name": "DescriptionStyleModel",
      "state": {
       "description_width": ""
      }
     },
     "d158867c5f764fdb9b49c7512a112c55": {
      "model_module": "@jupyter-widgets/controls",
      "model_module_version": "1.2.0",
      "model_name": "IntProgressModel",
      "state": {
       "bar_style": "success",
       "layout": "IPY_MODEL_032473dab1854b3ca32a1fb8dcafe776",
       "max": 3715,
       "style": "IPY_MODEL_e70a383587b14e54bd9d2fd47724aad4",
       "value": 3715
      }
     },
     "d16f963a41d24c26b58f364eb8a09dd5": {
      "model_module": "@jupyter-widgets/controls",
      "model_module_version": "1.2.0",
      "model_name": "HTMLModel",
      "state": {
       "layout": "IPY_MODEL_8a4fb9bb6b2c4d1488cfd5b3b7902ba4",
       "style": "IPY_MODEL_4f7bac58eaf94b6f95404e5debe73787",
       "value": "100% 80/80 [00:02&lt;00:00, 27.68it/s]"
      }
     },
     "d244103d29b44698bcf3a4fa9f1d52d2": {
      "model_module": "@jupyter-widgets/base",
      "model_module_version": "1.0.0",
      "model_name": "LayoutModel",
      "state": {}
     },
     "d43ec367fc8e4f75806296211b2dfc62": {
      "model_module": "@jupyter-widgets/base",
      "model_module_version": "1.0.0",
      "model_name": "LayoutModel",
      "state": {}
     },
     "d577ade7e489463bbe3005bc9ff917f5": {
      "model_module": "@jupyter-widgets/controls",
      "model_module_version": "1.2.0",
      "model_name": "HBoxModel",
      "state": {
       "children": [
        "IPY_MODEL_2af17baf010341c0bd3f405be325f236",
        "IPY_MODEL_5da07bf7d91a489c86e38c3097feafde"
       ],
       "layout": "IPY_MODEL_79e4357e980b497194e370bc650b6ffe"
      }
     },
     "d82f496a3e7d46cdba1d438842fb6eba": {
      "model_module": "@jupyter-widgets/controls",
      "model_module_version": "1.2.0",
      "model_name": "IntProgressModel",
      "state": {
       "bar_style": "success",
       "layout": "IPY_MODEL_9d3f21d2316745958f0dcb52683a866a",
       "max": 314,
       "style": "IPY_MODEL_a229f3816e324a79ba738f6a5af0b2eb",
       "value": 314
      }
     },
     "dac7b4ecb0cd44c4b4224d3f3d49d329": {
      "model_module": "@jupyter-widgets/controls",
      "model_module_version": "1.2.0",
      "model_name": "ProgressStyleModel",
      "state": {
       "description_width": ""
      }
     },
     "db5cc5028f9445e8a44d6ba9d9211cb8": {
      "model_module": "@jupyter-widgets/base",
      "model_module_version": "1.0.0",
      "model_name": "LayoutModel",
      "state": {}
     },
     "dce80ebf376a4db680cf3fa9e4debd0d": {
      "model_module": "@jupyter-widgets/base",
      "model_module_version": "1.0.0",
      "model_name": "LayoutModel",
      "state": {}
     },
     "dd7104593f0848dbbc14b8d855ad5a32": {
      "model_module": "@jupyter-widgets/base",
      "model_module_version": "1.0.0",
      "model_name": "LayoutModel",
      "state": {}
     },
     "dd731bc0599f42fd9aa737c1dfb30308": {
      "model_module": "@jupyter-widgets/controls",
      "model_module_version": "1.2.0",
      "model_name": "HBoxModel",
      "state": {
       "children": [
        "IPY_MODEL_bf47439f089547f49a60a3a4019e5cc3",
        "IPY_MODEL_6d910d05f0b34b6bbb4d1662d0442267"
       ],
       "layout": "IPY_MODEL_66243463c9214118aff8b8c3500032d8"
      }
     },
     "dd9beaf229344514a15f6ebcf44dd818": {
      "model_module": "@jupyter-widgets/base",
      "model_module_version": "1.0.0",
      "model_name": "LayoutModel",
      "state": {}
     },
     "ddce03fb64eb4d7f987829fabb31e4dc": {
      "model_module": "@jupyter-widgets/controls",
      "model_module_version": "1.2.0",
      "model_name": "HBoxModel",
      "state": {
       "children": [
        "IPY_MODEL_3b571ce3e97a49e2967d54807ca3f34b",
        "IPY_MODEL_b3e97e8bdba64d4595fecf8f3ac5c12a"
       ],
       "layout": "IPY_MODEL_18b18f149e43498cabdcfaa5e4a2933b"
      }
     },
     "de184065eb2f41f58a078b392f87cd1a": {
      "model_module": "@jupyter-widgets/base",
      "model_module_version": "1.0.0",
      "model_name": "LayoutModel",
      "state": {}
     },
     "de3028105d684c1097931f023efecc8b": {
      "model_module": "@jupyter-widgets/controls",
      "model_module_version": "1.2.0",
      "model_name": "IntProgressModel",
      "state": {
       "bar_style": "success",
       "layout": "IPY_MODEL_ae415e141e0a4112858de963f14c8add",
       "max": 2349,
       "style": "IPY_MODEL_fc216539a0824cd69dee689c76147bf9",
       "value": 2349
      }
     },
     "e053788fa7cb4583a725639c93d57744": {
      "model_module": "@jupyter-widgets/controls",
      "model_module_version": "1.2.0",
      "model_name": "HBoxModel",
      "state": {
       "children": [
        "IPY_MODEL_a08273cbb5dc4a6c94045429614fffd5",
        "IPY_MODEL_f6a8fc8c6f274301a388515966ca3ef4"
       ],
       "layout": "IPY_MODEL_d43ec367fc8e4f75806296211b2dfc62"
      }
     },
     "e1727b0b5193483791d40707beef7b22": {
      "model_module": "@jupyter-widgets/controls",
      "model_module_version": "1.2.0",
      "model_name": "HBoxModel",
      "state": {
       "children": [
        "IPY_MODEL_5d6e7576beff48d8a1ac0e54e4fd9bee",
        "IPY_MODEL_07d19ad4dbb642df94499daa3c3faecc"
       ],
       "layout": "IPY_MODEL_5979e1db65d04aef86acf874545e07b2"
      }
     },
     "e1b87bed02284761bef20d7d087744bd": {
      "model_module": "@jupyter-widgets/base",
      "model_module_version": "1.0.0",
      "model_name": "LayoutModel",
      "state": {}
     },
     "e45e3b7e8b8e4811b779751c7952c2ca": {
      "model_module": "@jupyter-widgets/controls",
      "model_module_version": "1.2.0",
      "model_name": "HBoxModel",
      "state": {
       "children": [
        "IPY_MODEL_de3028105d684c1097931f023efecc8b",
        "IPY_MODEL_f7f3f8b15f0844ef9f144a145ef81b34"
       ],
       "layout": "IPY_MODEL_a1aee04cbaac4aff95da0b0deb508b18"
      }
     },
     "e519f3e895194488b7c65e085051b6e3": {
      "model_module": "@jupyter-widgets/controls",
      "model_module_version": "1.2.0",
      "model_name": "ProgressStyleModel",
      "state": {
       "description_width": ""
      }
     },
     "e55a0cfab0854846a30d77c636f0032d": {
      "model_module": "@jupyter-widgets/base",
      "model_module_version": "1.0.0",
      "model_name": "LayoutModel",
      "state": {}
     },
     "e56e7c4258084b358900e499d9f91cdf": {
      "model_module": "@jupyter-widgets/controls",
      "model_module_version": "1.2.0",
      "model_name": "HBoxModel",
      "state": {
       "children": [
        "IPY_MODEL_3d2216edd4e7422383ac778515d90da4",
        "IPY_MODEL_c6c7977ebd1b46aeb3a52fdc09150cf3"
       ],
       "layout": "IPY_MODEL_7585feb68f3e46d7acd7c7df92514567"
      }
     },
     "e57c4983c4ce45abad9cd55d9dc15e4f": {
      "model_module": "@jupyter-widgets/controls",
      "model_module_version": "1.2.0",
      "model_name": "ProgressStyleModel",
      "state": {
       "description_width": ""
      }
     },
     "e6ae6f26760e4bce8f89ee25ef02159f": {
      "model_module": "@jupyter-widgets/controls",
      "model_module_version": "1.2.0",
      "model_name": "ProgressStyleModel",
      "state": {
       "description_width": ""
      }
     },
     "e70a383587b14e54bd9d2fd47724aad4": {
      "model_module": "@jupyter-widgets/controls",
      "model_module_version": "1.2.0",
      "model_name": "ProgressStyleModel",
      "state": {
       "description_width": ""
      }
     },
     "e74abd50947447a69725c0a3ff01996d": {
      "model_module": "@jupyter-widgets/base",
      "model_module_version": "1.0.0",
      "model_name": "LayoutModel",
      "state": {}
     },
     "e89acfc733f940009ace8ffa75163574": {
      "model_module": "@jupyter-widgets/base",
      "model_module_version": "1.0.0",
      "model_name": "LayoutModel",
      "state": {}
     },
     "e8fe2cb55d4840f6af2a84b2e90a7288": {
      "model_module": "@jupyter-widgets/base",
      "model_module_version": "1.0.0",
      "model_name": "LayoutModel",
      "state": {}
     },
     "e9e6c52818f243d58b0016afd343d923": {
      "model_module": "@jupyter-widgets/controls",
      "model_module_version": "1.2.0",
      "model_name": "IntProgressModel",
      "state": {
       "bar_style": "success",
       "layout": "IPY_MODEL_618b180677ca4558a81e6db6ececc460",
       "max": 2349,
       "style": "IPY_MODEL_459d493ad12b4039a101b760137481a4",
       "value": 2349
      }
     },
     "eb189d4cafd84688a9532e4e091ca015": {
      "model_module": "@jupyter-widgets/base",
      "model_module_version": "1.0.0",
      "model_name": "LayoutModel",
      "state": {}
     },
     "ebe199393d7c4decb82b9deeb553efea": {
      "model_module": "@jupyter-widgets/base",
      "model_module_version": "1.0.0",
      "model_name": "LayoutModel",
      "state": {}
     },
     "eca1d6a2bf894c40aa793c19c7596089": {
      "model_module": "@jupyter-widgets/base",
      "model_module_version": "1.0.0",
      "model_name": "LayoutModel",
      "state": {}
     },
     "edbcb87eec424f0790a519ce68a239f5": {
      "model_module": "@jupyter-widgets/base",
      "model_module_version": "1.0.0",
      "model_name": "LayoutModel",
      "state": {}
     },
     "ee516bde16c74e15a762c42f8268d5ed": {
      "model_module": "@jupyter-widgets/controls",
      "model_module_version": "1.2.0",
      "model_name": "HBoxModel",
      "state": {
       "children": [
        "IPY_MODEL_8323b61725fd4ebbb30f9776413e8e72",
        "IPY_MODEL_99f9c0e4659d4192b5629564ce27cf66"
       ],
       "layout": "IPY_MODEL_9ec873dae2124a8b836ce3478c3e6f1d"
      }
     },
     "f07027fda5144f66b71ef042884a7297": {
      "model_module": "@jupyter-widgets/controls",
      "model_module_version": "1.2.0",
      "model_name": "DescriptionStyleModel",
      "state": {
       "description_width": ""
      }
     },
     "f14a9da1c81a4e698871d66ab08e1fa4": {
      "model_module": "@jupyter-widgets/controls",
      "model_module_version": "1.2.0",
      "model_name": "IntProgressModel",
      "state": {
       "bar_style": "success",
       "layout": "IPY_MODEL_218d748e443c4986a97b30aee3c49d21",
       "max": 314,
       "style": "IPY_MODEL_4da85a291b5943fe8985d40b34259c20",
       "value": 314
      }
     },
     "f2c65a2dd1c9405a9ddc37f06a6cea75": {
      "model_module": "@jupyter-widgets/controls",
      "model_module_version": "1.2.0",
      "model_name": "DescriptionStyleModel",
      "state": {
       "description_width": ""
      }
     },
     "f3d8a8d4cf684a91a8b03f23cb538b8e": {
      "model_module": "@jupyter-widgets/base",
      "model_module_version": "1.0.0",
      "model_name": "LayoutModel",
      "state": {}
     },
     "f42cd84a55804be5b88e235a96eb6511": {
      "model_module": "@jupyter-widgets/controls",
      "model_module_version": "1.2.0",
      "model_name": "DescriptionStyleModel",
      "state": {
       "description_width": ""
      }
     },
     "f6a8fc8c6f274301a388515966ca3ef4": {
      "model_module": "@jupyter-widgets/controls",
      "model_module_version": "1.2.0",
      "model_name": "HTMLModel",
      "state": {
       "layout": "IPY_MODEL_72be1a5e0fa04899a08af8e4bb2b9d05",
       "style": "IPY_MODEL_96c8788460f04bbfb2517d5e6addb554",
       "value": "100% 1998/1998 [01:08&lt;00:00, 29.15it/s]"
      }
     },
     "f6e0b89990a440daa10c71a3f8a2337c": {
      "model_module": "@jupyter-widgets/controls",
      "model_module_version": "1.2.0",
      "model_name": "ProgressStyleModel",
      "state": {
       "description_width": ""
      }
     },
     "f7f3f8b15f0844ef9f144a145ef81b34": {
      "model_module": "@jupyter-widgets/controls",
      "model_module_version": "1.2.0",
      "model_name": "HTMLModel",
      "state": {
       "layout": "IPY_MODEL_fe718175e37549cd888fa26781e3c187",
       "style": "IPY_MODEL_d12f971bc819489a93282504d50297ea",
       "value": "100% 2349/2349 [01:14&lt;00:00, 31.65it/s]"
      }
     },
     "f968997c618045859b06afb97f9d8ac6": {
      "model_module": "@jupyter-widgets/controls",
      "model_module_version": "1.2.0",
      "model_name": "IntProgressModel",
      "state": {
       "bar_style": "success",
       "layout": "IPY_MODEL_e74abd50947447a69725c0a3ff01996d",
       "max": 3,
       "style": "IPY_MODEL_e57c4983c4ce45abad9cd55d9dc15e4f",
       "value": 3
      }
     },
     "fa61f23daac94da1a3a017eb3fe723a4": {
      "model_module": "@jupyter-widgets/controls",
      "model_module_version": "1.2.0",
      "model_name": "IntProgressModel",
      "state": {
       "bar_style": "success",
       "layout": "IPY_MODEL_c9d5421eb1f849648eeb2fc5b3344c49",
       "max": 75,
       "style": "IPY_MODEL_a54c71c1abb444b882f1d240b86be037",
       "value": 75
      }
     },
     "fc216539a0824cd69dee689c76147bf9": {
      "model_module": "@jupyter-widgets/controls",
      "model_module_version": "1.2.0",
      "model_name": "ProgressStyleModel",
      "state": {
       "description_width": ""
      }
     },
     "fe4d2350f20b4ec9af41025fefdbe498": {
      "model_module": "@jupyter-widgets/base",
      "model_module_version": "1.0.0",
      "model_name": "LayoutModel",
      "state": {}
     },
     "fe718175e37549cd888fa26781e3c187": {
      "model_module": "@jupyter-widgets/base",
      "model_module_version": "1.0.0",
      "model_name": "LayoutModel",
      "state": {}
     },
     "fec1aa01ddfd4f109e0e384a81baf0fb": {
      "model_module": "@jupyter-widgets/base",
      "model_module_version": "1.0.0",
      "model_name": "LayoutModel",
      "state": {}
     },
     "fed91e55966a45d7a5a5071c6d2e8006": {
      "model_module": "@jupyter-widgets/base",
      "model_module_version": "1.0.0",
      "model_name": "LayoutModel",
      "state": {}
     }
    },
    "version_major": 2,
    "version_minor": 0
   }
  }
 },
 "nbformat": 4,
 "nbformat_minor": 2
}
