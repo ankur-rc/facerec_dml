{
 "cells": [
  {
   "cell_type": "markdown",
   "metadata": {},
   "source": [
    "## Deep Metric Learning (DML) - Evaluation"
   ]
  },
  {
   "cell_type": "markdown",
   "metadata": {},
   "source": [
    "### Methodology"
   ]
  },
  {
   "cell_type": "markdown",
   "metadata": {},
   "source": [
    "1. **Normalize** each image from the dataset by: \n",
    "    * Pre-processing - histogram equalization\n",
    "    * Post-processing - 2D facial alignment\n",
    "2. Randomise folds containing **train-test splits** for each subject\n",
    "3. **Train** a classifier on each fold's train split\n",
    "    * Generate embeddings for each sample using the FaceNet neural network\n",
    "    * Train a linear SVM model on the embeddings\n",
    "4. **Evaluate** the trained model in step 4 by it's corresponding test split\n",
    "    * Generate embeddings for each sample using the FaceNet neural network\n",
    "    * Evaluate on the trained SVM classifier in step 3\n",
    "5. Repeat step 2, 3, 4 by varying the number of training samples per subject\n",
    "6. Report the average value of **Precision@1** across each fold."
   ]
  },
  {
   "cell_type": "code",
   "execution_count": 14,
   "metadata": {},
   "outputs": [],
   "source": [
    "from __future__ import division\n",
    "import numpy as np\n",
    "import tqdm"
   ]
  },
  {
   "cell_type": "code",
   "execution_count": 15,
   "metadata": {},
   "outputs": [],
   "source": [
    "from Dataset import Dataset\n",
    "from deep.FaceRecognizer import FaceRecognizer"
   ]
  },
  {
   "cell_type": "markdown",
   "metadata": {},
   "source": [
    "### ATT Dataset"
   ]
  },
  {
   "cell_type": "code",
   "execution_count": 16,
   "metadata": {},
   "outputs": [],
   "source": [
    "dataset_path =  \"/media/ankurrc/new_volume/softura/facerec/datasets/norm_standard_att\""
   ]
  },
  {
   "cell_type": "code",
   "execution_count": 17,
   "metadata": {},
   "outputs": [],
   "source": [
    "folds = 3\n",
    "training_samples = [2, 5, 8]"
   ]
  },
  {
   "cell_type": "code",
   "execution_count": 18,
   "metadata": {},
   "outputs": [],
   "source": [
    "results = []"
   ]
  },
  {
   "cell_type": "markdown",
   "metadata": {},
   "source": [
    "#### Train the recognizer for the different folds and evaluate"
   ]
  },
  {
   "cell_type": "code",
   "execution_count": 19,
   "metadata": {},
   "outputs": [],
   "source": [
    "recognizer_model = recognizer_model = FaceRecognizer(\n",
    "        model_path=\"deep/dlib_face_recognition_resnet_model_v1.dat\",\n",
    "        shape_predictor_path=\"deep/shape_predictor_5_face_landmarks.dat\")\n",
    "dataset = Dataset(dataset_path)"
   ]
  },
  {
   "cell_type": "code",
   "execution_count": 22,
   "metadata": {},
   "outputs": [
    {
     "name": "stdout",
     "output_type": "stream",
     "text": [
      "Evaluating algorithm on  [2, 5, 8]  training samples per subject...\n"
     ]
    },
    {
     "data": {
      "application/vnd.jupyter.widget-view+json": {
       "model_id": "a3af1d019ec24be5b6b4f4107b1af406",
       "version_major": 2,
       "version_minor": 0
      },
      "text/plain": [
       "HBox(children=(IntProgress(value=0, max=3), HTML(value=u'')))"
      ]
     },
     "metadata": {},
     "output_type": "display_data"
    },
    {
     "name": "stdout",
     "output_type": "stream",
     "text": [
      "Training on 2 samples per subject.\n"
     ]
    },
    {
     "data": {
      "application/vnd.jupyter.widget-view+json": {
       "model_id": "6d5b5d9468044f9cb7e1d98d664a74d5",
       "version_major": 2,
       "version_minor": 0
      },
      "text/plain": [
       "HBox(children=(IntProgress(value=0, max=3), HTML(value=u'')))"
      ]
     },
     "metadata": {},
     "output_type": "display_data"
    },
    {
     "name": "stdout",
     "output_type": "stream",
     "text": [
      "------------------------------------------------------------Fold 1------------------------------------------------------------\n",
      "Training and evaluating recognizer (80 samples and 40 subjects)...\n",
      "Train-->\n"
     ]
    },
    {
     "data": {
      "application/vnd.jupyter.widget-view+json": {
       "model_id": "686e56b9863945a7b35abd49af37f588",
       "version_major": 2,
       "version_minor": 0
      },
      "text/plain": [
       "HBox(children=(IntProgress(value=0, max=80), HTML(value=u'')))"
      ]
     },
     "metadata": {},
     "output_type": "display_data"
    },
    {
     "name": "stdout",
     "output_type": "stream",
     "text": [
      "Test-->\n"
     ]
    },
    {
     "data": {
      "application/vnd.jupyter.widget-view+json": {
       "model_id": "622133a5036d43918878b1136f4ed2af",
       "version_major": 2,
       "version_minor": 0
      },
      "text/plain": [
       "HBox(children=(IntProgress(value=0, max=314), HTML(value=u'')))"
      ]
     },
     "metadata": {},
     "output_type": "display_data"
    },
    {
     "name": "stdout",
     "output_type": "stream",
     "text": [
      "Precision@1: 99.68152866242038%\n",
      "------------------------------------------------------------Fold 2------------------------------------------------------------\n",
      "Training and evaluating recognizer (80 samples and 40 subjects)...\n",
      "Train-->\n"
     ]
    },
    {
     "data": {
      "application/vnd.jupyter.widget-view+json": {
       "model_id": "c86ca823a0944832955fef99fad9765e",
       "version_major": 2,
       "version_minor": 0
      },
      "text/plain": [
       "HBox(children=(IntProgress(value=0, max=80), HTML(value=u'')))"
      ]
     },
     "metadata": {},
     "output_type": "display_data"
    },
    {
     "name": "stdout",
     "output_type": "stream",
     "text": [
      "Test-->\n"
     ]
    },
    {
     "data": {
      "application/vnd.jupyter.widget-view+json": {
       "model_id": "d9977641f84b4c3bab5510e526eb2b3d",
       "version_major": 2,
       "version_minor": 0
      },
      "text/plain": [
       "HBox(children=(IntProgress(value=0, max=314), HTML(value=u'')))"
      ]
     },
     "metadata": {},
     "output_type": "display_data"
    },
    {
     "name": "stdout",
     "output_type": "stream",
     "text": [
      "Precision@1: 100.0%\n",
      "------------------------------------------------------------Fold 3------------------------------------------------------------\n",
      "Training and evaluating recognizer (80 samples and 40 subjects)...\n",
      "Train-->\n"
     ]
    },
    {
     "data": {
      "application/vnd.jupyter.widget-view+json": {
       "model_id": "6355610643d9468f93fe081a030ce2dc",
       "version_major": 2,
       "version_minor": 0
      },
      "text/plain": [
       "HBox(children=(IntProgress(value=0, max=80), HTML(value=u'')))"
      ]
     },
     "metadata": {},
     "output_type": "display_data"
    },
    {
     "name": "stdout",
     "output_type": "stream",
     "text": [
      "Test-->\n"
     ]
    },
    {
     "data": {
      "application/vnd.jupyter.widget-view+json": {
       "model_id": "0527bc8f8988414a8d1a18f75fa2218d",
       "version_major": 2,
       "version_minor": 0
      },
      "text/plain": [
       "HBox(children=(IntProgress(value=0, max=314), HTML(value=u'')))"
      ]
     },
     "metadata": {},
     "output_type": "display_data"
    },
    {
     "name": "stdout",
     "output_type": "stream",
     "text": [
      "Precision@1: 100.0%\n",
      "------------------------------------------------------------------------------------------------------------------------\n",
      "\n",
      "Training on 5 samples per subject.\n"
     ]
    },
    {
     "data": {
      "application/vnd.jupyter.widget-view+json": {
       "model_id": "e0e8ff677723404fbcfbf97b184847ff",
       "version_major": 2,
       "version_minor": 0
      },
      "text/plain": [
       "HBox(children=(IntProgress(value=0, max=3), HTML(value=u'')))"
      ]
     },
     "metadata": {},
     "output_type": "display_data"
    },
    {
     "name": "stdout",
     "output_type": "stream",
     "text": [
      "------------------------------------------------------------Fold 1------------------------------------------------------------\n",
      "Training and evaluating recognizer (200 samples and 40 subjects)...\n",
      "Train-->\n"
     ]
    },
    {
     "data": {
      "application/vnd.jupyter.widget-view+json": {
       "model_id": "8ed4ae915519493ab7ec4775d85ce1ca",
       "version_major": 2,
       "version_minor": 0
      },
      "text/plain": [
       "HBox(children=(IntProgress(value=0, max=200), HTML(value=u'')))"
      ]
     },
     "metadata": {},
     "output_type": "display_data"
    },
    {
     "name": "stdout",
     "output_type": "stream",
     "text": [
      "Test-->\n"
     ]
    },
    {
     "data": {
      "application/vnd.jupyter.widget-view+json": {
       "model_id": "bbae2eac649940869e04de5d6a66dfd3",
       "version_major": 2,
       "version_minor": 0
      },
      "text/plain": [
       "HBox(children=(IntProgress(value=0, max=194), HTML(value=u'')))"
      ]
     },
     "metadata": {},
     "output_type": "display_data"
    },
    {
     "name": "stdout",
     "output_type": "stream",
     "text": [
      "Precision@1: 100.0%\n",
      "------------------------------------------------------------Fold 2------------------------------------------------------------\n",
      "Training and evaluating recognizer (200 samples and 40 subjects)...\n",
      "Train-->\n"
     ]
    },
    {
     "data": {
      "application/vnd.jupyter.widget-view+json": {
       "model_id": "f0e2e32aa6b047ab9d9c1722720931e7",
       "version_major": 2,
       "version_minor": 0
      },
      "text/plain": [
       "HBox(children=(IntProgress(value=0, max=200), HTML(value=u'')))"
      ]
     },
     "metadata": {},
     "output_type": "display_data"
    },
    {
     "name": "stdout",
     "output_type": "stream",
     "text": [
      "Test-->\n"
     ]
    },
    {
     "data": {
      "application/vnd.jupyter.widget-view+json": {
       "model_id": "b4803f0460e54f9391409d7dfa17cf7f",
       "version_major": 2,
       "version_minor": 0
      },
      "text/plain": [
       "HBox(children=(IntProgress(value=0, max=194), HTML(value=u'')))"
      ]
     },
     "metadata": {},
     "output_type": "display_data"
    },
    {
     "name": "stdout",
     "output_type": "stream",
     "text": [
      "Precision@1: 100.0%\n",
      "------------------------------------------------------------Fold 3------------------------------------------------------------\n",
      "Training and evaluating recognizer (200 samples and 40 subjects)...\n",
      "Train-->\n"
     ]
    },
    {
     "data": {
      "application/vnd.jupyter.widget-view+json": {
       "model_id": "8500e52012904620867760c475ec7343",
       "version_major": 2,
       "version_minor": 0
      },
      "text/plain": [
       "HBox(children=(IntProgress(value=0, max=200), HTML(value=u'')))"
      ]
     },
     "metadata": {},
     "output_type": "display_data"
    },
    {
     "name": "stdout",
     "output_type": "stream",
     "text": [
      "Test-->\n"
     ]
    },
    {
     "data": {
      "application/vnd.jupyter.widget-view+json": {
       "model_id": "7c930ede97f94dc98f468d7e0f21f110",
       "version_major": 2,
       "version_minor": 0
      },
      "text/plain": [
       "HBox(children=(IntProgress(value=0, max=194), HTML(value=u'')))"
      ]
     },
     "metadata": {},
     "output_type": "display_data"
    },
    {
     "name": "stdout",
     "output_type": "stream",
     "text": [
      "Precision@1: 100.0%\n",
      "------------------------------------------------------------------------------------------------------------------------\n",
      "\n",
      "Training on 8 samples per subject.\n"
     ]
    },
    {
     "data": {
      "application/vnd.jupyter.widget-view+json": {
       "model_id": "c52c67f9eeff4107b3df213b20cf8712",
       "version_major": 2,
       "version_minor": 0
      },
      "text/plain": [
       "HBox(children=(IntProgress(value=0, max=3), HTML(value=u'')))"
      ]
     },
     "metadata": {},
     "output_type": "display_data"
    },
    {
     "name": "stdout",
     "output_type": "stream",
     "text": [
      "------------------------------------------------------------Fold 1------------------------------------------------------------\n",
      "Training and evaluating recognizer (304 samples and 38 subjects)...\n",
      "Train-->\n"
     ]
    },
    {
     "data": {
      "application/vnd.jupyter.widget-view+json": {
       "model_id": "c72adbc7ebe54575b5f4883492e616eb",
       "version_major": 2,
       "version_minor": 0
      },
      "text/plain": [
       "HBox(children=(IntProgress(value=0, max=304), HTML(value=u'')))"
      ]
     },
     "metadata": {},
     "output_type": "display_data"
    },
    {
     "name": "stdout",
     "output_type": "stream",
     "text": [
      "Test-->\n"
     ]
    },
    {
     "data": {
      "application/vnd.jupyter.widget-view+json": {
       "model_id": "05ef137d0b8242f19c2e27c33094e6f7",
       "version_major": 2,
       "version_minor": 0
      },
      "text/plain": [
       "HBox(children=(IntProgress(value=0, max=75), HTML(value=u'')))"
      ]
     },
     "metadata": {},
     "output_type": "display_data"
    },
    {
     "name": "stdout",
     "output_type": "stream",
     "text": [
      "Precision@1: 100.0%\n",
      "------------------------------------------------------------Fold 2------------------------------------------------------------\n",
      "Training and evaluating recognizer (304 samples and 38 subjects)...\n",
      "Train-->\n"
     ]
    },
    {
     "data": {
      "application/vnd.jupyter.widget-view+json": {
       "model_id": "26a45d6c950542b287847333bcfb77e3",
       "version_major": 2,
       "version_minor": 0
      },
      "text/plain": [
       "HBox(children=(IntProgress(value=0, max=304), HTML(value=u'')))"
      ]
     },
     "metadata": {},
     "output_type": "display_data"
    },
    {
     "name": "stdout",
     "output_type": "stream",
     "text": [
      "Test-->\n"
     ]
    },
    {
     "data": {
      "application/vnd.jupyter.widget-view+json": {
       "model_id": "a8176cc6d3614553854cd2ba9d5fe7cb",
       "version_major": 2,
       "version_minor": 0
      },
      "text/plain": [
       "HBox(children=(IntProgress(value=0, max=75), HTML(value=u'')))"
      ]
     },
     "metadata": {},
     "output_type": "display_data"
    },
    {
     "name": "stdout",
     "output_type": "stream",
     "text": [
      "Precision@1: 100.0%\n",
      "------------------------------------------------------------Fold 3------------------------------------------------------------\n",
      "Training and evaluating recognizer (304 samples and 38 subjects)...\n",
      "Train-->\n"
     ]
    },
    {
     "data": {
      "application/vnd.jupyter.widget-view+json": {
       "model_id": "1fb9ffc6364f4bfca5c251eec8425188",
       "version_major": 2,
       "version_minor": 0
      },
      "text/plain": [
       "HBox(children=(IntProgress(value=0, max=304), HTML(value=u'')))"
      ]
     },
     "metadata": {},
     "output_type": "display_data"
    },
    {
     "name": "stdout",
     "output_type": "stream",
     "text": [
      "Test-->\n"
     ]
    },
    {
     "data": {
      "application/vnd.jupyter.widget-view+json": {
       "model_id": "0aa31b4ded164198aacb33e795c68f09",
       "version_major": 2,
       "version_minor": 0
      },
      "text/plain": [
       "HBox(children=(IntProgress(value=0, max=75), HTML(value=u'')))"
      ]
     },
     "metadata": {},
     "output_type": "display_data"
    },
    {
     "name": "stdout",
     "output_type": "stream",
     "text": [
      "Precision@1: 100.0%\n",
      "------------------------------------------------------------------------------------------------------------------------\n",
      "\n",
      "done.\n"
     ]
    }
   ],
   "source": [
    "print \"Evaluating algorithm on \", training_samples, \" training samples per subject...\"\n",
    "for i in tqdm.tnrange(0, len(training_samples)):\n",
    "    #print \"Training on\", training_samples[i], \"samples per subject.\"\n",
    "    num_train = training_samples[i]\n",
    "    tqdm.tqdm.write(\"Training on \" + str(num_train) + \" samples per subject.\")\n",
    "    fold_result = []\n",
    "    for fold in tqdm.tnrange(1, folds+1):\n",
    "        #print \"-\"*60, \"Fold\", fold, \"-\"*60\n",
    "        tqdm.tqdm.write(\"-\"*60 + \"Fold \" + str(fold) + \"-\"*60)\n",
    "        X_train, y_train = dataset.load_data(is_train=True, fold=fold, num_train=num_train)\n",
    "\n",
    "        #print \"Training and evaluating recognizer (\", len(X_train), \"samples and\", len(\n",
    "        #   np.unique(y_train)), \"subjects)...\"\n",
    "        tqdm.tqdm.write(\"Training and evaluating recognizer (\" + str(len(X_train)) + \" samples and \" + str(len(\n",
    "            np.unique(y_train))) + \" subjects)...\")\n",
    "        \n",
    "        #print \"Step 1. Generating embeddings...\"\n",
    "        #print \"Train--->\"\n",
    "        tqdm.tqdm.write(\"Train-->\")\n",
    "        embeddings = recognizer_model.embed(X_train)\n",
    "        #print \"completed.\"\n",
    "\n",
    "        #print \"Step 2. Training linear SVM model...\"\n",
    "        recognizer_model.fit_embeddings(embeddings, y_train)\n",
    "        #print \"completed.\"\n",
    "\n",
    "        X_test, y_test = dataset.load_data(is_train=False, fold=fold, num_train=num_train)\n",
    "        #print \"Predicting on (\", len(X_test), \"samples)...\"\n",
    "\n",
    "        #print \"Step 1. Generating embeddings...\"\n",
    "        # print \"Test--->\"\n",
    "        tqdm.tqdm.write(\"Test-->\")\n",
    "        embeddings = recognizer_model.embed(X_test)\n",
    "        #print \"completed.\"\n",
    "\n",
    "        #print \"Step 2. Evaluating on linear SVM model...\"\n",
    "        result = recognizer_model.evaluate(embeddings, y_test)\n",
    "        \n",
    "        fold_result.append(result)\n",
    "        #print \"Done\"\n",
    "        #print \"Precision@1:\", result, \"%\"\n",
    "        tqdm.tqdm.write(\"Precision@1: \" + str(result) + \"%\")\n",
    "    \n",
    "    results.append(fold_result)\n",
    "\n",
    "    #print \"-\"*120, \"\\n\"\n",
    "    tqdm.tqdm.write(\"-\"*120 + \"\\n\")\n",
    "    \n",
    "print \"done.\""
   ]
  },
  {
   "cell_type": "code",
   "execution_count": 23,
   "metadata": {},
   "outputs": [
    {
     "data": {
      "text/plain": [
       "[[99.68152866242038, 100.0, 100.0],\n",
       " [100.0, 100.0, 100.0],\n",
       " [100.0, 100.0, 100.0]]"
      ]
     },
     "execution_count": 23,
     "metadata": {},
     "output_type": "execute_result"
    }
   ],
   "source": [
    "att_results = results\n",
    "att_results"
   ]
  },
  {
   "cell_type": "markdown",
   "metadata": {},
   "source": [
    "### Cyber Extruder Ultimate Dataset"
   ]
  },
  {
   "cell_type": "code",
   "execution_count": 24,
   "metadata": {},
   "outputs": [],
   "source": [
    "dataset_path =  \"/media/ankurrc/new_volume/softura/facerec/datasets/norm_cyber_extruder_ultimate\""
   ]
  },
  {
   "cell_type": "code",
   "execution_count": 25,
   "metadata": {},
   "outputs": [],
   "source": [
    "recognizer_model = recognizer_model = FaceRecognizer(\n",
    "        model_path=\"deep/dlib_face_recognition_resnet_model_v1.dat\",\n",
    "        shape_predictor_path=\"deep/shape_predictor_5_face_landmarks.dat\")\n",
    "dataset = Dataset(dataset_path)\n",
    "results = []"
   ]
  },
  {
   "cell_type": "code",
   "execution_count": 26,
   "metadata": {},
   "outputs": [
    {
     "name": "stdout",
     "output_type": "stream",
     "text": [
      "Evaluating algorithm on  [2, 5, 8]  training samples per subject...\n"
     ]
    },
    {
     "data": {
      "application/vnd.jupyter.widget-view+json": {
       "model_id": "da15748daccb4253b4c9aa6dc3fe0da6",
       "version_major": 2,
       "version_minor": 0
      },
      "text/plain": [
       "HBox(children=(IntProgress(value=0, max=3), HTML(value=u'')))"
      ]
     },
     "metadata": {},
     "output_type": "display_data"
    },
    {
     "name": "stdout",
     "output_type": "stream",
     "text": [
      "Training on 2 samples per subject.\n"
     ]
    },
    {
     "data": {
      "application/vnd.jupyter.widget-view+json": {
       "model_id": "4daf5042d3c44ea9b34049addcb57565",
       "version_major": 2,
       "version_minor": 0
      },
      "text/plain": [
       "HBox(children=(IntProgress(value=0, max=3), HTML(value=u'')))"
      ]
     },
     "metadata": {},
     "output_type": "display_data"
    },
    {
     "name": "stdout",
     "output_type": "stream",
     "text": [
      "------------------------------------------------------------Fold 1------------------------------------------------------------\n",
      "Training and evaluating recognizer (1998 samples and 999 subjects)...\n",
      "Train-->\n"
     ]
    },
    {
     "data": {
      "application/vnd.jupyter.widget-view+json": {
       "model_id": "c71a9fb16bed47c4937bdb93cf0e0815",
       "version_major": 2,
       "version_minor": 0
      },
      "text/plain": [
       "HBox(children=(IntProgress(value=0, max=1998), HTML(value=u'')))"
      ]
     },
     "metadata": {},
     "output_type": "display_data"
    },
    {
     "name": "stdout",
     "output_type": "stream",
     "text": [
      "Test-->\n"
     ]
    },
    {
     "data": {
      "application/vnd.jupyter.widget-view+json": {
       "model_id": "6226119c2eea41a184b596d67ee6bdf6",
       "version_major": 2,
       "version_minor": 0
      },
      "text/plain": [
       "HBox(children=(IntProgress(value=0, max=5186), HTML(value=u'')))"
      ]
     },
     "metadata": {},
     "output_type": "display_data"
    },
    {
     "name": "stdout",
     "output_type": "stream",
     "text": [
      "Precision@1: 94.56228306980333%\n",
      "------------------------------------------------------------Fold 2------------------------------------------------------------\n",
      "Training and evaluating recognizer (1998 samples and 999 subjects)...\n",
      "Train-->\n"
     ]
    },
    {
     "data": {
      "application/vnd.jupyter.widget-view+json": {
       "model_id": "9fdbee13c18e4ff288958dfd8c141275",
       "version_major": 2,
       "version_minor": 0
      },
      "text/plain": [
       "HBox(children=(IntProgress(value=0, max=1998), HTML(value=u'')))"
      ]
     },
     "metadata": {},
     "output_type": "display_data"
    },
    {
     "name": "stdout",
     "output_type": "stream",
     "text": [
      "Test-->\n"
     ]
    },
    {
     "data": {
      "application/vnd.jupyter.widget-view+json": {
       "model_id": "3b317a19c23c445a914ebdb3c249841f",
       "version_major": 2,
       "version_minor": 0
      },
      "text/plain": [
       "HBox(children=(IntProgress(value=0, max=5186), HTML(value=u'')))"
      ]
     },
     "metadata": {},
     "output_type": "display_data"
    },
    {
     "name": "stdout",
     "output_type": "stream",
     "text": [
      "Precision@1: 94.79367527959892%\n",
      "------------------------------------------------------------Fold 3------------------------------------------------------------\n",
      "Training and evaluating recognizer (1998 samples and 999 subjects)...\n",
      "Train-->\n"
     ]
    },
    {
     "data": {
      "application/vnd.jupyter.widget-view+json": {
       "model_id": "f962b8a5e9e3439ba3dbb1c396da8d31",
       "version_major": 2,
       "version_minor": 0
      },
      "text/plain": [
       "HBox(children=(IntProgress(value=0, max=1998), HTML(value=u'')))"
      ]
     },
     "metadata": {},
     "output_type": "display_data"
    },
    {
     "name": "stdout",
     "output_type": "stream",
     "text": [
      "Test-->\n"
     ]
    },
    {
     "data": {
      "application/vnd.jupyter.widget-view+json": {
       "model_id": "81fd18a9e365478291f36bcdac6c0609",
       "version_major": 2,
       "version_minor": 0
      },
      "text/plain": [
       "HBox(children=(IntProgress(value=0, max=5186), HTML(value=u'')))"
      ]
     },
     "metadata": {},
     "output_type": "display_data"
    },
    {
     "name": "stdout",
     "output_type": "stream",
     "text": [
      "Precision@1: 94.60084843810257%\n",
      "------------------------------------------------------------------------------------------------------------------------\n",
      "\n",
      "Training on 5 samples per subject.\n"
     ]
    },
    {
     "data": {
      "application/vnd.jupyter.widget-view+json": {
       "model_id": "72d396e81b914a7c81e020a8028b9449",
       "version_major": 2,
       "version_minor": 0
      },
      "text/plain": [
       "HBox(children=(IntProgress(value=0, max=3), HTML(value=u'')))"
      ]
     },
     "metadata": {},
     "output_type": "display_data"
    },
    {
     "name": "stdout",
     "output_type": "stream",
     "text": [
      "------------------------------------------------------------Fold 1------------------------------------------------------------\n",
      "Training and evaluating recognizer (3715 samples and 743 subjects)...\n",
      "Train-->\n"
     ]
    },
    {
     "data": {
      "application/vnd.jupyter.widget-view+json": {
       "model_id": "4ed1d5893f1b48069505419e5bd7b259",
       "version_major": 2,
       "version_minor": 0
      },
      "text/plain": [
       "HBox(children=(IntProgress(value=0, max=3715), HTML(value=u'')))"
      ]
     },
     "metadata": {},
     "output_type": "display_data"
    },
    {
     "name": "stdout",
     "output_type": "stream",
     "text": [
      "Test-->\n"
     ]
    },
    {
     "data": {
      "application/vnd.jupyter.widget-view+json": {
       "model_id": "5caf14b754bf4e8189e4f1e0864c38e6",
       "version_major": 2,
       "version_minor": 0
      },
      "text/plain": [
       "HBox(children=(IntProgress(value=0, max=2349), HTML(value=u'')))"
      ]
     },
     "metadata": {},
     "output_type": "display_data"
    },
    {
     "name": "stdout",
     "output_type": "stream",
     "text": [
      "Precision@1: 98.21200510855684%\n",
      "------------------------------------------------------------Fold 2------------------------------------------------------------\n",
      "Training and evaluating recognizer (3715 samples and 743 subjects)...\n",
      "Train-->\n"
     ]
    },
    {
     "data": {
      "application/vnd.jupyter.widget-view+json": {
       "model_id": "6876700e7c6744b2880af1a2ddb176a6",
       "version_major": 2,
       "version_minor": 0
      },
      "text/plain": [
       "HBox(children=(IntProgress(value=0, max=3715), HTML(value=u'')))"
      ]
     },
     "metadata": {},
     "output_type": "display_data"
    },
    {
     "name": "stdout",
     "output_type": "stream",
     "text": [
      "Test-->\n"
     ]
    },
    {
     "data": {
      "application/vnd.jupyter.widget-view+json": {
       "model_id": "aa6d7b727ecf4c7bbfbce48744c439c2",
       "version_major": 2,
       "version_minor": 0
      },
      "text/plain": [
       "HBox(children=(IntProgress(value=0, max=2349), HTML(value=u'')))"
      ]
     },
     "metadata": {},
     "output_type": "display_data"
    },
    {
     "name": "stdout",
     "output_type": "stream",
     "text": [
      "Precision@1: 98.42486164325244%\n",
      "------------------------------------------------------------Fold 3------------------------------------------------------------\n",
      "Training and evaluating recognizer (3715 samples and 743 subjects)...\n",
      "Train-->\n"
     ]
    },
    {
     "data": {
      "application/vnd.jupyter.widget-view+json": {
       "model_id": "b78e2d846ea046c9b14b1ad048db3f29",
       "version_major": 2,
       "version_minor": 0
      },
      "text/plain": [
       "HBox(children=(IntProgress(value=0, max=3715), HTML(value=u'')))"
      ]
     },
     "metadata": {},
     "output_type": "display_data"
    },
    {
     "name": "stdout",
     "output_type": "stream",
     "text": [
      "Test-->\n"
     ]
    },
    {
     "data": {
      "application/vnd.jupyter.widget-view+json": {
       "model_id": "5d8705ce2db8461fa011059c3319161c",
       "version_major": 2,
       "version_minor": 0
      },
      "text/plain": [
       "HBox(children=(IntProgress(value=0, max=2349), HTML(value=u'')))"
      ]
     },
     "metadata": {},
     "output_type": "display_data"
    },
    {
     "name": "stdout",
     "output_type": "stream",
     "text": [
      "Precision@1: 98.42486164325244%\n",
      "------------------------------------------------------------------------------------------------------------------------\n",
      "\n",
      "Training on 8 samples per subject.\n"
     ]
    },
    {
     "data": {
      "application/vnd.jupyter.widget-view+json": {
       "model_id": "ec46e965faba49d39be1c267ff28e07b",
       "version_major": 2,
       "version_minor": 0
      },
      "text/plain": [
       "HBox(children=(IntProgress(value=0, max=3), HTML(value=u'')))"
      ]
     },
     "metadata": {},
     "output_type": "display_data"
    },
    {
     "name": "stdout",
     "output_type": "stream",
     "text": [
      "------------------------------------------------------------Fold 1------------------------------------------------------------\n",
      "Training and evaluating recognizer (3520 samples and 440 subjects)...\n",
      "Train-->\n"
     ]
    },
    {
     "data": {
      "application/vnd.jupyter.widget-view+json": {
       "model_id": "8fc5d7e8eb9b4e14a3a15104a1d7d642",
       "version_major": 2,
       "version_minor": 0
      },
      "text/plain": [
       "HBox(children=(IntProgress(value=0, max=3520), HTML(value=u'')))"
      ]
     },
     "metadata": {},
     "output_type": "display_data"
    },
    {
     "name": "stdout",
     "output_type": "stream",
     "text": [
      "Test-->\n"
     ]
    },
    {
     "data": {
      "application/vnd.jupyter.widget-view+json": {
       "model_id": "faf562f0f76d493284ee10be649edbb5",
       "version_major": 2,
       "version_minor": 0
      },
      "text/plain": [
       "HBox(children=(IntProgress(value=0, max=440), HTML(value=u'')))"
      ]
     },
     "metadata": {},
     "output_type": "display_data"
    },
    {
     "name": "stdout",
     "output_type": "stream",
     "text": [
      "Precision@1: 99.0909090909091%\n",
      "------------------------------------------------------------Fold 2------------------------------------------------------------\n",
      "Training and evaluating recognizer (3520 samples and 440 subjects)...\n",
      "Train-->\n"
     ]
    },
    {
     "data": {
      "application/vnd.jupyter.widget-view+json": {
       "model_id": "378081c825a04b808e4194d865afe090",
       "version_major": 2,
       "version_minor": 0
      },
      "text/plain": [
       "HBox(children=(IntProgress(value=0, max=3520), HTML(value=u'')))"
      ]
     },
     "metadata": {},
     "output_type": "display_data"
    },
    {
     "name": "stdout",
     "output_type": "stream",
     "text": [
      "Test-->\n"
     ]
    },
    {
     "data": {
      "application/vnd.jupyter.widget-view+json": {
       "model_id": "3b8288667baf454294f96e83f5ed84f5",
       "version_major": 2,
       "version_minor": 0
      },
      "text/plain": [
       "HBox(children=(IntProgress(value=0, max=440), HTML(value=u'')))"
      ]
     },
     "metadata": {},
     "output_type": "display_data"
    },
    {
     "name": "stdout",
     "output_type": "stream",
     "text": [
      "Precision@1: 98.63636363636363%\n",
      "------------------------------------------------------------Fold 3------------------------------------------------------------\n",
      "Training and evaluating recognizer (3520 samples and 440 subjects)...\n",
      "Train-->\n"
     ]
    },
    {
     "data": {
      "application/vnd.jupyter.widget-view+json": {
       "model_id": "edb13beb6c024d4f928e4f2f2bb0c4ef",
       "version_major": 2,
       "version_minor": 0
      },
      "text/plain": [
       "HBox(children=(IntProgress(value=0, max=3520), HTML(value=u'')))"
      ]
     },
     "metadata": {},
     "output_type": "display_data"
    },
    {
     "name": "stdout",
     "output_type": "stream",
     "text": [
      "Test-->\n"
     ]
    },
    {
     "data": {
      "application/vnd.jupyter.widget-view+json": {
       "model_id": "b90ac5d02ae04004a4635df9d1a56707",
       "version_major": 2,
       "version_minor": 0
      },
      "text/plain": [
       "HBox(children=(IntProgress(value=0, max=440), HTML(value=u'')))"
      ]
     },
     "metadata": {},
     "output_type": "display_data"
    },
    {
     "name": "stdout",
     "output_type": "stream",
     "text": [
      "Precision@1: 99.77272727272727%\n",
      "------------------------------------------------------------------------------------------------------------------------\n",
      "\n",
      "done.\n"
     ]
    }
   ],
   "source": [
    "print \"Evaluating algorithm on \", training_samples, \" training samples per subject...\"\n",
    "for i in tqdm.tnrange(0, len(training_samples)):\n",
    "    #print \"Training on\", training_samples[i], \"samples per subject.\"\n",
    "    num_train = training_samples[i]\n",
    "    tqdm.tqdm.write(\"Training on \" + str(num_train) + \" samples per subject.\")\n",
    "    fold_result = []\n",
    "    for fold in tqdm.tnrange(1, folds+1):\n",
    "        #print \"-\"*60, \"Fold\", fold, \"-\"*60\n",
    "        tqdm.tqdm.write(\"-\"*60 + \"Fold \" + str(fold) + \"-\"*60)\n",
    "        X_train, y_train = dataset.load_data(is_train=True, fold=fold, num_train=num_train)\n",
    "\n",
    "        #print \"Training and evaluating recognizer (\", len(X_train), \"samples and\", len(\n",
    "        #   np.unique(y_train)), \"subjects)...\"\n",
    "        tqdm.tqdm.write(\"Training and evaluating recognizer (\" + str(len(X_train)) + \" samples and \" + str(len(\n",
    "            np.unique(y_train))) + \" subjects)...\")\n",
    "        \n",
    "        #print \"Step 1. Generating embeddings...\"\n",
    "        #print \"Train--->\"\n",
    "        tqdm.tqdm.write(\"Train-->\")\n",
    "        embeddings = recognizer_model.embed(X_train)\n",
    "        #print \"completed.\"\n",
    "\n",
    "        #print \"Step 2. Training linear SVM model...\"\n",
    "        recognizer_model.fit_embeddings(embeddings, y_train)\n",
    "        #print \"completed.\"\n",
    "\n",
    "        X_test, y_test = dataset.load_data(is_train=False, fold=fold, num_train=num_train)\n",
    "        #print \"Predicting on (\", len(X_test), \"samples)...\"\n",
    "\n",
    "        #print \"Step 1. Generating embeddings...\"\n",
    "        # print \"Test--->\"\n",
    "        tqdm.tqdm.write(\"Test-->\")\n",
    "        embeddings = recognizer_model.embed(X_test)\n",
    "        #print \"completed.\"\n",
    "\n",
    "        #print \"Step 2. Evaluating on linear SVM model...\"\n",
    "        result = recognizer_model.evaluate(embeddings, y_test)\n",
    "        \n",
    "        fold_result.append(result)\n",
    "        #print \"Done\"\n",
    "        #print \"Precision@1:\", result, \"%\"\n",
    "        tqdm.tqdm.write(\"Precision@1: \" + str(result) + \"%\")\n",
    "    \n",
    "    results.append(fold_result)\n",
    "\n",
    "    #print \"-\"*120, \"\\n\"\n",
    "    tqdm.tqdm.write(\"-\"*120 + \"\\n\")\n",
    "    \n",
    "print \"done.\""
   ]
  },
  {
   "cell_type": "markdown",
   "metadata": {},
   "source": [
    "## Results"
   ]
  },
  {
   "cell_type": "code",
   "execution_count": 28,
   "metadata": {},
   "outputs": [
    {
     "data": {
      "text/plain": [
       "[[94.56228306980333, 94.79367527959892, 94.60084843810257],\n",
       " [98.21200510855684, 98.42486164325244, 98.42486164325244],\n",
       " [99.0909090909091, 98.63636363636363, 99.77272727272727]]"
      ]
     },
     "execution_count": 28,
     "metadata": {},
     "output_type": "execute_result"
    }
   ],
   "source": [
    "ceu_results = results\n",
    "ceu_results"
   ]
  },
  {
   "cell_type": "code",
   "execution_count": 36,
   "metadata": {},
   "outputs": [],
   "source": [
    "att_lbph = np.array([[87.89, 85.98, 87.89], [95.87, 97.93, 96.39], [98.6, 100.0, 100.0]])\n",
    "ceu_lbph = np.array([[24.16, 23.33, 24.18], [37.37, 37.54, 38.48], [51.81 ,47.27, 51.13]])\n",
    "samples_subject = [2, 5, 8]"
   ]
  },
  {
   "cell_type": "code",
   "execution_count": 39,
   "metadata": {},
   "outputs": [],
   "source": [
    "att_avg = np.mean(axis=1, a=att_results)\n",
    "ceu_avg = np.mean(axis=1, a=ceu_results)\n",
    "att_lbph_avg = np.mean(axis=1, a=att_lbph)\n",
    "ceu_lbph_avg = np.mean(axis=1, a=ceu_lbph)"
   ]
  },
  {
   "cell_type": "code",
   "execution_count": 48,
   "metadata": {},
   "outputs": [],
   "source": [
    "import matplotlib.pyplot as plt\n",
    "plt.rcParams['figure.figsize'] = [15, 7]"
   ]
  },
  {
   "cell_type": "code",
   "execution_count": 49,
   "metadata": {},
   "outputs": [
    {
     "data": {
      "image/png": "[encoded data removed]",
      "text/plain": [
       "<Figure size 1080x504 with 1 Axes>"
      ]
     },
     "metadata": {},
     "output_type": "display_data"
    }
   ],
   "source": [
    "plt.xlabel('Number of training samples')\n",
    "plt.ylabel('Precision')\n",
    "plt.plot(samples_subject, att_avg, label=\"ATT DML\")\n",
    "plt.plot(samples_subject, ceu_avg, label=\"Cyber Extruder DML\")\n",
    "plt.plot(samples_subject, att_lbph_avg, label=\"ATT LBPH\")\n",
    "plt.plot(samples_subject, ceu_lbph_avg, label=\"Cyber Extruder LBPH\")\n",
    "plt.legend(loc='lower right')\n",
    "plt.grid(True)\n",
    "plt.show()"
   ]
  },
  {
   "cell_type": "code",
   "execution_count": null,
   "metadata": {},
   "outputs": [],
   "source": []
  }
 ],
 "metadata": {
  "kernelspec": {
   "display_name": "Python 2",
   "language": "python",
   "name": "python2"
  },
  "language_info": {
   "codemirror_mode": {
    "name": "ipython",
    "version": 2
   },
   "file_extension": ".py",
   "mimetype": "text/x-python",
   "name": "python",
   "nbconvert_exporter": "python",
   "pygments_lexer": "ipython2",
   "version": "2.7.14"
  }
 },
 "nbformat": 4,
 "nbformat_minor": 2
}
