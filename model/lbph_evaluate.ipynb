{
 "cells": [
  {
   "cell_type": "markdown",
   "metadata": {},
   "source": [
    "## LBPH Evaluation"
   ]
  },
  {
   "cell_type": "markdown",
   "metadata": {},
   "source": [
    "### Methodology"
   ]
  },
  {
   "cell_type": "markdown",
   "metadata": {},
   "source": [
    "1. Normalize each image from the dataset by: \n",
    "    * Pre-processing - histogram equalization\n",
    "    * Post-processing - 2D facial alignment\n",
    "2. Randomise folds containing train-test splits for each subject\n",
    "3. Train a classifier on each fold's train split\n",
    "4. Evaluate the trained model in step 4 by it's corresponding test split\n",
    "5. Repeat step 2, 3, 4 by varying the number of training samples per subject\n",
    "6. Report the average value of **Precision@1** across each fold."
   ]
  },
  {
   "cell_type": "code",
   "execution_count": 9,
   "metadata": {},
   "outputs": [],
   "source": [
    "from __future__ import division\n",
    "from multiprocessing import Process, Queue\n",
    "import numpy as np"
   ]
  },
  {
   "cell_type": "code",
   "execution_count": 2,
   "metadata": {},
   "outputs": [],
   "source": [
    "from Dataset import Dataset\n",
    "from FaceRecognizer import FaceRecognizer"
   ]
  },
  {
   "cell_type": "code",
   "execution_count": 3,
   "metadata": {},
   "outputs": [],
   "source": [
    "def predict_one(idx, recognizer_obj, image, queue):\n",
    "    queue.put((idx, recognizer_obj.model.predict(image)))"
   ]
  },
  {
   "cell_type": "markdown",
   "metadata": {},
   "source": [
    "### ATT Dataset"
   ]
  },
  {
   "cell_type": "code",
   "execution_count": 5,
   "metadata": {},
   "outputs": [],
   "source": [
    "dataset_path =  \"/media/ankurrc/new_volume/softura/facerec/datasets/norm_standard_att\""
   ]
  },
  {
   "cell_type": "code",
   "execution_count": 4,
   "metadata": {},
   "outputs": [],
   "source": [
    "folds = 3\n",
    "training_samples = [2, 5, 8]"
   ]
  },
  {
   "cell_type": "code",
   "execution_count": 7,
   "metadata": {},
   "outputs": [],
   "source": [
    "results = []"
   ]
  },
  {
   "cell_type": "markdown",
   "metadata": {},
   "source": [
    "#### Train the recognizer for the different folds and evaluate"
   ]
  },
  {
   "cell_type": "code",
   "execution_count": 21,
   "metadata": {},
   "outputs": [],
   "source": [
    "recognizer_model = FaceRecognizer()\n",
    "dataset = Dataset(dataset_path)"
   ]
  },
  {
   "cell_type": "code",
   "execution_count": 22,
   "metadata": {},
   "outputs": [
    {
     "name": "stdout",
     "output_type": "stream",
     "text": [
      "Training on 2 samples per subject.\n",
      "Training recognizer ( 80 samples and 40 subjects)...\n",
      "completed.\n",
      "Predicting on ( 314 samples)...\n",
      "Done\n",
      "Precision@1: 276 / 314 ( 87.898089172 %)\n",
      "Training recognizer ( 80 samples and 40 subjects)...\n",
      "completed.\n",
      "Predicting on ( 314 samples)...\n",
      "Done\n",
      "Precision@1: 270 / 314 ( 85.9872611465 %)\n",
      "Training recognizer ( 80 samples and 40 subjects)...\n",
      "completed.\n",
      "Predicting on ( 314 samples)...\n",
      "Done\n",
      "Precision@1: 276 / 314 ( 87.898089172 %)\n",
      "------------------------------------------------------------------------------------------------------------------------\n",
      "Training on 5 samples per subject.\n",
      "Training recognizer ( 200 samples and 40 subjects)...\n",
      "completed.\n",
      "Predicting on ( 194 samples)...\n",
      "Done\n",
      "Precision@1: 186 / 194 ( 95.8762886598 %)\n",
      "Training recognizer ( 200 samples and 40 subjects)...\n",
      "completed.\n",
      "Predicting on ( 194 samples)...\n",
      "Done\n",
      "Precision@1: 190 / 194 ( 97.9381443299 %)\n",
      "Training recognizer ( 200 samples and 40 subjects)...\n",
      "completed.\n",
      "Predicting on ( 194 samples)...\n",
      "Done\n",
      "Precision@1: 187 / 194 ( 96.3917525773 %)\n",
      "------------------------------------------------------------------------------------------------------------------------\n",
      "Training on 8 samples per subject.\n",
      "Training recognizer ( 304 samples and 38 subjects)...\n",
      "completed.\n",
      "Predicting on ( 75 samples)...\n",
      "Done\n",
      "Precision@1: 74 / 75 ( 98.6666666667 %)\n",
      "Training recognizer ( 304 samples and 38 subjects)...\n",
      "completed.\n",
      "Predicting on ( 75 samples)...\n",
      "Done\n",
      "Precision@1: 75 / 75 ( 100.0 %)\n",
      "Training recognizer ( 304 samples and 38 subjects)...\n",
      "completed.\n",
      "Predicting on ( 75 samples)...\n",
      "Done\n",
      "Precision@1: 75 / 75 ( 100.0 %)\n",
      "------------------------------------------------------------------------------------------------------------------------\n"
     ]
    }
   ],
   "source": [
    "for training_sample in training_samples:\n",
    "    print \"Training on\", training_sample, \"samples per subject.\"\n",
    "    for fold in range(1, folds+1):\n",
    "        output = Queue()\n",
    "        X_train, y_train = dataset.load_data(is_train=True, fold=fold, num_train=training_sample)\n",
    "        print \"Training recognizer (\", len(X_train), \"samples and\", len(np.unique(y_train)), \"subjects)...\"\n",
    "        recognizer_model.train(X_train, y_train)\n",
    "        print \"completed.\"\n",
    "        X_test, y_test = dataset.load_data(is_train=False, fold=fold, num_train=training_sample)\n",
    "        print \"Predicting on (\", len(X_test), \"samples)...\"\n",
    "        processes = [Process(target=predict_one,\n",
    "                             args=(idx,\n",
    "                                   recognizer_model,\n",
    "                                   image,\n",
    "                                   output))\n",
    "                     for idx, image in enumerate(X_test)]\n",
    "\n",
    "        for p in processes:\n",
    "            p.start()\n",
    "\n",
    "        predictions = [output.get() for p in processes]\n",
    "\n",
    "        for p in processes:\n",
    "            p.join()\n",
    "\n",
    "        print \"Done\"\n",
    "\n",
    "        predictions = [(x[1][0], x[1][1])\n",
    "                       for x in sorted(predictions, key=lambda x: x[0])]\n",
    "        recognizer_model.evaluate(predictions, y_test)\n",
    "        \n",
    "    print \"-\"*120"
   ]
  },
  {
   "cell_type": "markdown",
   "metadata": {},
   "source": [
    "### Cyber Extruder Ultimate Dataset"
   ]
  },
  {
   "cell_type": "code",
   "execution_count": 5,
   "metadata": {},
   "outputs": [],
   "source": [
    "dataset_path =  \"/media/ankurrc/new_volume/softura/facerec/datasets/norm_cyber_extruder_ultimate\""
   ]
  },
  {
   "cell_type": "code",
   "execution_count": 6,
   "metadata": {},
   "outputs": [],
   "source": [
    "recognizer_model = FaceRecognizer()\n",
    "dataset = Dataset(dataset_path)"
   ]
  },
  {
   "cell_type": "code",
   "execution_count": 7,
   "metadata": {},
   "outputs": [
    {
     "name": "stdout",
     "output_type": "stream",
     "text": [
      "Training on 2 samples per subject.\n",
      "Training recognizer ( 1998 samples and 999 subjects)...\n",
      "completed.\n"
     ]
    },
    {
     "name": "stderr",
     "output_type": "stream",
     "text": [
      "  0%|          | 1/5186 [00:00<15:20,  5.64it/s]"
     ]
    },
    {
     "name": "stdout",
     "output_type": "stream",
     "text": [
      "Predicting on ( 5186 samples)...\n"
     ]
    },
    {
     "name": "stderr",
     "output_type": "stream",
     "text": [
      "100%|██████████| 5186/5186 [15:52<00:00,  5.45it/s]\n"
     ]
    },
    {
     "name": "stdout",
     "output_type": "stream",
     "text": [
      "Done\n",
      "Precision@1: 1253 / 5186 ( 24.1612032395 %)\n",
      "Training recognizer ( 1998 samples and 999 subjects)...\n",
      "completed.\n"
     ]
    },
    {
     "name": "stderr",
     "output_type": "stream",
     "text": [
      "  0%|          | 1/5186 [00:00<15:28,  5.58it/s]"
     ]
    },
    {
     "name": "stdout",
     "output_type": "stream",
     "text": [
      "Predicting on ( 5186 samples)...\n"
     ]
    },
    {
     "name": "stderr",
     "output_type": "stream",
     "text": [
      "100%|██████████| 5186/5186 [16:15<00:00,  5.31it/s]\n"
     ]
    },
    {
     "name": "stdout",
     "output_type": "stream",
     "text": [
      "Done\n",
      "Precision@1: 1210 / 5186 ( 23.3320478211 %)\n",
      "Training recognizer ( 1998 samples and 999 subjects)...\n",
      "completed.\n"
     ]
    },
    {
     "name": "stderr",
     "output_type": "stream",
     "text": [
      "  0%|          | 1/5186 [00:00<16:33,  5.22it/s]"
     ]
    },
    {
     "name": "stdout",
     "output_type": "stream",
     "text": [
      "Predicting on ( 5186 samples)...\n"
     ]
    },
    {
     "name": "stderr",
     "output_type": "stream",
     "text": [
      "100%|██████████| 5186/5186 [16:01<00:00,  5.39it/s]\n"
     ]
    },
    {
     "name": "stdout",
     "output_type": "stream",
     "text": [
      "Done\n",
      "Precision@1: 1254 / 5186 ( 24.1804859236 %)\n",
      "------------------------------------------------------------------------------------------------------------------------\n",
      "Training on 5 samples per subject.\n",
      "Training recognizer ( 3715 samples and 743 subjects)...\n",
      "completed.\n"
     ]
    },
    {
     "name": "stderr",
     "output_type": "stream",
     "text": [
      "\r",
      "  0%|          | 0/2349 [00:00<?, ?it/s]"
     ]
    },
    {
     "name": "stdout",
     "output_type": "stream",
     "text": [
      "Predicting on ( 2349 samples)...\n"
     ]
    },
    {
     "name": "stderr",
     "output_type": "stream",
     "text": [
      "100%|██████████| 2349/2349 [15:05<00:00,  2.59it/s]\n"
     ]
    },
    {
     "name": "stdout",
     "output_type": "stream",
     "text": [
      "Done\n",
      "Precision@1: 878 / 2349 ( 37.3776074926 %)\n",
      "Training recognizer ( 3715 samples and 743 subjects)...\n",
      "completed.\n"
     ]
    },
    {
     "name": "stderr",
     "output_type": "stream",
     "text": [
      "\r",
      "  0%|          | 0/2349 [00:00<?, ?it/s]"
     ]
    },
    {
     "name": "stdout",
     "output_type": "stream",
     "text": [
      "Predicting on ( 2349 samples)...\n"
     ]
    },
    {
     "name": "stderr",
     "output_type": "stream",
     "text": [
      "100%|██████████| 2349/2349 [14:26<00:00,  2.71it/s]\n"
     ]
    },
    {
     "name": "stdout",
     "output_type": "stream",
     "text": [
      "Done\n",
      "Precision@1: 882 / 2349 ( 37.5478927203 %)\n",
      "Training recognizer ( 3715 samples and 743 subjects)...\n",
      "completed.\n"
     ]
    },
    {
     "name": "stderr",
     "output_type": "stream",
     "text": [
      "\r",
      "  0%|          | 0/2349 [00:00<?, ?it/s]"
     ]
    },
    {
     "name": "stdout",
     "output_type": "stream",
     "text": [
      "Predicting on ( 2349 samples)...\n"
     ]
    },
    {
     "name": "stderr",
     "output_type": "stream",
     "text": [
      "100%|██████████| 2349/2349 [14:38<00:00,  2.67it/s]\n"
     ]
    },
    {
     "name": "stdout",
     "output_type": "stream",
     "text": [
      "Done\n",
      "Precision@1: 904 / 2349 ( 38.484461473 %)\n",
      "------------------------------------------------------------------------------------------------------------------------\n",
      "Training on 8 samples per subject.\n",
      "Training recognizer ( 3520 samples and 440 subjects)...\n"
     ]
    },
    {
     "name": "stderr",
     "output_type": "stream",
     "text": [
      "\r",
      "  0%|          | 0/440 [00:00<?, ?it/s]"
     ]
    },
    {
     "name": "stdout",
     "output_type": "stream",
     "text": [
      "completed.\n",
      "Predicting on ( 440 samples)...\n"
     ]
    },
    {
     "name": "stderr",
     "output_type": "stream",
     "text": [
      "100%|██████████| 440/440 [02:42<00:00,  2.70it/s]\n"
     ]
    },
    {
     "name": "stdout",
     "output_type": "stream",
     "text": [
      "Done\n",
      "Precision@1: 228 / 440 ( 51.8181818182 %)\n",
      "Training recognizer ( 3520 samples and 440 subjects)...\n"
     ]
    },
    {
     "name": "stderr",
     "output_type": "stream",
     "text": [
      "\r",
      "  0%|          | 0/440 [00:00<?, ?it/s]"
     ]
    },
    {
     "name": "stdout",
     "output_type": "stream",
     "text": [
      "completed.\n",
      "Predicting on ( 440 samples)...\n"
     ]
    },
    {
     "name": "stderr",
     "output_type": "stream",
     "text": [
      "100%|██████████| 440/440 [02:44<00:00,  2.68it/s]\n"
     ]
    },
    {
     "name": "stdout",
     "output_type": "stream",
     "text": [
      "Done\n",
      "Precision@1: 208 / 440 ( 47.2727272727 %)\n",
      "Training recognizer ( 3520 samples and 440 subjects)...\n",
      "completed.\n"
     ]
    },
    {
     "name": "stderr",
     "output_type": "stream",
     "text": [
      "\r",
      "  0%|          | 0/440 [00:00<?, ?it/s]"
     ]
    },
    {
     "name": "stdout",
     "output_type": "stream",
     "text": [
      "Predicting on ( 440 samples)...\n"
     ]
    },
    {
     "name": "stderr",
     "output_type": "stream",
     "text": [
      "100%|██████████| 440/440 [02:40<00:00,  2.74it/s]"
     ]
    },
    {
     "name": "stdout",
     "output_type": "stream",
     "text": [
      "Done\n",
      "Precision@1: 225 / 440 ( 51.1363636364 %)\n",
      "------------------------------------------------------------------------------------------------------------------------\n"
     ]
    },
    {
     "name": "stderr",
     "output_type": "stream",
     "text": [
      "\n"
     ]
    }
   ],
   "source": [
    "for training_sample in training_samples:\n",
    "    print \"Training on\", training_sample, \"samples per subject.\"\n",
    "    for fold in range(1, folds+1):\n",
    "        X_train, y_train = dataset.load_data(is_train=True, fold=fold, num_train=training_sample)\n",
    "        print \"Training recognizer (\", len(X_train), \"samples and\", len(np.unique(y_train)), \"subjects)...\"\n",
    "        recognizer_model.train(X_train, y_train)\n",
    "        print \"completed.\"\n",
    "        X_test, y_test = dataset.load_data(is_train=False, fold=fold, num_train=training_sample)\n",
    "        print \"Predicting on (\", len(X_test), \"samples)...\"\n",
    "        predictions = recognizer_model.predict(images=X_test)\n",
    "        print \"Done\"\n",
    "        recognizer_model.evaluate(predictions, y_test)\n",
    "        \n",
    "    print \"-\"*120"
   ]
  },
  {
   "cell_type": "markdown",
   "metadata": {},
   "source": [
    "## Results"
   ]
  },
  {
   "cell_type": "code",
   "execution_count": 11,
   "metadata": {},
   "outputs": [],
   "source": [
    "result_att = np.array([[87.89, 85.98, 87.89], [95.87, 97.93, 96.39], [98.6, 100.0, 100.0]])\n",
    "result_ceu = np.array([[24.16, 23.33, 24.18], [37.37, 37.54, 38.48], [51.81 ,47.27, 51.13]])\n",
    "samples_subject = [2, 5, 8]"
   ]
  },
  {
   "cell_type": "code",
   "execution_count": 15,
   "metadata": {},
   "outputs": [],
   "source": [
    "att_avg = np.mean(axis=1, a=result_att)\n",
    "ceu_avg = np.mean(axis=1, a=result_ceu)"
   ]
  },
  {
   "cell_type": "code",
   "execution_count": 16,
   "metadata": {},
   "outputs": [],
   "source": [
    "import matplotlib.pyplot as plt"
   ]
  },
  {
   "cell_type": "code",
   "execution_count": 24,
   "metadata": {},
   "outputs": [
    {
     "data": {
      "image/png": "[encoded data removed]",
      "text/plain": [
       "<Figure size 432x288 with 1 Axes>"
      ]
     },
     "metadata": {},
     "output_type": "display_data"
    }
   ],
   "source": [
    "plt.xlabel('Number of training samples')\n",
    "plt.ylabel('Precision')\n",
    "plt.plot(samples_subject, att_avg, label=\"ATT\")\n",
    "plt.plot(samples_subject, ceu_avg, label=\"CEU\")\n",
    "plt.legend(loc='upper right')\n",
    "plt.show()"
   ]
  }
 ],
 "metadata": {
  "kernelspec": {
   "display_name": "Python 2",
   "language": "python",
   "name": "python2"
  },
  "language_info": {
   "codemirror_mode": {
    "name": "ipython",
    "version": 2
   },
   "file_extension": ".py",
   "mimetype": "text/x-python",
   "name": "python",
   "nbconvert_exporter": "python",
   "pygments_lexer": "ipython2",
   "version": "2.7.14"
  }
 },
 "nbformat": 4,
 "nbformat_minor": 2
}
