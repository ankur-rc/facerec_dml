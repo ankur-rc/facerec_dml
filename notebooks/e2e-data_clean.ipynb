{
 "cells": [
  {
   "cell_type": "markdown",
   "metadata": {},
   "source": [
    "## End-to-End Procedure: Data cleaning"
   ]
  },
  {
   "cell_type": "markdown",
   "metadata": {},
   "source": [
    "### Procedure Outline\n",
    "1. Filter the dataset ***<--- This notebook***\n",
    "    - Detect faces among all the images. Reject images that have more than one face, or no face.\n",
    "    - Save filtered dataset to new location.\n",
    "2. Generate Train-Test Splits ***<--- This notebook***\n",
    "    - Create folds.\n",
    "3. Evaluate \n",
    "    - Generate embeddings from the splits\n",
    "    - Train classifier on the embeddings\n",
    "    - Test classifier on the embeddings\n",
    "4. Tune classifier\n",
    "    - Tune the classifier \n",
    "5. Save the model"
   ]
  },
  {
   "cell_type": "markdown",
   "metadata": {},
   "source": [
    "### Imports"
   ]
  },
  {
   "cell_type": "code",
   "execution_count": 2,
   "metadata": {},
   "outputs": [],
   "source": [
    "from __future__ import absolute_import\n",
    "from __future__ import division\n",
    "from __future__ import print_function"
   ]
  },
  {
   "cell_type": "code",
   "execution_count": 3,
   "metadata": {},
   "outputs": [],
   "source": [
    "import os\n",
    "import cv2\n",
    "import pprint\n",
    "import logging\n",
    "import tqdm\n",
    "\n",
    "import face_trigger"
   ]
  },
  {
   "cell_type": "code",
   "execution_count": 4,
   "metadata": {},
   "outputs": [],
   "source": [
    "from face_trigger.model.deep.FaceRecognizer import FaceRecognizer\n",
    "from face_trigger.process.post_process import FaceDetector, LandmarkDetector, FaceAlign\n",
    "from face_trigger.utils.common import RepeatedTimer, clamp_rectangle\n",
    "from face_trigger.utils.data import dataset_filter, Dataset"
   ]
  },
  {
   "cell_type": "code",
   "execution_count": 5,
   "metadata": {},
   "outputs": [],
   "source": [
    "unnormalized_dataset_path = \"/media/ankurrc/new_volume/softura/facerec/datasets/cyber_extruder_ultimate\"\n",
    "dataset_path = \"/media/ankurrc/new_volume/softura/facerec/ceu_filtered\"\n",
    "split_path = \"/media/ankurrc/new_volume/softura/facerec/ceu_split_path\""
   ]
  },
  {
   "cell_type": "code",
   "execution_count": 6,
   "metadata": {},
   "outputs": [],
   "source": [
    "logging.basicConfig(level=logging.DEBUG)"
   ]
  },
  {
   "cell_type": "markdown",
   "metadata": {},
   "source": [
    "### Filter dataset\n",
    " **Note:** While filtering the dataset we assume that the original dataset has the following structure:\n",
    " 1. At the root level there are directories that represent each personality. The directories may or may not have a numeric name.\n",
    " 2. Within each directory, the files should represent the images that contain the parent directory's(personality) faces. The file names may or may not be numeric.\n"
   ]
  },
  {
   "cell_type": "code",
   "execution_count": 7,
   "metadata": {},
   "outputs": [],
   "source": [
    "def filter_the_dataset(unnormalized_dataset_path=None, dataset_path=None):\n",
    "    return dataset_filter(dataset_path=unnormalized_dataset_path, output_path=dataset_path)"
   ]
  },
  {
   "cell_type": "code",
   "execution_count": 8,
   "metadata": {
    "collapsed": true
   },
   "outputs": [
    {
     "name": "stderr",
     "output_type": "stream",
     "text": [
      "100%|██████████| 1000/1000 [07:41<00:00,  2.59it/s]\n",
      "INFO:face_trigger.utils.data:Filtered dataset created at /media/ankurrc/new_volume/softura/facerec/ceu_filtered\n"
     ]
    },
    {
     "name": "stdout",
     "output_type": "stream",
     "text": [
      "Rejected directories:\n",
      "{'000008': ['000007.jpg'],\n",
      " '000015': ['000023.jpg'],\n",
      " '000018': ['000001.jpg'],\n",
      " '000036': ['000010.jpg'],\n",
      " '000060': ['000010.jpg'],\n",
      " '000063': ['000006.jpg'],\n",
      " '000067': ['000012.jpg'],\n",
      " '000088': ['000013.jpg'],\n",
      " '000092': ['000011.jpg'],\n",
      " '000106': ['000006.jpg'],\n",
      " '000113': ['000011.jpg'],\n",
      " '000121': ['000009.jpg'],\n",
      " '000126': ['000008.jpg'],\n",
      " '000131': ['000019.jpg'],\n",
      " '000134': ['000002.jpg'],\n",
      " '000149': ['000003.jpg'],\n",
      " '000155': ['000026.jpg'],\n",
      " '000176': ['000024.jpg'],\n",
      " '000180': ['000013.jpg'],\n",
      " '000183': ['000002.jpg'],\n",
      " '000186': ['000002.jpg'],\n",
      " '000187': ['000023.jpg'],\n",
      " '000188': ['000013.jpg'],\n",
      " '000191': ['000011.jpg'],\n",
      " '000203': ['000012.jpg'],\n",
      " '000216': ['000024.jpg'],\n",
      " '000226': ['000011.jpg'],\n",
      " '000242': ['000003.jpg'],\n",
      " '000261': ['000007.jpg'],\n",
      " '000269': ['000011.jpg'],\n",
      " '000309': ['000004.jpg'],\n",
      " '000310': ['000014.jpg'],\n",
      " '000324': ['000004.jpg'],\n",
      " '000334': ['000001.jpg'],\n",
      " '000357': ['000007.jpg'],\n",
      " '000362': ['000006.jpg'],\n",
      " '000364': ['000009.jpg'],\n",
      " '000369': ['000007.jpg'],\n",
      " '000382': ['000006.jpg'],\n",
      " '000426': ['000001.jpg'],\n",
      " '000472': ['000015.jpg'],\n",
      " '000477': ['000002.jpg'],\n",
      " '000528': ['000003.jpg'],\n",
      " '000545': ['000002.jpg'],\n",
      " '000568': ['000004.jpg'],\n",
      " '000576': ['000009.jpg'],\n",
      " '000600': ['000005.jpg'],\n",
      " '000610': ['000006.jpg'],\n",
      " '000663': ['000008.jpg'],\n",
      " '000664': ['000007.jpg'],\n",
      " '000683': ['000006.jpg'],\n",
      " '000702': ['000007.jpg'],\n",
      " '000706': ['000007.jpg'],\n",
      " '000715': ['000038.jpg'],\n",
      " '000726': ['000021.jpg'],\n",
      " '000730': ['000004.jpg'],\n",
      " '000738': ['000002.jpg'],\n",
      " '000746': ['000004.jpg'],\n",
      " '000749': ['000008.jpg'],\n",
      " '000774': ['000020.jpg'],\n",
      " '000792': ['000017.jpg'],\n",
      " '000798': ['000003.jpg'],\n",
      " '000803': ['000005.jpg'],\n",
      " '000815': ['000002.jpg'],\n",
      " '000823': ['000015.jpg'],\n",
      " '000854': ['000007.jpg'],\n",
      " '000871': ['000011.jpg'],\n",
      " '000883': ['000005.jpg'],\n",
      " '000889': ['000004.jpg'],\n",
      " '000909': ['000001.jpg'],\n",
      " '000917': ['000002.jpg'],\n",
      " '000920': ['000001.jpg'],\n",
      " '000929': ['000004.jpg'],\n",
      " '000937': ['000013.jpg'],\n",
      " '000938': ['000009.jpg'],\n",
      " '000950': ['000008.jpg'],\n",
      " '000968': ['000003.jpg'],\n",
      " '000973': ['000005.jpg'],\n",
      " '000983': ['000004.jpg']}\n"
     ]
    }
   ],
   "source": [
    "rejected_dirs = filter_the_dataset(unnormalized_dataset_path=unnormalized_dataset_path, dataset_path=dataset_path)"
   ]
  },
  {
   "cell_type": "markdown",
   "metadata": {},
   "source": [
    "### Generate Splits \n",
    "**Note:** Generating manual splits is optional. In the training section, we use sklearn's cv.\n",
    "  If you decide to use manual-splitting, you need to change the training routine as well."
   ]
  },
  {
   "cell_type": "code",
   "execution_count": 11,
   "metadata": {},
   "outputs": [],
   "source": [
    "def generate_splits(dataset_path=None, split_path=None):\n",
    "    dataset = Dataset(dataset_path=dataset_path,\n",
    "                      split_path=split_path)\n",
    "    folds = 3\n",
    "    training_samples = [2, 5, 8]\n",
    "    \n",
    "    dataset.split(num_train_list=training_samples, folds=folds)"
   ]
  },
  {
   "cell_type": "code",
   "execution_count": 12,
   "metadata": {
    "collapsed": true
   },
   "outputs": [
    {
     "name": "stderr",
     "output_type": "stream",
     "text": [
      "INFO:face_trigger.utils.data:Generating for 2 training samples per subject.\n",
      "INFO:face_trigger.utils.data:Generating: Fold 1\n",
      "INFO:face_trigger.utils.data:Creating directory: /media/ankurrc/new_volume/softura/facerec/att_split_path/2/1\n",
      "INFO:face_trigger.utils.data:done.\n",
      "INFO:face_trigger.utils.data:/media/ankurrc/new_volume/softura/facerec/att_split_path/2/1/train.csv\n",
      "INFO:face_trigger.utils.data:Generating: Fold 2\n",
      "INFO:face_trigger.utils.data:Creating directory: /media/ankurrc/new_volume/softura/facerec/att_split_path/2/2\n",
      "INFO:face_trigger.utils.data:done.\n",
      "INFO:face_trigger.utils.data:/media/ankurrc/new_volume/softura/facerec/att_split_path/2/2/train.csv\n",
      "INFO:face_trigger.utils.data:Generating: Fold 3\n",
      "INFO:face_trigger.utils.data:Creating directory: /media/ankurrc/new_volume/softura/facerec/att_split_path/2/3\n",
      "INFO:face_trigger.utils.data:done.\n",
      "INFO:face_trigger.utils.data:/media/ankurrc/new_volume/softura/facerec/att_split_path/2/3/train.csv\n",
      "INFO:face_trigger.utils.data:We have 40 subjects in our dataset.\n",
      "INFO:face_trigger.utils.data:Generating for 5 training samples per subject.\n",
      "INFO:face_trigger.utils.data:Generating: Fold 1\n",
      "INFO:face_trigger.utils.data:Creating directory: /media/ankurrc/new_volume/softura/facerec/att_split_path/5/1\n",
      "INFO:face_trigger.utils.data:done.\n",
      "INFO:face_trigger.utils.data:/media/ankurrc/new_volume/softura/facerec/att_split_path/5/1/train.csv\n",
      "INFO:face_trigger.utils.data:Generating: Fold 2\n",
      "INFO:face_trigger.utils.data:Creating directory: /media/ankurrc/new_volume/softura/facerec/att_split_path/5/2\n",
      "INFO:face_trigger.utils.data:done.\n",
      "INFO:face_trigger.utils.data:/media/ankurrc/new_volume/softura/facerec/att_split_path/5/2/train.csv\n",
      "INFO:face_trigger.utils.data:Generating: Fold 3\n",
      "INFO:face_trigger.utils.data:Creating directory: /media/ankurrc/new_volume/softura/facerec/att_split_path/5/3\n",
      "INFO:face_trigger.utils.data:done.\n",
      "INFO:face_trigger.utils.data:/media/ankurrc/new_volume/softura/facerec/att_split_path/5/3/train.csv\n",
      "INFO:face_trigger.utils.data:We have 40 subjects in our dataset.\n",
      "INFO:face_trigger.utils.data:Generating for 8 training samples per subject.\n",
      "INFO:face_trigger.utils.data:Generating: Fold 1\n",
      "INFO:face_trigger.utils.data:Creating directory: /media/ankurrc/new_volume/softura/facerec/att_split_path/8/1\n",
      "INFO:face_trigger.utils.data:done.\n",
      "INFO:face_trigger.utils.data:/media/ankurrc/new_volume/softura/facerec/att_split_path/8/1/train.csv\n",
      "INFO:face_trigger.utils.data:Generating: Fold 2\n",
      "INFO:face_trigger.utils.data:Creating directory: /media/ankurrc/new_volume/softura/facerec/att_split_path/8/2\n",
      "INFO:face_trigger.utils.data:done.\n",
      "INFO:face_trigger.utils.data:/media/ankurrc/new_volume/softura/facerec/att_split_path/8/2/train.csv\n",
      "INFO:face_trigger.utils.data:Generating: Fold 3\n",
      "INFO:face_trigger.utils.data:Creating directory: /media/ankurrc/new_volume/softura/facerec/att_split_path/8/3\n",
      "INFO:face_trigger.utils.data:done.\n",
      "INFO:face_trigger.utils.data:/media/ankurrc/new_volume/softura/facerec/att_split_path/8/3/train.csv\n",
      "INFO:face_trigger.utils.data:The following directories were rejected: ['37']\n",
      "INFO:face_trigger.utils.data:We have 39 subjects in our dataset.\n"
     ]
    }
   ],
   "source": [
    "generate_splits(dataset_path=dataset_path, split_path=split_path)"
   ]
  },
  {
   "cell_type": "markdown",
   "metadata": {},
   "source": [
    "Steps 3, 4 and 5 are in another notebook - End-to-End: Training"
   ]
  }
 ],
 "metadata": {
  "kernelspec": {
   "display_name": "Python 2 (dl2)",
   "language": "python",
   "name": "dl2"
  },
  "language_info": {
   "codemirror_mode": {
    "name": "ipython",
    "version": 2
   },
   "file_extension": ".py",
   "mimetype": "text/x-python",
   "name": "python",
   "nbconvert_exporter": "python",
   "pygments_lexer": "ipython2",
   "version": "2.7.14"
  }
 },
 "nbformat": 4,
 "nbformat_minor": 2
}
