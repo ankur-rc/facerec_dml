{
 "cells": [
  {
   "cell_type": "markdown",
   "metadata": {},
   "source": [
    "## End-to-End Procedure"
   ]
  },
  {
   "cell_type": "markdown",
   "metadata": {},
   "source": [
    "### Procedure Outline\n",
    "1. Normalize the dataset\n",
    "    - Detect faces among all the images. Reject images that have more than one face.\n",
    "    - Crop the face from the image.\n",
    "    - Align it.\n",
    "2. Generate Train-Test Splits\n",
    "    - Create folds.\n",
    "3. Evaluate \n",
    "    - Generate embeddings from the splits\n",
    "    - Train classifier on the embeddings\n",
    "    - Test classifier on the embeddings\n",
    "4. Tune classifier\n",
    "    - Tune the classifier \n",
    "5. Save the model"
   ]
  },
  {
   "cell_type": "markdown",
   "metadata": {},
   "source": [
    "### Imports"
   ]
  },
  {
   "cell_type": "code",
   "execution_count": 1,
   "metadata": {},
   "outputs": [],
   "source": [
    "from __future__ import absolute_import\n",
    "from __future__ import division\n",
    "from __future__ import print_function"
   ]
  },
  {
   "cell_type": "code",
   "execution_count": 2,
   "metadata": {},
   "outputs": [],
   "source": [
    "import os\n",
    "import cv2\n",
    "import pprint\n",
    "import logging\n",
    "import tqdm"
   ]
  },
  {
   "cell_type": "code",
   "execution_count": 3,
   "metadata": {},
   "outputs": [],
   "source": [
    "import face_trigger\n",
    "\n",
    "from face_trigger.model.deep.FaceRecognizer import FaceRecognizer\n",
    "from face_trigger.process.post_process import FaceDetector, LandmarkDetector, FaceAlign\n",
    "from face_trigger.utils.common import RepeatedTimer, clamp_rectangle\n",
    "from face_trigger.utils.Dataset import Dataset"
   ]
  },
  {
   "cell_type": "code",
   "execution_count": 4,
   "metadata": {},
   "outputs": [],
   "source": [
    "unnormalized_dataset_path = \"/media/ankurrc/new_volume/softura/facerec/datasets/standard_att\"\n",
    "dataset_path = \"/media/ankurrc/new_volume/softura/facerec/att_norm\"\n",
    "split_path = \"/media/ankurrc/new_volume/softura/facerec/att_split_path\""
   ]
  },
  {
   "cell_type": "code",
   "execution_count": 5,
   "metadata": {},
   "outputs": [],
   "source": [
    "logging.basicConfig(level=logging.DEBUG)"
   ]
  },
  {
   "cell_type": "markdown",
   "metadata": {},
   "source": [
    "### Normalize dataset\n",
    " While normalizing the dataset we assume that the original dataset has the following structure:\n",
    " 1. At the root level there are directories that represent each personality. The directories may or may not have a numeric name.\n",
    " 2. Within each directory, the files should represent the images that contain the parent directory's(personality) faces. The file names may or may not be numeric.\n",
    " \n",
    " The final dimensions is assumed to be 256x256, since that is what the DNN ingests.\n",
    " Also, the detected faces align the eyes about 0.35th of the width from the ends. "
   ]
  },
  {
   "cell_type": "code",
   "execution_count": 4,
   "metadata": {},
   "outputs": [],
   "source": [
    "import uuid"
   ]
  },
  {
   "cell_type": "code",
   "execution_count": 10,
   "metadata": {},
   "outputs": [],
   "source": [
    "def normalize_the_dataset(unnormalized_dataset_path=None, dataset_path=None):\n",
    "    return normalize_dataset(dataset_path=unnormalized_dataset_path, output_path=dataset_path)"
   ]
  },
  {
   "cell_type": "code",
   "execution_count": 54,
   "metadata": {},
   "outputs": [
    {
     "name": "stderr",
     "output_type": "stream",
     "text": [
      "100%|██████████| 40/40 [00:03<00:00, 12.90it/s]\n",
      "INFO:__main__:Normalized dataset created at /media/ankurrc/new_volume/softura/facerec/att_norm\n"
     ]
    },
    {
     "name": "stdout",
     "output_type": "stream",
     "text": [
      "Rejected directories:\n",
      "{'33': ['4.png'], '35': ['2.png'], '37': ['4.png', '5.png']}\n"
     ]
    }
   ],
   "source": [
    "normalize_the_dataset(unnormalized_dataset_path=unnormalized_dataset_path, dataset_path=dataset_path)"
   ]
  },
  {
   "cell_type": "markdown",
   "metadata": {},
   "source": [
    "### Generate Splits"
   ]
  },
  {
   "cell_type": "code",
   "execution_count": 6,
   "metadata": {},
   "outputs": [],
   "source": [
    "def generate_splits(dataset_path=None, split_path=None):\n",
    "    dataset = Dataset(dataset_path=dataset_path,\n",
    "                      split_path=split_path)\n",
    "    folds = 3\n",
    "    training_samples = [2, 5, 8]\n",
    "    \n",
    "    dataset.split(num_train_list=training_samples, folds=folds)"
   ]
  },
  {
   "cell_type": "code",
   "execution_count": null,
   "metadata": {},
   "outputs": [],
   "source": [
    "generate_splits(dataset_path=dataset_path, split_path=split_path)"
   ]
  },
  {
   "cell_type": "markdown",
   "metadata": {},
   "source": [
    "### Train Classifier"
   ]
  },
  {
   "cell_type": "code",
   "execution_count": null,
   "metadata": {},
   "outputs": [],
   "source": []
  }
 ],
 "metadata": {
  "kernelspec": {
   "display_name": "Python 2 (dl2)",
   "language": "python",
   "name": "dl2"
  },
  "language_info": {
   "codemirror_mode": {
    "name": "ipython",
    "version": 2
   },
   "file_extension": ".py",
   "mimetype": "text/x-python",
   "name": "python",
   "nbconvert_exporter": "python",
   "pygments_lexer": "ipython2",
   "version": "2.7.14"
  }
 },
 "nbformat": 4,
 "nbformat_minor": 2
}
