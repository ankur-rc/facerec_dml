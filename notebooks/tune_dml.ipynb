{
 "cells": [
  {
   "cell_type": "markdown",
   "metadata": {},
   "source": [
    "## End-to-End: Training "
   ]
  },
  {
   "cell_type": "markdown",
   "metadata": {},
   "source": [
    "### Steps\n",
    "1. Generate the embeddings for the training data\n",
    "2. Tune the SVM classifier using grid search CV and Stratified Shuffling split on the training data\n",
    "3. Evaluate on test data using the best model parameters."
   ]
  },
  {
   "cell_type": "code",
   "execution_count": 1,
   "metadata": {},
   "outputs": [],
   "source": [
    "from __future__ import absolute_import\n",
    "from __future__ import division\n",
    "from __future__ import print_function"
   ]
  },
  {
   "cell_type": "code",
   "execution_count": 2,
   "metadata": {},
   "outputs": [],
   "source": [
    "import os\n",
    "import cv2\n",
    "import pprint\n",
    "import logging\n",
    "import tqdm\n",
    "import pandas as pd\n",
    "import numpy as np\n",
    "\n",
    "import face_trigger"
   ]
  },
  {
   "cell_type": "code",
   "execution_count": 3,
   "metadata": {},
   "outputs": [],
   "source": [
    "from face_trigger.model.deep.FaceRecognizer import FaceRecognizer\n",
    "from face_trigger.process.post_process import FaceDetector, LandmarkDetector, FaceAlign\n",
    "from face_trigger.utils.common import RepeatedTimer, clamp_rectangle\n",
    "from face_trigger.utils.data import dataset_filter, Dataset"
   ]
  },
  {
   "cell_type": "code",
   "execution_count": 3,
   "metadata": {},
   "outputs": [],
   "source": [
    "dataset_path =  \"/media/ankurrc/new_volume/softura/facerec/datasets/norm_cyber_extruder_ultimate\""
   ]
  },
  {
   "cell_type": "markdown",
   "metadata": {},
   "source": [
    "### Generate the embeddings"
   ]
  },
  {
   "cell_type": "code",
   "execution_count": 88,
   "metadata": {},
   "outputs": [],
   "source": [
    "recognizer_model = FaceRecognizer(\n",
    "        model_path=\"deep/dlib_face_recognition_resnet_model_v1.dat\",\n",
    "        shape_predictor_path=\"deep/shape_predictor_5_face_landmarks.dat\")\n",
    "dataset = Dataset(dataset_path)"
   ]
  },
  {
   "cell_type": "code",
   "execution_count": 89,
   "metadata": {},
   "outputs": [],
   "source": [
    "fold = 1\n",
    "training_samples = 8"
   ]
  },
  {
   "cell_type": "code",
   "execution_count": 90,
   "metadata": {},
   "outputs": [],
   "source": [
    "X_train, y_train, X_test, y_test = None, None, None, None\n",
    "embeddings = None"
   ]
  },
  {
   "cell_type": "code",
   "execution_count": 91,
   "metadata": {},
   "outputs": [
    {
     "name": "stdout",
     "output_type": "stream",
     "text": [
      "Generating embeddings for 8  training samples per subject...\n",
      "(3520 samples and 440 subjects)\n"
     ]
    },
    {
     "data": {
      "application/vnd.jupyter.widget-view+json": {
       "model_id": "1f907549fe8f469fbfc34659d5c517e3",
       "version_major": 2,
       "version_minor": 0
      },
      "text/plain": [
       "HBox(children=(IntProgress(value=0, max=3520), HTML(value=u'')))"
      ]
     },
     "metadata": {},
     "output_type": "display_data"
    },
    {
     "name": "stdout",
     "output_type": "stream",
     "text": [
      "\n",
      "done.\n"
     ]
    }
   ],
   "source": [
    "print(\"Generating embeddings for\", training_samples, \" training samples per subject...\")\n",
    "\n",
    "X_train, y_train = dataset.load_data(is_train=True, fold=fold, num_train=training_samples)\n",
    "\n",
    "print(\"(\" + str(len(X_train)) + \" samples and \" + str(len(\n",
    "np.unique(y_train))) + \" subjects)\")\n",
    "\n",
    "embeddings = recognizer_model.embed(X_train)\n",
    "        \n",
    "print(\"done.\")"
   ]
  },
  {
   "cell_type": "markdown",
   "metadata": {},
   "source": [
    "### Tune the SVM Classifier"
   ]
  },
  {
   "cell_type": "code",
   "execution_count": 92,
   "metadata": {},
   "outputs": [],
   "source": [
    "from sklearn.preprocessing import LabelEncoder\n",
    "from sklearn.svm import LinearSVC\n",
    "from sklearn.metrics import accuracy_score\n",
    "from sklearn.model_selection import StratifiedShuffleSplit\n",
    "from sklearn.model_selection import GridSearchCV"
   ]
  },
  {
   "cell_type": "code",
   "execution_count": 51,
   "metadata": {},
   "outputs": [],
   "source": [
    "dual = True # set false for att dataset\n",
    "class_weight = \"balanced\" # set None for att dataset\n",
    "Cs = np.logspace(-3, 10, 14, base=10.0)\n",
    "n_jobs = 4"
   ]
  },
  {
   "cell_type": "code",
   "execution_count": 32,
   "metadata": {},
   "outputs": [],
   "source": [
    "# refine the training data for tuning the classifier\n",
    "X_train = np.array(embeddings)\n",
    "y_train = LabelEncoder().fit_transform(y_train)"
   ]
  },
  {
   "cell_type": "code",
   "execution_count": 39,
   "metadata": {},
   "outputs": [],
   "source": [
    "param_grid = dict(C=Cs)\n",
    "cv = StratifiedShuffleSplit(n_splits=5,test_size=0.2, random_state=42)"
   ]
  },
  {
   "cell_type": "code",
   "execution_count": 40,
   "metadata": {},
   "outputs": [],
   "source": [
    "clf = LinearSVC(dual=dual,class_weight=class_weight)"
   ]
  },
  {
   "cell_type": "code",
   "execution_count": 52,
   "metadata": {},
   "outputs": [],
   "source": [
    "grid = GridSearchCV(clf, param_grid=param_grid, cv=cv, verbose=True, n_jobs=n_jobs)"
   ]
  },
  {
   "cell_type": "code",
   "execution_count": 53,
   "metadata": {},
   "outputs": [
    {
     "name": "stdout",
     "output_type": "stream",
     "text": [
      "Fitting 5 folds for each of 14 candidates, totalling 70 fits\n"
     ]
    },
    {
     "name": "stderr",
     "output_type": "stream",
     "text": [
      "[Parallel(n_jobs=4)]: Done  42 tasks      | elapsed:  5.2min\n",
      "[Parallel(n_jobs=4)]: Done  70 out of  70 | elapsed:  9.5min finished\n"
     ]
    },
    {
     "name": "stdout",
     "output_type": "stream",
     "text": [
      "The best parameters are {'C': 1.0} with a score of 0.98\n"
     ]
    }
   ],
   "source": [
    "grid.fit(X_train, y_train)\n",
    "\n",
    "print(\"The best parameters are %s with a score of %0.2f\"\n",
    "      % (grid.best_params_, grid.best_score_))"
   ]
  },
  {
   "cell_type": "code",
   "execution_count": 71,
   "metadata": {
    "collapsed": true
   },
   "outputs": [
    {
     "data": {
      "text/html": [
       "<div>\n",
       "<style scoped>\n",
       "    .dataframe tbody tr th:only-of-type {\n",
       "        vertical-align: middle;\n",
       "    }\n",
       "\n",
       "    .dataframe tbody tr th {\n",
       "        vertical-align: top;\n",
       "    }\n",
       "\n",
       "    .dataframe thead th {\n",
       "        text-align: right;\n",
       "    }\n",
       "</style>\n",
       "<table border=\"1\" class=\"dataframe\">\n",
       "  <thead>\n",
       "    <tr style=\"text-align: right;\">\n",
       "      <th></th>\n",
       "      <th>mean_fit_time</th>\n",
       "      <th>mean_score_time</th>\n",
       "      <th>mean_test_score</th>\n",
       "      <th>mean_train_score</th>\n",
       "      <th>param_C</th>\n",
       "      <th>params</th>\n",
       "      <th>rank_test_score</th>\n",
       "      <th>split0_test_score</th>\n",
       "      <th>split0_train_score</th>\n",
       "      <th>split1_test_score</th>\n",
       "      <th>...</th>\n",
       "      <th>split2_test_score</th>\n",
       "      <th>split2_train_score</th>\n",
       "      <th>split3_test_score</th>\n",
       "      <th>split3_train_score</th>\n",
       "      <th>split4_test_score</th>\n",
       "      <th>split4_train_score</th>\n",
       "      <th>std_fit_time</th>\n",
       "      <th>std_score_time</th>\n",
       "      <th>std_test_score</th>\n",
       "      <th>std_train_score</th>\n",
       "    </tr>\n",
       "  </thead>\n",
       "  <tbody>\n",
       "    <tr>\n",
       "      <th>0</th>\n",
       "      <td>25.659353</td>\n",
       "      <td>0.043279</td>\n",
       "      <td>0.936743</td>\n",
       "      <td>0.986406</td>\n",
       "      <td>0.001</td>\n",
       "      <td>{u'C': 0.001}</td>\n",
       "      <td>14</td>\n",
       "      <td>0.928668</td>\n",
       "      <td>0.986878</td>\n",
       "      <td>0.936743</td>\n",
       "      <td>...</td>\n",
       "      <td>0.935397</td>\n",
       "      <td>0.984859</td>\n",
       "      <td>0.936743</td>\n",
       "      <td>0.986541</td>\n",
       "      <td>0.946164</td>\n",
       "      <td>0.986541</td>\n",
       "      <td>0.782144</td>\n",
       "      <td>0.007843</td>\n",
       "      <td>0.005582</td>\n",
       "      <td>8.131256e-04</td>\n",
       "    </tr>\n",
       "    <tr>\n",
       "      <th>1</th>\n",
       "      <td>21.034760</td>\n",
       "      <td>0.038461</td>\n",
       "      <td>0.944549</td>\n",
       "      <td>0.989367</td>\n",
       "      <td>0.01</td>\n",
       "      <td>{u'C': 0.01}</td>\n",
       "      <td>13</td>\n",
       "      <td>0.934051</td>\n",
       "      <td>0.990242</td>\n",
       "      <td>0.940781</td>\n",
       "      <td>...</td>\n",
       "      <td>0.950202</td>\n",
       "      <td>0.989233</td>\n",
       "      <td>0.946164</td>\n",
       "      <td>0.989233</td>\n",
       "      <td>0.951548</td>\n",
       "      <td>0.988560</td>\n",
       "      <td>1.566563</td>\n",
       "      <td>0.015789</td>\n",
       "      <td>0.006449</td>\n",
       "      <td>5.467051e-04</td>\n",
       "    </tr>\n",
       "    <tr>\n",
       "      <th>2</th>\n",
       "      <td>20.480795</td>\n",
       "      <td>0.029938</td>\n",
       "      <td>0.972005</td>\n",
       "      <td>0.996366</td>\n",
       "      <td>0.1</td>\n",
       "      <td>{u'C': 0.1}</td>\n",
       "      <td>12</td>\n",
       "      <td>0.971736</td>\n",
       "      <td>0.996635</td>\n",
       "      <td>0.966353</td>\n",
       "      <td>...</td>\n",
       "      <td>0.975774</td>\n",
       "      <td>0.995962</td>\n",
       "      <td>0.973082</td>\n",
       "      <td>0.995962</td>\n",
       "      <td>0.973082</td>\n",
       "      <td>0.996972</td>\n",
       "      <td>0.572414</td>\n",
       "      <td>0.006862</td>\n",
       "      <td>0.003116</td>\n",
       "      <td>3.923925e-04</td>\n",
       "    </tr>\n",
       "    <tr>\n",
       "      <th>3</th>\n",
       "      <td>23.283659</td>\n",
       "      <td>0.026986</td>\n",
       "      <td>0.978735</td>\n",
       "      <td>0.999664</td>\n",
       "      <td>1</td>\n",
       "      <td>{u'C': 1.0}</td>\n",
       "      <td>1</td>\n",
       "      <td>0.977120</td>\n",
       "      <td>0.999664</td>\n",
       "      <td>0.974428</td>\n",
       "      <td>...</td>\n",
       "      <td>0.982503</td>\n",
       "      <td>0.999664</td>\n",
       "      <td>0.979812</td>\n",
       "      <td>0.999664</td>\n",
       "      <td>0.979812</td>\n",
       "      <td>0.999664</td>\n",
       "      <td>0.972145</td>\n",
       "      <td>0.007851</td>\n",
       "      <td>0.002745</td>\n",
       "      <td>1.110223e-16</td>\n",
       "    </tr>\n",
       "    <tr>\n",
       "      <th>4</th>\n",
       "      <td>34.627690</td>\n",
       "      <td>0.039167</td>\n",
       "      <td>0.978197</td>\n",
       "      <td>1.000000</td>\n",
       "      <td>10</td>\n",
       "      <td>{u'C': 10.0}</td>\n",
       "      <td>2</td>\n",
       "      <td>0.977120</td>\n",
       "      <td>1.000000</td>\n",
       "      <td>0.973082</td>\n",
       "      <td>...</td>\n",
       "      <td>0.981157</td>\n",
       "      <td>1.000000</td>\n",
       "      <td>0.978466</td>\n",
       "      <td>1.000000</td>\n",
       "      <td>0.981157</td>\n",
       "      <td>1.000000</td>\n",
       "      <td>2.713984</td>\n",
       "      <td>0.018270</td>\n",
       "      <td>0.002997</td>\n",
       "      <td>0.000000e+00</td>\n",
       "    </tr>\n",
       "    <tr>\n",
       "      <th>5</th>\n",
       "      <td>35.183213</td>\n",
       "      <td>0.031819</td>\n",
       "      <td>0.976043</td>\n",
       "      <td>1.000000</td>\n",
       "      <td>100</td>\n",
       "      <td>{u'C': 100.0}</td>\n",
       "      <td>3</td>\n",
       "      <td>0.974428</td>\n",
       "      <td>1.000000</td>\n",
       "      <td>0.973082</td>\n",
       "      <td>...</td>\n",
       "      <td>0.979812</td>\n",
       "      <td>1.000000</td>\n",
       "      <td>0.974428</td>\n",
       "      <td>1.000000</td>\n",
       "      <td>0.978466</td>\n",
       "      <td>1.000000</td>\n",
       "      <td>3.370566</td>\n",
       "      <td>0.009494</td>\n",
       "      <td>0.002610</td>\n",
       "      <td>0.000000e+00</td>\n",
       "    </tr>\n",
       "    <tr>\n",
       "      <th>6</th>\n",
       "      <td>32.430448</td>\n",
       "      <td>0.023899</td>\n",
       "      <td>0.974966</td>\n",
       "      <td>1.000000</td>\n",
       "      <td>1000</td>\n",
       "      <td>{u'C': 1000.0}</td>\n",
       "      <td>11</td>\n",
       "      <td>0.970390</td>\n",
       "      <td>1.000000</td>\n",
       "      <td>0.973082</td>\n",
       "      <td>...</td>\n",
       "      <td>0.981157</td>\n",
       "      <td>1.000000</td>\n",
       "      <td>0.974428</td>\n",
       "      <td>1.000000</td>\n",
       "      <td>0.975774</td>\n",
       "      <td>1.000000</td>\n",
       "      <td>4.238815</td>\n",
       "      <td>0.002286</td>\n",
       "      <td>0.003571</td>\n",
       "      <td>0.000000e+00</td>\n",
       "    </tr>\n",
       "    <tr>\n",
       "      <th>7</th>\n",
       "      <td>30.576229</td>\n",
       "      <td>0.028017</td>\n",
       "      <td>0.975236</td>\n",
       "      <td>1.000000</td>\n",
       "      <td>10000</td>\n",
       "      <td>{u'C': 10000.0}</td>\n",
       "      <td>5</td>\n",
       "      <td>0.970390</td>\n",
       "      <td>1.000000</td>\n",
       "      <td>0.973082</td>\n",
       "      <td>...</td>\n",
       "      <td>0.981157</td>\n",
       "      <td>1.000000</td>\n",
       "      <td>0.974428</td>\n",
       "      <td>1.000000</td>\n",
       "      <td>0.977120</td>\n",
       "      <td>1.000000</td>\n",
       "      <td>0.125438</td>\n",
       "      <td>0.006291</td>\n",
       "      <td>0.003671</td>\n",
       "      <td>0.000000e+00</td>\n",
       "    </tr>\n",
       "    <tr>\n",
       "      <th>8</th>\n",
       "      <td>31.252567</td>\n",
       "      <td>0.022576</td>\n",
       "      <td>0.975505</td>\n",
       "      <td>1.000000</td>\n",
       "      <td>100000</td>\n",
       "      <td>{u'C': 100000.0}</td>\n",
       "      <td>4</td>\n",
       "      <td>0.971736</td>\n",
       "      <td>1.000000</td>\n",
       "      <td>0.973082</td>\n",
       "      <td>...</td>\n",
       "      <td>0.981157</td>\n",
       "      <td>1.000000</td>\n",
       "      <td>0.974428</td>\n",
       "      <td>1.000000</td>\n",
       "      <td>0.977120</td>\n",
       "      <td>1.000000</td>\n",
       "      <td>0.653291</td>\n",
       "      <td>0.002641</td>\n",
       "      <td>0.003340</td>\n",
       "      <td>0.000000e+00</td>\n",
       "    </tr>\n",
       "    <tr>\n",
       "      <th>9</th>\n",
       "      <td>30.296240</td>\n",
       "      <td>0.032112</td>\n",
       "      <td>0.975236</td>\n",
       "      <td>1.000000</td>\n",
       "      <td>1e+06</td>\n",
       "      <td>{u'C': 1000000.0}</td>\n",
       "      <td>5</td>\n",
       "      <td>0.970390</td>\n",
       "      <td>1.000000</td>\n",
       "      <td>0.973082</td>\n",
       "      <td>...</td>\n",
       "      <td>0.981157</td>\n",
       "      <td>1.000000</td>\n",
       "      <td>0.974428</td>\n",
       "      <td>1.000000</td>\n",
       "      <td>0.977120</td>\n",
       "      <td>1.000000</td>\n",
       "      <td>0.796844</td>\n",
       "      <td>0.019251</td>\n",
       "      <td>0.003671</td>\n",
       "      <td>0.000000e+00</td>\n",
       "    </tr>\n",
       "    <tr>\n",
       "      <th>10</th>\n",
       "      <td>36.346827</td>\n",
       "      <td>0.024098</td>\n",
       "      <td>0.975236</td>\n",
       "      <td>1.000000</td>\n",
       "      <td>1e+07</td>\n",
       "      <td>{u'C': 10000000.0}</td>\n",
       "      <td>5</td>\n",
       "      <td>0.970390</td>\n",
       "      <td>1.000000</td>\n",
       "      <td>0.973082</td>\n",
       "      <td>...</td>\n",
       "      <td>0.981157</td>\n",
       "      <td>1.000000</td>\n",
       "      <td>0.974428</td>\n",
       "      <td>1.000000</td>\n",
       "      <td>0.977120</td>\n",
       "      <td>1.000000</td>\n",
       "      <td>5.732972</td>\n",
       "      <td>0.006167</td>\n",
       "      <td>0.003671</td>\n",
       "      <td>0.000000e+00</td>\n",
       "    </tr>\n",
       "    <tr>\n",
       "      <th>11</th>\n",
       "      <td>44.486830</td>\n",
       "      <td>0.026172</td>\n",
       "      <td>0.975236</td>\n",
       "      <td>1.000000</td>\n",
       "      <td>1e+08</td>\n",
       "      <td>{u'C': 100000000.0}</td>\n",
       "      <td>5</td>\n",
       "      <td>0.970390</td>\n",
       "      <td>1.000000</td>\n",
       "      <td>0.973082</td>\n",
       "      <td>...</td>\n",
       "      <td>0.981157</td>\n",
       "      <td>1.000000</td>\n",
       "      <td>0.974428</td>\n",
       "      <td>1.000000</td>\n",
       "      <td>0.977120</td>\n",
       "      <td>1.000000</td>\n",
       "      <td>0.720835</td>\n",
       "      <td>0.004273</td>\n",
       "      <td>0.003671</td>\n",
       "      <td>0.000000e+00</td>\n",
       "    </tr>\n",
       "    <tr>\n",
       "      <th>12</th>\n",
       "      <td>44.186440</td>\n",
       "      <td>0.032209</td>\n",
       "      <td>0.975236</td>\n",
       "      <td>1.000000</td>\n",
       "      <td>1e+09</td>\n",
       "      <td>{u'C': 1000000000.0}</td>\n",
       "      <td>5</td>\n",
       "      <td>0.970390</td>\n",
       "      <td>1.000000</td>\n",
       "      <td>0.973082</td>\n",
       "      <td>...</td>\n",
       "      <td>0.981157</td>\n",
       "      <td>1.000000</td>\n",
       "      <td>0.974428</td>\n",
       "      <td>1.000000</td>\n",
       "      <td>0.977120</td>\n",
       "      <td>1.000000</td>\n",
       "      <td>1.542663</td>\n",
       "      <td>0.004348</td>\n",
       "      <td>0.003671</td>\n",
       "      <td>0.000000e+00</td>\n",
       "    </tr>\n",
       "    <tr>\n",
       "      <th>13</th>\n",
       "      <td>36.115269</td>\n",
       "      <td>0.024123</td>\n",
       "      <td>0.975236</td>\n",
       "      <td>1.000000</td>\n",
       "      <td>1e+10</td>\n",
       "      <td>{u'C': 10000000000.0}</td>\n",
       "      <td>5</td>\n",
       "      <td>0.970390</td>\n",
       "      <td>1.000000</td>\n",
       "      <td>0.973082</td>\n",
       "      <td>...</td>\n",
       "      <td>0.981157</td>\n",
       "      <td>1.000000</td>\n",
       "      <td>0.974428</td>\n",
       "      <td>1.000000</td>\n",
       "      <td>0.977120</td>\n",
       "      <td>1.000000</td>\n",
       "      <td>7.245401</td>\n",
       "      <td>0.009400</td>\n",
       "      <td>0.003671</td>\n",
       "      <td>0.000000e+00</td>\n",
       "    </tr>\n",
       "  </tbody>\n",
       "</table>\n",
       "<p>14 rows × 21 columns</p>\n",
       "</div>"
      ],
      "text/plain": [
       "    mean_fit_time  mean_score_time  mean_test_score  mean_train_score param_C  \\\n",
       "0       25.659353         0.043279         0.936743          0.986406   0.001   \n",
       "1       21.034760         0.038461         0.944549          0.989367    0.01   \n",
       "2       20.480795         0.029938         0.972005          0.996366     0.1   \n",
       "3       23.283659         0.026986         0.978735          0.999664       1   \n",
       "4       34.627690         0.039167         0.978197          1.000000      10   \n",
       "5       35.183213         0.031819         0.976043          1.000000     100   \n",
       "6       32.430448         0.023899         0.974966          1.000000    1000   \n",
       "7       30.576229         0.028017         0.975236          1.000000   10000   \n",
       "8       31.252567         0.022576         0.975505          1.000000  100000   \n",
       "9       30.296240         0.032112         0.975236          1.000000   1e+06   \n",
       "10      36.346827         0.024098         0.975236          1.000000   1e+07   \n",
       "11      44.486830         0.026172         0.975236          1.000000   1e+08   \n",
       "12      44.186440         0.032209         0.975236          1.000000   1e+09   \n",
       "13      36.115269         0.024123         0.975236          1.000000   1e+10   \n",
       "\n",
       "                   params  rank_test_score  split0_test_score  \\\n",
       "0           {u'C': 0.001}               14           0.928668   \n",
       "1            {u'C': 0.01}               13           0.934051   \n",
       "2             {u'C': 0.1}               12           0.971736   \n",
       "3             {u'C': 1.0}                1           0.977120   \n",
       "4            {u'C': 10.0}                2           0.977120   \n",
       "5           {u'C': 100.0}                3           0.974428   \n",
       "6          {u'C': 1000.0}               11           0.970390   \n",
       "7         {u'C': 10000.0}                5           0.970390   \n",
       "8        {u'C': 100000.0}                4           0.971736   \n",
       "9       {u'C': 1000000.0}                5           0.970390   \n",
       "10     {u'C': 10000000.0}                5           0.970390   \n",
       "11    {u'C': 100000000.0}                5           0.970390   \n",
       "12   {u'C': 1000000000.0}                5           0.970390   \n",
       "13  {u'C': 10000000000.0}                5           0.970390   \n",
       "\n",
       "    split0_train_score  split1_test_score       ...         split2_test_score  \\\n",
       "0             0.986878           0.936743       ...                  0.935397   \n",
       "1             0.990242           0.940781       ...                  0.950202   \n",
       "2             0.996635           0.966353       ...                  0.975774   \n",
       "3             0.999664           0.974428       ...                  0.982503   \n",
       "4             1.000000           0.973082       ...                  0.981157   \n",
       "5             1.000000           0.973082       ...                  0.979812   \n",
       "6             1.000000           0.973082       ...                  0.981157   \n",
       "7             1.000000           0.973082       ...                  0.981157   \n",
       "8             1.000000           0.973082       ...                  0.981157   \n",
       "9             1.000000           0.973082       ...                  0.981157   \n",
       "10            1.000000           0.973082       ...                  0.981157   \n",
       "11            1.000000           0.973082       ...                  0.981157   \n",
       "12            1.000000           0.973082       ...                  0.981157   \n",
       "13            1.000000           0.973082       ...                  0.981157   \n",
       "\n",
       "    split2_train_score  split3_test_score  split3_train_score  \\\n",
       "0             0.984859           0.936743            0.986541   \n",
       "1             0.989233           0.946164            0.989233   \n",
       "2             0.995962           0.973082            0.995962   \n",
       "3             0.999664           0.979812            0.999664   \n",
       "4             1.000000           0.978466            1.000000   \n",
       "5             1.000000           0.974428            1.000000   \n",
       "6             1.000000           0.974428            1.000000   \n",
       "7             1.000000           0.974428            1.000000   \n",
       "8             1.000000           0.974428            1.000000   \n",
       "9             1.000000           0.974428            1.000000   \n",
       "10            1.000000           0.974428            1.000000   \n",
       "11            1.000000           0.974428            1.000000   \n",
       "12            1.000000           0.974428            1.000000   \n",
       "13            1.000000           0.974428            1.000000   \n",
       "\n",
       "    split4_test_score  split4_train_score  std_fit_time  std_score_time  \\\n",
       "0            0.946164            0.986541      0.782144        0.007843   \n",
       "1            0.951548            0.988560      1.566563        0.015789   \n",
       "2            0.973082            0.996972      0.572414        0.006862   \n",
       "3            0.979812            0.999664      0.972145        0.007851   \n",
       "4            0.981157            1.000000      2.713984        0.018270   \n",
       "5            0.978466            1.000000      3.370566        0.009494   \n",
       "6            0.975774            1.000000      4.238815        0.002286   \n",
       "7            0.977120            1.000000      0.125438        0.006291   \n",
       "8            0.977120            1.000000      0.653291        0.002641   \n",
       "9            0.977120            1.000000      0.796844        0.019251   \n",
       "10           0.977120            1.000000      5.732972        0.006167   \n",
       "11           0.977120            1.000000      0.720835        0.004273   \n",
       "12           0.977120            1.000000      1.542663        0.004348   \n",
       "13           0.977120            1.000000      7.245401        0.009400   \n",
       "\n",
       "    std_test_score  std_train_score  \n",
       "0         0.005582     8.131256e-04  \n",
       "1         0.006449     5.467051e-04  \n",
       "2         0.003116     3.923925e-04  \n",
       "3         0.002745     1.110223e-16  \n",
       "4         0.002997     0.000000e+00  \n",
       "5         0.002610     0.000000e+00  \n",
       "6         0.003571     0.000000e+00  \n",
       "7         0.003671     0.000000e+00  \n",
       "8         0.003340     0.000000e+00  \n",
       "9         0.003671     0.000000e+00  \n",
       "10        0.003671     0.000000e+00  \n",
       "11        0.003671     0.000000e+00  \n",
       "12        0.003671     0.000000e+00  \n",
       "13        0.003671     0.000000e+00  \n",
       "\n",
       "[14 rows x 21 columns]"
      ]
     },
     "execution_count": 71,
     "metadata": {},
     "output_type": "execute_result"
    }
   ],
   "source": [
    "grid_results = pd.DataFrame(data=grid.cv_results_)\n",
    "grid_results"
   ]
  },
  {
   "cell_type": "markdown",
   "metadata": {},
   "source": [
    "### Evaluate the classifier"
   ]
  },
  {
   "cell_type": "code",
   "execution_count": 61,
   "metadata": {},
   "outputs": [],
   "source": [
    "X_test, y_test = dataset.load_data(is_train=False, fold=fold, num_train=training_samples)"
   ]
  },
  {
   "cell_type": "code",
   "execution_count": 59,
   "metadata": {},
   "outputs": [
    {
     "name": "stdout",
     "output_type": "stream",
     "text": [
      "Generating 'test' embeddings for...\n",
      "(2349 samples and 743 subjects)\n"
     ]
    },
    {
     "data": {
      "application/vnd.jupyter.widget-view+json": {
       "model_id": "f45a260d7f2041d78fe65584e8095c1f",
       "version_major": 2,
       "version_minor": 0
      },
      "text/plain": [
       "HBox(children=(IntProgress(value=0, max=2349), HTML(value=u'')))"
      ]
     },
     "metadata": {},
     "output_type": "display_data"
    },
    {
     "name": "stdout",
     "output_type": "stream",
     "text": [
      "done.\n"
     ]
    }
   ],
   "source": [
    "print(\"Generating 'test' embeddings for...\")\n",
    "print(\"(\" + str(len(X_test)) + \" samples and \" + str(len(\n",
    "np.unique(y_test))) + \" subjects)\")\n",
    "\n",
    "test_embeddings = recognizer_model.embed(X_test)\n",
    "        \n",
    "print(\"done.\")"
   ]
  },
  {
   "cell_type": "code",
   "execution_count": 62,
   "metadata": {},
   "outputs": [],
   "source": [
    "X_test = np.array(test_embeddings)\n",
    "y_test = LabelEncoder().fit_transform(y_test)"
   ]
  },
  {
   "cell_type": "code",
   "execution_count": 72,
   "metadata": {},
   "outputs": [
    {
     "data": {
      "text/plain": [
       "0.9821200510855683"
      ]
     },
     "execution_count": 72,
     "metadata": {},
     "output_type": "execute_result"
    }
   ],
   "source": [
    "accuracy_score(y_test, grid.predict(X_test))"
   ]
  },
  {
   "cell_type": "markdown",
   "metadata": {},
   "source": [
    "### Train a novelty detector"
   ]
  },
  {
   "cell_type": "code",
   "execution_count": 85,
   "metadata": {},
   "outputs": [],
   "source": [
    "from sklearn import svm"
   ]
  },
  {
   "cell_type": "code",
   "execution_count": 112,
   "metadata": {},
   "outputs": [],
   "source": [
    "outliers_fraction = 0.001"
   ]
  },
  {
   "cell_type": "code",
   "execution_count": 121,
   "metadata": {},
   "outputs": [],
   "source": [
    "novelty_clf = svm.OneClassSVM(nu=outliers_fraction, kernel=\"rbf\", gamma=0.1)"
   ]
  },
  {
   "cell_type": "code",
   "execution_count": 122,
   "metadata": {},
   "outputs": [
    {
     "data": {
      "text/plain": [
       "OneClassSVM(cache_size=200, coef0=0.0, degree=3, gamma=0.1, kernel='rbf',\n",
       "      max_iter=-1, nu=0.001, random_state=None, shrinking=True, tol=0.001,\n",
       "      verbose=False)"
      ]
     },
     "execution_count": 122,
     "metadata": {},
     "output_type": "execute_result"
    }
   ],
   "source": [
    "novelty_clf.fit(X_train)"
   ]
  },
  {
   "cell_type": "markdown",
   "metadata": {},
   "source": [
    "### Evaluate the novelty detector"
   ]
  },
  {
   "cell_type": "code",
   "execution_count": 123,
   "metadata": {},
   "outputs": [],
   "source": [
    "y_pred_train = novelty_clf.predict(X_train)"
   ]
  },
  {
   "cell_type": "code",
   "execution_count": 143,
   "metadata": {
    "scrolled": true
   },
   "outputs": [
    {
     "name": "stdout",
     "output_type": "stream",
     "text": [
      "Error: 0.00403768506057 %\n"
     ]
    }
   ],
   "source": [
    "print(\"Error:\", (y_pred_train[y_pred_train == -1].size/y_pred_train.size), \"%\")"
   ]
  },
  {
   "cell_type": "code",
   "execution_count": 125,
   "metadata": {},
   "outputs": [],
   "source": [
    "y_pred_test = novelty_clf.predict(X_test)"
   ]
  },
  {
   "cell_type": "code",
   "execution_count": 144,
   "metadata": {},
   "outputs": [
    {
     "name": "stdout",
     "output_type": "stream",
     "text": [
      "Error: 0.00936568752661 %\n"
     ]
    }
   ],
   "source": [
    "print(\"Error:\", (y_pred_test[y_pred_test == -1].size/y_pred_test.size), \"%\")"
   ]
  },
  {
   "cell_type": "code",
   "execution_count": 128,
   "metadata": {},
   "outputs": [],
   "source": [
    "dataset_nd_path = \"/media/ankurrc/new_volume/softura/facerec/datasets/norm_standard_att\"\n",
    "dataset_nd = Dataset(dataset_nd_path)"
   ]
  },
  {
   "cell_type": "code",
   "execution_count": 135,
   "metadata": {},
   "outputs": [],
   "source": [
    "X_outlier, y_outlier = dataset_nd.load_data(is_train=False, fold=fold, num_train=2)"
   ]
  },
  {
   "cell_type": "code",
   "execution_count": 136,
   "metadata": {},
   "outputs": [
    {
     "name": "stdout",
     "output_type": "stream",
     "text": [
      "Generating 'oulier' embeddings for...\n",
      "(314 samples and 40 subjects)\n"
     ]
    },
    {
     "data": {
      "application/vnd.jupyter.widget-view+json": {
       "model_id": "bb3f75b9c7a948e48b18a55dcf5dfeae",
       "version_major": 2,
       "version_minor": 0
      },
      "text/plain": [
       "HBox(children=(IntProgress(value=0, max=314), HTML(value=u'')))"
      ]
     },
     "metadata": {},
     "output_type": "display_data"
    },
    {
     "name": "stdout",
     "output_type": "stream",
     "text": [
      "done.\n"
     ]
    }
   ],
   "source": [
    "print(\"Generating 'oulier' embeddings for...\")\n",
    "print(\"(\" + str(len(X_outlier)) + \" samples and \" + str(len(\n",
    "np.unique(y_outlier))) + \" subjects)\")\n",
    "\n",
    "outlier_embeddings = recognizer_model.embed(X_outlier)\n",
    "        \n",
    "print(\"done.\")"
   ]
  },
  {
   "cell_type": "code",
   "execution_count": 138,
   "metadata": {},
   "outputs": [],
   "source": [
    "X_outlier = np.array(outlier_embeddings)"
   ]
  },
  {
   "cell_type": "code",
   "execution_count": 139,
   "metadata": {},
   "outputs": [],
   "source": [
    "y_pred_outlier = novelty_clf.predict(X_outlier)"
   ]
  },
  {
   "cell_type": "code",
   "execution_count": 141,
   "metadata": {},
   "outputs": [],
   "source": [
    "y_pred_outlier_error = y_pred_outlier[y_pred_outlier == 1].size"
   ]
  },
  {
   "cell_type": "code",
   "execution_count": 142,
   "metadata": {},
   "outputs": [
    {
     "name": "stdout",
     "output_type": "stream",
     "text": [
      "Error: 1.0 %\n"
     ]
    }
   ],
   "source": [
    "print(\"Error:\", (y_pred_outlier_error/y_pred_outlier.size), \"%\")"
   ]
  },
  {
   "cell_type": "markdown",
   "metadata": {},
   "source": [
    "### SVM Classifier with probabilities"
   ]
  },
  {
   "cell_type": "code",
   "execution_count": 1,
   "metadata": {},
   "outputs": [],
   "source": [
    "from sklearn.preprocessing import LabelEncoder\n",
    "from sklearn.svm import LinearSVC\n",
    "from sklearn.metrics import accuracy_score\n",
    "from sklearn.model_selection import StratifiedShuffleSplit\n",
    "from sklearn.model_selection import GridSearchCV\n",
    "from sklearn.calibration import CalibratedClassifierCV"
   ]
  },
  {
   "cell_type": "code",
   "execution_count": 94,
   "metadata": {},
   "outputs": [],
   "source": [
    "dual = True # set false for att dataset\n",
    "class_weight = \"balanced\" # set None for att dataset\n",
    "Cs = np.logspace(-3, 3, 7, base=10.0)\n",
    "n_jobs = 4"
   ]
  },
  {
   "cell_type": "code",
   "execution_count": 95,
   "metadata": {},
   "outputs": [],
   "source": [
    "# refine the training data for tuning the classifier\n",
    "X_train = np.array(embeddings)\n",
    "y_train = LabelEncoder().fit_transform(y_train)"
   ]
  },
  {
   "cell_type": "code",
   "execution_count": 96,
   "metadata": {},
   "outputs": [],
   "source": [
    "y_train_save = y_train"
   ]
  },
  {
   "cell_type": "code",
   "execution_count": 97,
   "metadata": {},
   "outputs": [],
   "source": [
    "param_grid = dict(base_estimator__C=Cs)\n",
    "cv = StratifiedShuffleSplit(n_splits=5,test_size=0.2, random_state=42)"
   ]
  },
  {
   "cell_type": "code",
   "execution_count": 98,
   "metadata": {},
   "outputs": [],
   "source": [
    "svm = LinearSVC(dual=dual,class_weight=class_weight)\n",
    "clf = CalibratedClassifierCV(svm) "
   ]
  },
  {
   "cell_type": "code",
   "execution_count": 99,
   "metadata": {},
   "outputs": [],
   "source": [
    "grid = GridSearchCV(clf, param_grid=param_grid, cv=cv, verbose=True, n_jobs=n_jobs)"
   ]
  },
  {
   "cell_type": "code",
   "execution_count": 100,
   "metadata": {},
   "outputs": [
    {
     "name": "stdout",
     "output_type": "stream",
     "text": [
      "Fitting 5 folds for each of 7 candidates, totalling 35 fits\n"
     ]
    },
    {
     "name": "stderr",
     "output_type": "stream",
     "text": [
      "[Parallel(n_jobs=4)]: Done  35 out of  35 | elapsed:  9.4min finished\n"
     ]
    },
    {
     "data": {
      "text/plain": [
       "GridSearchCV(cv=StratifiedShuffleSplit(n_splits=5, random_state=42, test_size=0.2,\n",
       "            train_size=None),\n",
       "       error_score='raise',\n",
       "       estimator=CalibratedClassifierCV(base_estimator=LinearSVC(C=1.0, class_weight='balanced', dual=True, fit_intercept=True,\n",
       "     intercept_scaling=1, loss='squared_hinge', max_iter=1000,\n",
       "     multi_class='ovr', penalty='l2', random_state=None, tol=0.0001,\n",
       "     verbose=0),\n",
       "            cv=3, method='sigmoid'),\n",
       "       fit_params=None, iid=True, n_jobs=4,\n",
       "       param_grid={'base_estimator__C': array([1.e-03, 1.e-02, 1.e-01, 1.e+00, 1.e+01, 1.e+02, 1.e+03])},\n",
       "       pre_dispatch='2*n_jobs', refit=True, return_train_score='warn',\n",
       "       scoring=None, verbose=True)"
      ]
     },
     "execution_count": 100,
     "metadata": {},
     "output_type": "execute_result"
    }
   ],
   "source": [
    "grid.fit(X_train, y_train)"
   ]
  },
  {
   "cell_type": "code",
   "execution_count": 101,
   "metadata": {},
   "outputs": [
    {
     "name": "stdout",
     "output_type": "stream",
     "text": [
      "The best parameters are {'base_estimator__C': 1000.0} with a score of 0.99\n"
     ]
    }
   ],
   "source": [
    "print(\"The best parameters are %s with a score of %0.2f\"\n",
    "      % (grid.best_params_, grid.best_score_))"
   ]
  },
  {
   "cell_type": "code",
   "execution_count": 102,
   "metadata": {
    "collapsed": true
   },
   "outputs": [
    {
     "data": {
      "text/html": [
       "<div>\n",
       "<style scoped>\n",
       "    .dataframe tbody tr th:only-of-type {\n",
       "        vertical-align: middle;\n",
       "    }\n",
       "\n",
       "    .dataframe tbody tr th {\n",
       "        vertical-align: top;\n",
       "    }\n",
       "\n",
       "    .dataframe thead th {\n",
       "        text-align: right;\n",
       "    }\n",
       "</style>\n",
       "<table border=\"1\" class=\"dataframe\">\n",
       "  <thead>\n",
       "    <tr style=\"text-align: right;\">\n",
       "      <th></th>\n",
       "      <th>mean_fit_time</th>\n",
       "      <th>mean_score_time</th>\n",
       "      <th>mean_test_score</th>\n",
       "      <th>mean_train_score</th>\n",
       "      <th>param_base_estimator__C</th>\n",
       "      <th>params</th>\n",
       "      <th>rank_test_score</th>\n",
       "      <th>split0_test_score</th>\n",
       "      <th>split0_train_score</th>\n",
       "      <th>split1_test_score</th>\n",
       "      <th>...</th>\n",
       "      <th>split2_test_score</th>\n",
       "      <th>split2_train_score</th>\n",
       "      <th>split3_test_score</th>\n",
       "      <th>split3_train_score</th>\n",
       "      <th>split4_test_score</th>\n",
       "      <th>split4_train_score</th>\n",
       "      <th>std_fit_time</th>\n",
       "      <th>std_score_time</th>\n",
       "      <th>std_test_score</th>\n",
       "      <th>std_train_score</th>\n",
       "    </tr>\n",
       "  </thead>\n",
       "  <tbody>\n",
       "    <tr>\n",
       "      <th>0</th>\n",
       "      <td>50.889670</td>\n",
       "      <td>0.374614</td>\n",
       "      <td>0.043182</td>\n",
       "      <td>0.083665</td>\n",
       "      <td>0.001</td>\n",
       "      <td>{u'base_estimator__C': 0.001}</td>\n",
       "      <td>7</td>\n",
       "      <td>0.053977</td>\n",
       "      <td>0.094105</td>\n",
       "      <td>0.036932</td>\n",
       "      <td>...</td>\n",
       "      <td>0.044034</td>\n",
       "      <td>0.084517</td>\n",
       "      <td>0.036932</td>\n",
       "      <td>0.079190</td>\n",
       "      <td>0.044034</td>\n",
       "      <td>0.074219</td>\n",
       "      <td>4.296422</td>\n",
       "      <td>0.042952</td>\n",
       "      <td>0.006263</td>\n",
       "      <td>0.006721</td>\n",
       "    </tr>\n",
       "    <tr>\n",
       "      <th>1</th>\n",
       "      <td>54.718473</td>\n",
       "      <td>0.374652</td>\n",
       "      <td>0.536648</td>\n",
       "      <td>0.592969</td>\n",
       "      <td>0.01</td>\n",
       "      <td>{u'base_estimator__C': 0.01}</td>\n",
       "      <td>6</td>\n",
       "      <td>0.524148</td>\n",
       "      <td>0.600852</td>\n",
       "      <td>0.544034</td>\n",
       "      <td>...</td>\n",
       "      <td>0.531250</td>\n",
       "      <td>0.596946</td>\n",
       "      <td>0.534091</td>\n",
       "      <td>0.584517</td>\n",
       "      <td>0.549716</td>\n",
       "      <td>0.594105</td>\n",
       "      <td>6.250035</td>\n",
       "      <td>0.046940</td>\n",
       "      <td>0.009135</td>\n",
       "      <td>0.005854</td>\n",
       "    </tr>\n",
       "    <tr>\n",
       "      <th>2</th>\n",
       "      <td>47.985934</td>\n",
       "      <td>0.362881</td>\n",
       "      <td>0.990057</td>\n",
       "      <td>0.999432</td>\n",
       "      <td>0.1</td>\n",
       "      <td>{u'base_estimator__C': 0.1}</td>\n",
       "      <td>5</td>\n",
       "      <td>0.990057</td>\n",
       "      <td>0.999645</td>\n",
       "      <td>0.990057</td>\n",
       "      <td>...</td>\n",
       "      <td>0.990057</td>\n",
       "      <td>0.999645</td>\n",
       "      <td>0.990057</td>\n",
       "      <td>0.999290</td>\n",
       "      <td>0.990057</td>\n",
       "      <td>0.999290</td>\n",
       "      <td>1.867233</td>\n",
       "      <td>0.068504</td>\n",
       "      <td>0.000000</td>\n",
       "      <td>0.000174</td>\n",
       "    </tr>\n",
       "    <tr>\n",
       "      <th>3</th>\n",
       "      <td>56.000113</td>\n",
       "      <td>0.375958</td>\n",
       "      <td>0.991761</td>\n",
       "      <td>1.000000</td>\n",
       "      <td>1</td>\n",
       "      <td>{u'base_estimator__C': 1.0}</td>\n",
       "      <td>2</td>\n",
       "      <td>0.992898</td>\n",
       "      <td>1.000000</td>\n",
       "      <td>0.991477</td>\n",
       "      <td>...</td>\n",
       "      <td>0.991477</td>\n",
       "      <td>1.000000</td>\n",
       "      <td>0.990057</td>\n",
       "      <td>1.000000</td>\n",
       "      <td>0.992898</td>\n",
       "      <td>1.000000</td>\n",
       "      <td>2.084107</td>\n",
       "      <td>0.046400</td>\n",
       "      <td>0.001063</td>\n",
       "      <td>0.000000</td>\n",
       "    </tr>\n",
       "    <tr>\n",
       "      <th>4</th>\n",
       "      <td>69.318964</td>\n",
       "      <td>0.331135</td>\n",
       "      <td>0.991761</td>\n",
       "      <td>1.000000</td>\n",
       "      <td>10</td>\n",
       "      <td>{u'base_estimator__C': 10.0}</td>\n",
       "      <td>2</td>\n",
       "      <td>0.991477</td>\n",
       "      <td>1.000000</td>\n",
       "      <td>0.992898</td>\n",
       "      <td>...</td>\n",
       "      <td>0.990057</td>\n",
       "      <td>1.000000</td>\n",
       "      <td>0.992898</td>\n",
       "      <td>1.000000</td>\n",
       "      <td>0.991477</td>\n",
       "      <td>1.000000</td>\n",
       "      <td>2.058649</td>\n",
       "      <td>0.074992</td>\n",
       "      <td>0.001063</td>\n",
       "      <td>0.000000</td>\n",
       "    </tr>\n",
       "    <tr>\n",
       "      <th>5</th>\n",
       "      <td>80.898910</td>\n",
       "      <td>0.359274</td>\n",
       "      <td>0.991761</td>\n",
       "      <td>1.000000</td>\n",
       "      <td>100</td>\n",
       "      <td>{u'base_estimator__C': 100.0}</td>\n",
       "      <td>2</td>\n",
       "      <td>0.991477</td>\n",
       "      <td>1.000000</td>\n",
       "      <td>0.992898</td>\n",
       "      <td>...</td>\n",
       "      <td>0.988636</td>\n",
       "      <td>1.000000</td>\n",
       "      <td>0.994318</td>\n",
       "      <td>1.000000</td>\n",
       "      <td>0.991477</td>\n",
       "      <td>1.000000</td>\n",
       "      <td>0.996232</td>\n",
       "      <td>0.022050</td>\n",
       "      <td>0.001884</td>\n",
       "      <td>0.000000</td>\n",
       "    </tr>\n",
       "    <tr>\n",
       "      <th>6</th>\n",
       "      <td>68.483765</td>\n",
       "      <td>0.176487</td>\n",
       "      <td>0.992330</td>\n",
       "      <td>1.000000</td>\n",
       "      <td>1000</td>\n",
       "      <td>{u'base_estimator__C': 1000.0}</td>\n",
       "      <td>1</td>\n",
       "      <td>0.991477</td>\n",
       "      <td>1.000000</td>\n",
       "      <td>0.992898</td>\n",
       "      <td>...</td>\n",
       "      <td>0.991477</td>\n",
       "      <td>1.000000</td>\n",
       "      <td>0.994318</td>\n",
       "      <td>1.000000</td>\n",
       "      <td>0.991477</td>\n",
       "      <td>1.000000</td>\n",
       "      <td>9.610089</td>\n",
       "      <td>0.044166</td>\n",
       "      <td>0.001136</td>\n",
       "      <td>0.000000</td>\n",
       "    </tr>\n",
       "  </tbody>\n",
       "</table>\n",
       "<p>7 rows × 21 columns</p>\n",
       "</div>"
      ],
      "text/plain": [
       "   mean_fit_time  mean_score_time  mean_test_score  mean_train_score  \\\n",
       "0      50.889670         0.374614         0.043182          0.083665   \n",
       "1      54.718473         0.374652         0.536648          0.592969   \n",
       "2      47.985934         0.362881         0.990057          0.999432   \n",
       "3      56.000113         0.375958         0.991761          1.000000   \n",
       "4      69.318964         0.331135         0.991761          1.000000   \n",
       "5      80.898910         0.359274         0.991761          1.000000   \n",
       "6      68.483765         0.176487         0.992330          1.000000   \n",
       "\n",
       "  param_base_estimator__C                          params  rank_test_score  \\\n",
       "0                   0.001   {u'base_estimator__C': 0.001}                7   \n",
       "1                    0.01    {u'base_estimator__C': 0.01}                6   \n",
       "2                     0.1     {u'base_estimator__C': 0.1}                5   \n",
       "3                       1     {u'base_estimator__C': 1.0}                2   \n",
       "4                      10    {u'base_estimator__C': 10.0}                2   \n",
       "5                     100   {u'base_estimator__C': 100.0}                2   \n",
       "6                    1000  {u'base_estimator__C': 1000.0}                1   \n",
       "\n",
       "   split0_test_score  split0_train_score  split1_test_score       ...         \\\n",
       "0           0.053977            0.094105           0.036932       ...          \n",
       "1           0.524148            0.600852           0.544034       ...          \n",
       "2           0.990057            0.999645           0.990057       ...          \n",
       "3           0.992898            1.000000           0.991477       ...          \n",
       "4           0.991477            1.000000           0.992898       ...          \n",
       "5           0.991477            1.000000           0.992898       ...          \n",
       "6           0.991477            1.000000           0.992898       ...          \n",
       "\n",
       "   split2_test_score  split2_train_score  split3_test_score  \\\n",
       "0           0.044034            0.084517           0.036932   \n",
       "1           0.531250            0.596946           0.534091   \n",
       "2           0.990057            0.999645           0.990057   \n",
       "3           0.991477            1.000000           0.990057   \n",
       "4           0.990057            1.000000           0.992898   \n",
       "5           0.988636            1.000000           0.994318   \n",
       "6           0.991477            1.000000           0.994318   \n",
       "\n",
       "   split3_train_score  split4_test_score  split4_train_score  std_fit_time  \\\n",
       "0            0.079190           0.044034            0.074219      4.296422   \n",
       "1            0.584517           0.549716            0.594105      6.250035   \n",
       "2            0.999290           0.990057            0.999290      1.867233   \n",
       "3            1.000000           0.992898            1.000000      2.084107   \n",
       "4            1.000000           0.991477            1.000000      2.058649   \n",
       "5            1.000000           0.991477            1.000000      0.996232   \n",
       "6            1.000000           0.991477            1.000000      9.610089   \n",
       "\n",
       "   std_score_time  std_test_score  std_train_score  \n",
       "0        0.042952        0.006263         0.006721  \n",
       "1        0.046940        0.009135         0.005854  \n",
       "2        0.068504        0.000000         0.000174  \n",
       "3        0.046400        0.001063         0.000000  \n",
       "4        0.074992        0.001063         0.000000  \n",
       "5        0.022050        0.001884         0.000000  \n",
       "6        0.044166        0.001136         0.000000  \n",
       "\n",
       "[7 rows x 21 columns]"
      ]
     },
     "execution_count": 102,
     "metadata": {},
     "output_type": "execute_result"
    }
   ],
   "source": [
    "grid_results = pd.DataFrame(data=grid.cv_results_)\n",
    "grid_results"
   ]
  },
  {
   "cell_type": "markdown",
   "metadata": {},
   "source": [
    "### Evaluate SVM with probabilities"
   ]
  },
  {
   "cell_type": "code",
   "execution_count": 103,
   "metadata": {},
   "outputs": [],
   "source": [
    "X_test, y_test = dataset.load_data(is_train=False, fold=fold, num_train=training_samples)"
   ]
  },
  {
   "cell_type": "code",
   "execution_count": 104,
   "metadata": {},
   "outputs": [
    {
     "name": "stdout",
     "output_type": "stream",
     "text": [
      "Generating 'test' embeddings for...\n",
      "(440 samples and 440 subjects)\n"
     ]
    },
    {
     "data": {
      "application/vnd.jupyter.widget-view+json": {
       "model_id": "0693659a5cf240b8a9c030fdd4aa6914",
       "version_major": 2,
       "version_minor": 0
      },
      "text/plain": [
       "HBox(children=(IntProgress(value=0, max=440), HTML(value=u'')))"
      ]
     },
     "metadata": {},
     "output_type": "display_data"
    },
    {
     "name": "stdout",
     "output_type": "stream",
     "text": [
      "\n",
      "done.\n"
     ]
    }
   ],
   "source": [
    "print(\"Generating 'test' embeddings for...\")\n",
    "print(\"(\" + str(len(X_test)) + \" samples and \" + str(len(\n",
    "np.unique(y_test))) + \" subjects)\")\n",
    "\n",
    "test_embeddings = recognizer_model.embed(X_test)\n",
    "        \n",
    "print(\"done.\")"
   ]
  },
  {
   "cell_type": "code",
   "execution_count": 105,
   "metadata": {},
   "outputs": [],
   "source": [
    "X_test = np.array(test_embeddings)\n",
    "y_test = LabelEncoder().fit_transform(y_test)"
   ]
  },
  {
   "cell_type": "code",
   "execution_count": 106,
   "metadata": {},
   "outputs": [
    {
     "data": {
      "text/plain": [
       "0.9886363636363636"
      ]
     },
     "execution_count": 106,
     "metadata": {},
     "output_type": "execute_result"
    }
   ],
   "source": [
    "accuracy_score(y_test, grid.predict(X_test))"
   ]
  },
  {
   "cell_type": "code",
   "execution_count": 130,
   "metadata": {},
   "outputs": [],
   "source": [
    "predictions = grid.predict(X_test)"
   ]
  },
  {
   "cell_type": "code",
   "execution_count": 131,
   "metadata": {},
   "outputs": [],
   "source": [
    "prediction_probabilities = np.max(grid.predict_proba(X_test), axis=1)"
   ]
  },
  {
   "cell_type": "code",
   "execution_count": 132,
   "metadata": {},
   "outputs": [],
   "source": [
    "threshold = 0.20\n",
    "thresholded_probabilities = prediction_probabilities < threshold"
   ]
  },
  {
   "cell_type": "code",
   "execution_count": 133,
   "metadata": {},
   "outputs": [],
   "source": [
    "thresholded_indices = np.nonzero(thresholded_probabilities)"
   ]
  },
  {
   "cell_type": "code",
   "execution_count": 134,
   "metadata": {},
   "outputs": [],
   "source": [
    "predictions[thresholded_indices] = -1"
   ]
  },
  {
   "cell_type": "code",
   "execution_count": 135,
   "metadata": {},
   "outputs": [
    {
     "data": {
      "text/plain": [
       "0.9613636363636363"
      ]
     },
     "execution_count": 135,
     "metadata": {},
     "output_type": "execute_result"
    }
   ],
   "source": [
    "accuracy_score(y_test, predictions)"
   ]
  },
  {
   "cell_type": "markdown",
   "metadata": {},
   "source": [
    "### Save model "
   ]
  },
  {
   "cell_type": "code",
   "execution_count": 138,
   "metadata": {},
   "outputs": [],
   "source": [
    "import pickle as pkl\n",
    "from sklearn.externals import joblib"
   ]
  },
  {
   "cell_type": "code",
   "execution_count": null,
   "metadata": {},
   "outputs": [],
   "source": [
    "# save the classifier model\n",
    "#joblib.dump(grid, \"face_classifier.pkl\")"
   ]
  },
  {
   "cell_type": "code",
   "execution_count": null,
   "metadata": {},
   "outputs": [],
   "source": [
    "# save the embeddings with labels\n",
    "#joblib.dump((embeddings, y_test), \"train_embeddings.pkl\")\n"
   ]
  },
  {
   "cell_type": "code",
   "execution_count": null,
   "metadata": {},
   "outputs": [],
   "source": [
    "# save the novelty detector\n",
    "#joblib.dump(grid, \"novelty_dector.pkl\")"
   ]
  },
  {
   "cell_type": "code",
   "execution_count": 139,
   "metadata": {},
   "outputs": [
    {
     "data": {
      "text/plain": [
       "['svm_proba.pkl']"
      ]
     },
     "execution_count": 139,
     "metadata": {},
     "output_type": "execute_result"
    }
   ],
   "source": [
    "# svm with probabilities\n",
    "# joblib.dump(grid, \"svm_proba.pkl\")"
   ]
  },
  {
   "cell_type": "markdown",
   "metadata": {},
   "source": [
    "### Visualizing the embeddings"
   ]
  },
  {
   "cell_type": "code",
   "execution_count": 145,
   "metadata": {},
   "outputs": [],
   "source": [
    "from sklearn.manifold import TSNE"
   ]
  },
  {
   "cell_type": "code",
   "execution_count": 146,
   "metadata": {},
   "outputs": [
    {
     "name": "stdout",
     "output_type": "stream",
     "text": [
      "[t-SNE] Computing 91 nearest neighbors...\n",
      "[t-SNE] Indexed 3715 samples in 0.021s...\n",
      "[t-SNE] Computed neighbors for 3715 samples in 3.737s...\n",
      "[t-SNE] Computed conditional probabilities for sample 1000 / 3715\n",
      "[t-SNE] Computed conditional probabilities for sample 2000 / 3715\n",
      "[t-SNE] Computed conditional probabilities for sample 3000 / 3715\n",
      "[t-SNE] Computed conditional probabilities for sample 3715 / 3715\n",
      "[t-SNE] Mean sigma: 0.232304\n",
      "[t-SNE] KL divergence after 250 iterations with early exaggeration: 81.852318\n",
      "[t-SNE] Error after 1000 iterations: 1.413114\n"
     ]
    }
   ],
   "source": [
    "X_embedded = TSNE(n_components=2, verbose=True).fit_transform(X_train)"
   ]
  },
  {
   "cell_type": "code",
   "execution_count": 148,
   "metadata": {},
   "outputs": [
    {
     "data": {
      "text/plain": [
       "numpy.ndarray"
      ]
     },
     "execution_count": 148,
     "metadata": {},
     "output_type": "execute_result"
    }
   ],
   "source": [
    "type(X_embedded)"
   ]
  },
  {
   "cell_type": "code",
   "execution_count": 155,
   "metadata": {},
   "outputs": [],
   "source": [
    "import matplotlib.pyplot as plt\n",
    "from jupyterthemes import jtplot\n",
    "\n",
    "jtplot.style(theme='onedork')\n",
    "plt.rcParams['figure.figsize'] = [25, 15]"
   ]
  },
  {
   "cell_type": "code",
   "execution_count": 164,
   "metadata": {},
   "outputs": [
    {
     "data": {
      "image/png": "[encoded data removed]",
      "text/plain": [
       "<Figure size 1800x1080 with 1 Axes>"
      ]
     },
     "metadata": {},
     "output_type": "display_data"
    }
   ],
   "source": [
    "vis_x = X_embedded[:, 0]\n",
    "vis_y = X_embedded[:, 1]\n",
    "plt.scatter(vis_x, vis_y, c=y_train, cmap=plt.cm.get_cmap(\"jet\", np.unique(y_train).size))\n",
    "#plt.colorbar(ticks=range(np.unique(y_train).size))\n",
    "#plt.clim(-0.5, 9.5)\n",
    "plt.show()"
   ]
  },
  {
   "cell_type": "code",
   "execution_count": null,
   "metadata": {},
   "outputs": [],
   "source": []
  }
 ],
 "metadata": {
  "kernelspec": {
   "display_name": "Python 2 (dl2)",
   "language": "python",
   "name": "dl2"
  },
  "language_info": {
   "codemirror_mode": {
    "name": "ipython",
    "version": 2
   },
   "file_extension": ".py",
   "mimetype": "text/x-python",
   "name": "python",
   "nbconvert_exporter": "python",
   "pygments_lexer": "ipython2",
   "version": "2.7.14"
  },
  "widgets": {
   "application/vnd.jupyter.widget-state+json": {
    "state": {
     "0356a6a89fbd4eeb8f35c86bdfc57e89": {
      "model_module": "@jupyter-widgets/controls",
      "model_module_version": "1.2.0",
      "model_name": "IntProgressModel",
      "state": {
       "bar_style": "danger",
       "layout": "IPY_MODEL_0a1d9741b5a240c69106c3f6c877947c",
       "max": 1,
       "style": "IPY_MODEL_b4eac83b14e64b809293e830bdd7f7c9"
      }
     },
     "0413112470c24d359757ccce4e7aea56": {
      "model_module": "@jupyter-widgets/controls",
      "model_module_version": "1.2.0",
      "model_name": "HTMLModel",
      "state": {
       "layout": "IPY_MODEL_26d4e69c585a4bab8cd81a71a549679d",
       "style": "IPY_MODEL_6e474db824e64adbaba8c09b858e0fe2",
       "value": " 12% 441/3715 [00:25&lt;03:12, 16.98it/s]"
      }
     },
     "085177578d0b49dc907055fad08c42c0": {
      "model_module": "@jupyter-widgets/controls",
      "model_module_version": "1.2.0",
      "model_name": "DescriptionStyleModel",
      "state": {
       "description_width": ""
      }
     },
     "0a1d9741b5a240c69106c3f6c877947c": {
      "model_module": "@jupyter-widgets/base",
      "model_module_version": "1.0.0",
      "model_name": "LayoutModel",
      "state": {}
     },
     "0e23cc51a5e848449b2d0571faf917b8": {
      "model_module": "@jupyter-widgets/controls",
      "model_module_version": "1.2.0",
      "model_name": "IntProgressModel",
      "state": {
       "bar_style": "danger",
       "layout": "IPY_MODEL_6fe51d24cfef4f05bb9618f37f9bd782",
       "max": 1,
       "style": "IPY_MODEL_be220953e36d40b0bc448f78698a3d09"
      }
     },
     "0ed0d61b724e4d20980a23186bf40ee7": {
      "model_module": "@jupyter-widgets/base",
      "model_module_version": "1.0.0",
      "model_name": "LayoutModel",
      "state": {}
     },
     "0f8423cb52194bbd8f6d88559f2cf172": {
      "model_module": "@jupyter-widgets/base",
      "model_module_version": "1.0.0",
      "model_name": "LayoutModel",
      "state": {}
     },
     "116e96d47b53423bb75b5102d2933342": {
      "model_module": "@jupyter-widgets/controls",
      "model_module_version": "1.2.0",
      "model_name": "IntProgressModel",
      "state": {
       "bar_style": "success",
       "layout": "IPY_MODEL_dc0bb416cc3d4b819d1d112eb551ade7",
       "max": 194,
       "style": "IPY_MODEL_5fcf9ca22d5b4431bc011389c55db602",
       "value": 194
      }
     },
     "1338b3fcfdbe4936b91b67553481ce2b": {
      "model_module": "@jupyter-widgets/base",
      "model_module_version": "1.0.0",
      "model_name": "LayoutModel",
      "state": {}
     },
     "1453d2f6f4274d00b3ca28b693bd912e": {
      "model_module": "@jupyter-widgets/controls",
      "model_module_version": "1.2.0",
      "model_name": "ProgressStyleModel",
      "state": {
       "description_width": ""
      }
     },
     "14d0c08e47ca4d899e19d30e88a39599": {
      "model_module": "@jupyter-widgets/controls",
      "model_module_version": "1.2.0",
      "model_name": "HTMLModel",
      "state": {
       "layout": "IPY_MODEL_33dd7893f911463d916b47a4b1e78b23",
       "style": "IPY_MODEL_659ffe442eb54688b65bedc5531d11f4",
       "value": "  0% 0/1 [00:00&lt;?, ?it/s]"
      }
     },
     "1508de35ee324dd7bcfa708ab9edd3a9": {
      "model_module": "@jupyter-widgets/controls",
      "model_module_version": "1.2.0",
      "model_name": "HTMLModel",
      "state": {
       "layout": "IPY_MODEL_66e6218f937e4f68b53ab69d82079846",
       "style": "IPY_MODEL_1fa0356af58a4aa6b57ead2ec48d2582",
       "value": "  0% 0/1 [00:00&lt;?, ?it/s]"
      }
     },
     "1549f1ea13fd4e128bdfaf2e6eb5b956": {
      "model_module": "@jupyter-widgets/controls",
      "model_module_version": "1.2.0",
      "model_name": "IntProgressModel",
      "state": {
       "bar_style": "success",
       "layout": "IPY_MODEL_61cd9be980e9458d91c598d3971f3de4",
       "max": 3715,
       "style": "IPY_MODEL_71ff713698344075b8a3c0b303eb8d1e",
       "value": 3715
      }
     },
     "179a8a970db24f2e85f321dc8ba7c7cf": {
      "model_module": "@jupyter-widgets/controls",
      "model_module_version": "1.2.0",
      "model_name": "IntProgressModel",
      "state": {
       "bar_style": "success",
       "layout": "IPY_MODEL_e23bf027034d498cae97d47f62ac6b9a",
       "max": 314,
       "style": "IPY_MODEL_eb991c36626547729504501fa9cfcae4",
       "value": 314
      }
     },
     "1e1a73b3eae943cfb137dc4de5eb27ab": {
      "model_module": "@jupyter-widgets/controls",
      "model_module_version": "1.2.0",
      "model_name": "HTMLModel",
      "state": {
       "layout": "IPY_MODEL_e684a0389a03441e8a4981ceaf15ced7",
       "style": "IPY_MODEL_d92877e083a54453aa1a16670f5c81c7",
       "value": "100% 314/314 [00:08&lt;00:00, 38.82it/s]"
      }
     },
     "1ee7f6954bab41df965fd0d5febbd384": {
      "model_module": "@jupyter-widgets/base",
      "model_module_version": "1.0.0",
      "model_name": "LayoutModel",
      "state": {}
     },
     "1fa0356af58a4aa6b57ead2ec48d2582": {
      "model_module": "@jupyter-widgets/controls",
      "model_module_version": "1.2.0",
      "model_name": "DescriptionStyleModel",
      "state": {
       "description_width": ""
      }
     },
     "227ef07fcef3498a91d746cfd9ddd738": {
      "model_module": "@jupyter-widgets/controls",
      "model_module_version": "1.2.0",
      "model_name": "IntProgressModel",
      "state": {
       "bar_style": "danger",
       "layout": "IPY_MODEL_0ed0d61b724e4d20980a23186bf40ee7",
       "max": 1,
       "style": "IPY_MODEL_b6008c4e62b4412b8a2c07925005ba63"
      }
     },
     "24c8fbdbb155498f8e82a60a6d064729": {
      "model_module": "@jupyter-widgets/controls",
      "model_module_version": "1.2.0",
      "model_name": "IntProgressModel",
      "state": {
       "bar_style": "success",
       "layout": "IPY_MODEL_1ee7f6954bab41df965fd0d5febbd384",
       "max": 2349,
       "style": "IPY_MODEL_948f89aca3924f8189ca18e246ab4f4b",
       "value": 2349
      }
     },
     "25d6e6a298524e0eae5609f432bb3cbe": {
      "model_module": "@jupyter-widgets/controls",
      "model_module_version": "1.2.0",
      "model_name": "ProgressStyleModel",
      "state": {
       "description_width": ""
      }
     },
     "26d4e69c585a4bab8cd81a71a549679d": {
      "model_module": "@jupyter-widgets/base",
      "model_module_version": "1.0.0",
      "model_name": "LayoutModel",
      "state": {}
     },
     "26e6f53688c04c46aba282bae6cf2482": {
      "model_module": "@jupyter-widgets/controls",
      "model_module_version": "1.2.0",
      "model_name": "HBoxModel",
      "state": {
       "children": [
        "IPY_MODEL_227ef07fcef3498a91d746cfd9ddd738",
        "IPY_MODEL_14d0c08e47ca4d899e19d30e88a39599"
       ],
       "layout": "IPY_MODEL_3d260931358c4647afa7d266b7f68414"
      }
     },
     "2c2bc069182f4c0c80e4fb695d6589b0": {
      "model_module": "@jupyter-widgets/base",
      "model_module_version": "1.0.0",
      "model_name": "LayoutModel",
      "state": {}
     },
     "338e1fab39464188b1a50be9a911298e": {
      "model_module": "@jupyter-widgets/controls",
      "model_module_version": "1.2.0",
      "model_name": "HTMLModel",
      "state": {
       "layout": "IPY_MODEL_36e0387bc1904a4a811a09e252c4e8d9",
       "style": "IPY_MODEL_e8d50840679442a3a2718e32f2853ab0",
       "value": "100% 2349/2349 [00:58&lt;00:00, 40.15it/s]"
      }
     },
     "33baf1ed61804f989e9eb39f5a4d8bed": {
      "model_module": "@jupyter-widgets/base",
      "model_module_version": "1.0.0",
      "model_name": "LayoutModel",
      "state": {}
     },
     "33dd7893f911463d916b47a4b1e78b23": {
      "model_module": "@jupyter-widgets/base",
      "model_module_version": "1.0.0",
      "model_name": "LayoutModel",
      "state": {}
     },
     "36c21d2da6944dd486024054d8b19c1e": {
      "model_module": "@jupyter-widgets/controls",
      "model_module_version": "1.2.0",
      "model_name": "HTMLModel",
      "state": {
       "layout": "IPY_MODEL_a010ffdfa1fc4988af8c818adeb2a3da",
       "style": "IPY_MODEL_570506475f8942eb9ef2658584cddb29",
       "value": " 79% 2934/3715 [01:27&lt;00:23, 33.56it/s]"
      }
     },
     "36e0387bc1904a4a811a09e252c4e8d9": {
      "model_module": "@jupyter-widgets/base",
      "model_module_version": "1.0.0",
      "model_name": "LayoutModel",
      "state": {}
     },
     "3baebd074a2b465cad3ebed1369f0eb2": {
      "model_module": "@jupyter-widgets/controls",
      "model_module_version": "1.2.0",
      "model_name": "IntProgressModel",
      "state": {
       "bar_style": "danger",
       "layout": "IPY_MODEL_686fccab36b8401db097b01b56eec11c",
       "max": 3715,
       "style": "IPY_MODEL_25d6e6a298524e0eae5609f432bb3cbe",
       "value": 441
      }
     },
     "3d260931358c4647afa7d266b7f68414": {
      "model_module": "@jupyter-widgets/base",
      "model_module_version": "1.0.0",
      "model_name": "LayoutModel",
      "state": {}
     },
     "4515cb45fa114892b3471e7811255e19": {
      "model_module": "@jupyter-widgets/base",
      "model_module_version": "1.0.0",
      "model_name": "LayoutModel",
      "state": {}
     },
     "482adfccfa3947328749fe4d33d02e82": {
      "model_module": "@jupyter-widgets/base",
      "model_module_version": "1.0.0",
      "model_name": "LayoutModel",
      "state": {}
     },
     "49706e3ccf7d48f2ae5aea5a72499691": {
      "model_module": "@jupyter-widgets/controls",
      "model_module_version": "1.2.0",
      "model_name": "HBoxModel",
      "state": {
       "children": [
        "IPY_MODEL_3baebd074a2b465cad3ebed1369f0eb2",
        "IPY_MODEL_0413112470c24d359757ccce4e7aea56"
       ],
       "layout": "IPY_MODEL_529a77b818ae43c68e943a018c51a7a1"
      }
     },
     "515b9fff4b84426d871003137237908e": {
      "model_module": "@jupyter-widgets/base",
      "model_module_version": "1.0.0",
      "model_name": "LayoutModel",
      "state": {}
     },
     "51c1fb08fe4a4cb7bef91b10464cabf5": {
      "model_module": "@jupyter-widgets/controls",
      "model_module_version": "1.2.0",
      "model_name": "DescriptionStyleModel",
      "state": {
       "description_width": ""
      }
     },
     "529a77b818ae43c68e943a018c51a7a1": {
      "model_module": "@jupyter-widgets/base",
      "model_module_version": "1.0.0",
      "model_name": "LayoutModel",
      "state": {}
     },
     "570506475f8942eb9ef2658584cddb29": {
      "model_module": "@jupyter-widgets/controls",
      "model_module_version": "1.2.0",
      "model_name": "DescriptionStyleModel",
      "state": {
       "description_width": ""
      }
     },
     "570b74ce673447d1b0f4913514afa88c": {
      "model_module": "@jupyter-widgets/base",
      "model_module_version": "1.0.0",
      "model_name": "LayoutModel",
      "state": {}
     },
     "582aecf2b2f24ea8829481e6ef06465c": {
      "model_module": "@jupyter-widgets/controls",
      "model_module_version": "1.2.0",
      "model_name": "IntProgressModel",
      "state": {
       "bar_style": "danger",
       "layout": "IPY_MODEL_515b9fff4b84426d871003137237908e",
       "max": 3715,
       "style": "IPY_MODEL_f70b1fe678e14f46abf8285f02741566",
       "value": 3112
      }
     },
     "5a27bcaf31bf4e3c9b006d4fee2ea86a": {
      "model_module": "@jupyter-widgets/controls",
      "model_module_version": "1.2.0",
      "model_name": "HTMLModel",
      "state": {
       "layout": "IPY_MODEL_f588727c606d42d9baaffd915bf52d46",
       "style": "IPY_MODEL_ae0c0448458449ba824c3e5bee0a3cbb",
       "value": "100% 194/194 [00:04&lt;00:00, 41.01it/s]"
      }
     },
     "5b322beed5914ca190284b21d084b706": {
      "model_module": "@jupyter-widgets/controls",
      "model_module_version": "1.2.0",
      "model_name": "HTMLModel",
      "state": {
       "layout": "IPY_MODEL_9210013bfbe24c589f363d3605031ba4",
       "style": "IPY_MODEL_82f77e6bda9e413583334eea0c5de5e8",
       "value": "100% 314/314 [00:07&lt;00:00, 40.54it/s]"
      }
     },
     "5fcf9ca22d5b4431bc011389c55db602": {
      "model_module": "@jupyter-widgets/controls",
      "model_module_version": "1.2.0",
      "model_name": "ProgressStyleModel",
      "state": {
       "description_width": ""
      }
     },
     "61950eb5c94f4723a596b15486e21180": {
      "model_module": "@jupyter-widgets/controls",
      "model_module_version": "1.2.0",
      "model_name": "DescriptionStyleModel",
      "state": {
       "description_width": ""
      }
     },
     "61cd9be980e9458d91c598d3971f3de4": {
      "model_module": "@jupyter-widgets/base",
      "model_module_version": "1.0.0",
      "model_name": "LayoutModel",
      "state": {}
     },
     "641bff20321a4d20903a42923399afcb": {
      "model_module": "@jupyter-widgets/controls",
      "model_module_version": "1.2.0",
      "model_name": "HBoxModel",
      "state": {
       "children": [
        "IPY_MODEL_0356a6a89fbd4eeb8f35c86bdfc57e89",
        "IPY_MODEL_1508de35ee324dd7bcfa708ab9edd3a9"
       ],
       "layout": "IPY_MODEL_1338b3fcfdbe4936b91b67553481ce2b"
      }
     },
     "659ffe442eb54688b65bedc5531d11f4": {
      "model_module": "@jupyter-widgets/controls",
      "model_module_version": "1.2.0",
      "model_name": "DescriptionStyleModel",
      "state": {
       "description_width": ""
      }
     },
     "66e6218f937e4f68b53ab69d82079846": {
      "model_module": "@jupyter-widgets/base",
      "model_module_version": "1.0.0",
      "model_name": "LayoutModel",
      "state": {}
     },
     "686fccab36b8401db097b01b56eec11c": {
      "model_module": "@jupyter-widgets/base",
      "model_module_version": "1.0.0",
      "model_name": "LayoutModel",
      "state": {}
     },
     "6878ba411a27442a8f6565f4726c603c": {
      "model_module": "@jupyter-widgets/controls",
      "model_module_version": "1.2.0",
      "model_name": "HBoxModel",
      "state": {
       "children": [
        "IPY_MODEL_1549f1ea13fd4e128bdfaf2e6eb5b956",
        "IPY_MODEL_ba851bd93a084b6bb7276a1f14065ffd"
       ],
       "layout": "IPY_MODEL_482adfccfa3947328749fe4d33d02e82"
      }
     },
     "6bc3fae0918f41a591b578eb069c87a7": {
      "model_module": "@jupyter-widgets/controls",
      "model_module_version": "1.2.0",
      "model_name": "HBoxModel",
      "state": {
       "children": [
        "IPY_MODEL_740112ef07854c09af38233cb13e05c1",
        "IPY_MODEL_36c21d2da6944dd486024054d8b19c1e"
       ],
       "layout": "IPY_MODEL_c3380baacd7d4740ad7406a14578ccfd"
      }
     },
     "6d15e02a97c0499aa566c8d0b89b266e": {
      "model_module": "@jupyter-widgets/base",
      "model_module_version": "1.0.0",
      "model_name": "LayoutModel",
      "state": {}
     },
     "6e474db824e64adbaba8c09b858e0fe2": {
      "model_module": "@jupyter-widgets/controls",
      "model_module_version": "1.2.0",
      "model_name": "DescriptionStyleModel",
      "state": {
       "description_width": ""
      }
     },
     "6fe51d24cfef4f05bb9618f37f9bd782": {
      "model_module": "@jupyter-widgets/base",
      "model_module_version": "1.0.0",
      "model_name": "LayoutModel",
      "state": {}
     },
     "710edb31ba9e4553acad6d1ea1445ac0": {
      "model_module": "@jupyter-widgets/controls",
      "model_module_version": "1.2.0",
      "model_name": "HBoxModel",
      "state": {
       "children": [
        "IPY_MODEL_179a8a970db24f2e85f321dc8ba7c7cf",
        "IPY_MODEL_5b322beed5914ca190284b21d084b706"
       ],
       "layout": "IPY_MODEL_2c2bc069182f4c0c80e4fb695d6589b0"
      }
     },
     "71ff713698344075b8a3c0b303eb8d1e": {
      "model_module": "@jupyter-widgets/controls",
      "model_module_version": "1.2.0",
      "model_name": "ProgressStyleModel",
      "state": {
       "description_width": ""
      }
     },
     "740112ef07854c09af38233cb13e05c1": {
      "model_module": "@jupyter-widgets/controls",
      "model_module_version": "1.2.0",
      "model_name": "IntProgressModel",
      "state": {
       "bar_style": "danger",
       "layout": "IPY_MODEL_0f8423cb52194bbd8f6d88559f2cf172",
       "max": 3715,
       "style": "IPY_MODEL_1453d2f6f4274d00b3ca28b693bd912e",
       "value": 2934
      }
     },
     "82f77e6bda9e413583334eea0c5de5e8": {
      "model_module": "@jupyter-widgets/controls",
      "model_module_version": "1.2.0",
      "model_name": "DescriptionStyleModel",
      "state": {
       "description_width": ""
      }
     },
     "839e68f863c14728a266cb3d745e9dfe": {
      "model_module": "@jupyter-widgets/controls",
      "model_module_version": "1.2.0",
      "model_name": "HTMLModel",
      "state": {
       "layout": "IPY_MODEL_e333267ef8bd4fef9e95da1a864a7f06",
       "style": "IPY_MODEL_085177578d0b49dc907055fad08c42c0",
       "value": " 84% 3112/3715 [01:27&lt;00:16, 35.52it/s]"
      }
     },
     "8739f0bb8e6c440ba10c43ab87491da1": {
      "model_module": "@jupyter-widgets/base",
      "model_module_version": "1.0.0",
      "model_name": "LayoutModel",
      "state": {}
     },
     "87d4656e2d354727a7984c27822701e0": {
      "model_module": "@jupyter-widgets/base",
      "model_module_version": "1.0.0",
      "model_name": "LayoutModel",
      "state": {}
     },
     "87facd668f3a44fa8b60d685e4550fd6": {
      "model_module": "@jupyter-widgets/controls",
      "model_module_version": "1.2.0",
      "model_name": "HTMLModel",
      "state": {
       "layout": "IPY_MODEL_d43476d0fd734cbd85132a0e89ed8ec2",
       "style": "IPY_MODEL_f9d6f43f85da4b7ba6c8bfbeb276ea7d",
       "value": "  0% 0/1 [00:00&lt;?, ?it/s]"
      }
     },
     "8c7eec3e7cb84584859e76123db33c19": {
      "model_module": "@jupyter-widgets/controls",
      "model_module_version": "1.2.0",
      "model_name": "IntProgressModel",
      "state": {
       "bar_style": "danger",
       "layout": "IPY_MODEL_a416cfea75384a208937ac8ea9ff0bfc",
       "max": 1,
       "style": "IPY_MODEL_9c060ef898fc4c939af3ea0bc1c9d7be"
      }
     },
     "9210013bfbe24c589f363d3605031ba4": {
      "model_module": "@jupyter-widgets/base",
      "model_module_version": "1.0.0",
      "model_name": "LayoutModel",
      "state": {}
     },
     "948f89aca3924f8189ca18e246ab4f4b": {
      "model_module": "@jupyter-widgets/controls",
      "model_module_version": "1.2.0",
      "model_name": "ProgressStyleModel",
      "state": {
       "description_width": ""
      }
     },
     "96a0cdd358304e48a7e008a28c7bf6c1": {
      "model_module": "@jupyter-widgets/controls",
      "model_module_version": "1.2.0",
      "model_name": "HBoxModel",
      "state": {
       "children": [
        "IPY_MODEL_8c7eec3e7cb84584859e76123db33c19",
        "IPY_MODEL_fa1132f903584094a6d39610c98adde6"
       ],
       "layout": "IPY_MODEL_570b74ce673447d1b0f4913514afa88c"
      }
     },
     "9c060ef898fc4c939af3ea0bc1c9d7be": {
      "model_module": "@jupyter-widgets/controls",
      "model_module_version": "1.2.0",
      "model_name": "ProgressStyleModel",
      "state": {
       "description_width": ""
      }
     },
     "a010ffdfa1fc4988af8c818adeb2a3da": {
      "model_module": "@jupyter-widgets/base",
      "model_module_version": "1.0.0",
      "model_name": "LayoutModel",
      "state": {}
     },
     "a416cfea75384a208937ac8ea9ff0bfc": {
      "model_module": "@jupyter-widgets/base",
      "model_module_version": "1.0.0",
      "model_name": "LayoutModel",
      "state": {}
     },
     "ae0c0448458449ba824c3e5bee0a3cbb": {
      "model_module": "@jupyter-widgets/controls",
      "model_module_version": "1.2.0",
      "model_name": "DescriptionStyleModel",
      "state": {
       "description_width": ""
      }
     },
     "b4eac83b14e64b809293e830bdd7f7c9": {
      "model_module": "@jupyter-widgets/controls",
      "model_module_version": "1.2.0",
      "model_name": "ProgressStyleModel",
      "state": {
       "description_width": ""
      }
     },
     "b6008c4e62b4412b8a2c07925005ba63": {
      "model_module": "@jupyter-widgets/controls",
      "model_module_version": "1.2.0",
      "model_name": "ProgressStyleModel",
      "state": {
       "description_width": ""
      }
     },
     "b72f8f661f7f47698e96022c56686736": {
      "model_module": "@jupyter-widgets/controls",
      "model_module_version": "1.2.0",
      "model_name": "ProgressStyleModel",
      "state": {
       "description_width": ""
      }
     },
     "ba851bd93a084b6bb7276a1f14065ffd": {
      "model_module": "@jupyter-widgets/controls",
      "model_module_version": "1.2.0",
      "model_name": "HTMLModel",
      "state": {
       "layout": "IPY_MODEL_33baf1ed61804f989e9eb39f5a4d8bed",
       "style": "IPY_MODEL_61950eb5c94f4723a596b15486e21180",
       "value": "100% 3715/3715 [01:29&lt;00:00, 41.59it/s]"
      }
     },
     "bb3f75b9c7a948e48b18a55dcf5dfeae": {
      "model_module": "@jupyter-widgets/controls",
      "model_module_version": "1.2.0",
      "model_name": "HBoxModel",
      "state": {
       "children": [
        "IPY_MODEL_ca0452680774498ba630dd0f8fc49c13",
        "IPY_MODEL_1e1a73b3eae943cfb137dc4de5eb27ab"
       ],
       "layout": "IPY_MODEL_87d4656e2d354727a7984c27822701e0"
      }
     },
     "be220953e36d40b0bc448f78698a3d09": {
      "model_module": "@jupyter-widgets/controls",
      "model_module_version": "1.2.0",
      "model_name": "ProgressStyleModel",
      "state": {
       "description_width": ""
      }
     },
     "bf34272286ae49cf8bed4f2525a034e6": {
      "model_module": "@jupyter-widgets/controls",
      "model_module_version": "1.2.0",
      "model_name": "HBoxModel",
      "state": {
       "children": [
        "IPY_MODEL_582aecf2b2f24ea8829481e6ef06465c",
        "IPY_MODEL_839e68f863c14728a266cb3d745e9dfe"
       ],
       "layout": "IPY_MODEL_6d15e02a97c0499aa566c8d0b89b266e"
      }
     },
     "c3380baacd7d4740ad7406a14578ccfd": {
      "model_module": "@jupyter-widgets/base",
      "model_module_version": "1.0.0",
      "model_name": "LayoutModel",
      "state": {}
     },
     "ca0452680774498ba630dd0f8fc49c13": {
      "model_module": "@jupyter-widgets/controls",
      "model_module_version": "1.2.0",
      "model_name": "IntProgressModel",
      "state": {
       "bar_style": "success",
       "layout": "IPY_MODEL_e405ad1811f54dc4bc1588c63e119426",
       "max": 314,
       "style": "IPY_MODEL_b72f8f661f7f47698e96022c56686736",
       "value": 314
      }
     },
     "d43476d0fd734cbd85132a0e89ed8ec2": {
      "model_module": "@jupyter-widgets/base",
      "model_module_version": "1.0.0",
      "model_name": "LayoutModel",
      "state": {}
     },
     "d92877e083a54453aa1a16670f5c81c7": {
      "model_module": "@jupyter-widgets/controls",
      "model_module_version": "1.2.0",
      "model_name": "DescriptionStyleModel",
      "state": {
       "description_width": ""
      }
     },
     "db5237bc02cd4404b32341d0fc66e9dc": {
      "model_module": "@jupyter-widgets/controls",
      "model_module_version": "1.2.0",
      "model_name": "HBoxModel",
      "state": {
       "children": [
        "IPY_MODEL_0e23cc51a5e848449b2d0571faf917b8",
        "IPY_MODEL_87facd668f3a44fa8b60d685e4550fd6"
       ],
       "layout": "IPY_MODEL_8739f0bb8e6c440ba10c43ab87491da1"
      }
     },
     "dc0bb416cc3d4b819d1d112eb551ade7": {
      "model_module": "@jupyter-widgets/base",
      "model_module_version": "1.0.0",
      "model_name": "LayoutModel",
      "state": {}
     },
     "e23bf027034d498cae97d47f62ac6b9a": {
      "model_module": "@jupyter-widgets/base",
      "model_module_version": "1.0.0",
      "model_name": "LayoutModel",
      "state": {}
     },
     "e333267ef8bd4fef9e95da1a864a7f06": {
      "model_module": "@jupyter-widgets/base",
      "model_module_version": "1.0.0",
      "model_name": "LayoutModel",
      "state": {}
     },
     "e34564ae2fd14fdf92e0f98663344157": {
      "model_module": "@jupyter-widgets/base",
      "model_module_version": "1.0.0",
      "model_name": "LayoutModel",
      "state": {}
     },
     "e405ad1811f54dc4bc1588c63e119426": {
      "model_module": "@jupyter-widgets/base",
      "model_module_version": "1.0.0",
      "model_name": "LayoutModel",
      "state": {}
     },
     "e4c93aa83eed41d2adcaa7c41948d304": {
      "model_module": "@jupyter-widgets/base",
      "model_module_version": "1.0.0",
      "model_name": "LayoutModel",
      "state": {}
     },
     "e684a0389a03441e8a4981ceaf15ced7": {
      "model_module": "@jupyter-widgets/base",
      "model_module_version": "1.0.0",
      "model_name": "LayoutModel",
      "state": {}
     },
     "e8d50840679442a3a2718e32f2853ab0": {
      "model_module": "@jupyter-widgets/controls",
      "model_module_version": "1.2.0",
      "model_name": "DescriptionStyleModel",
      "state": {
       "description_width": ""
      }
     },
     "e98fc2605ee24d5392df21f83272fbef": {
      "model_module": "@jupyter-widgets/controls",
      "model_module_version": "1.2.0",
      "model_name": "HBoxModel",
      "state": {
       "children": [
        "IPY_MODEL_116e96d47b53423bb75b5102d2933342",
        "IPY_MODEL_5a27bcaf31bf4e3c9b006d4fee2ea86a"
       ],
       "layout": "IPY_MODEL_e34564ae2fd14fdf92e0f98663344157"
      }
     },
     "eb991c36626547729504501fa9cfcae4": {
      "model_module": "@jupyter-widgets/controls",
      "model_module_version": "1.2.0",
      "model_name": "ProgressStyleModel",
      "state": {
       "description_width": ""
      }
     },
     "f45a260d7f2041d78fe65584e8095c1f": {
      "model_module": "@jupyter-widgets/controls",
      "model_module_version": "1.2.0",
      "model_name": "HBoxModel",
      "state": {
       "children": [
        "IPY_MODEL_24c8fbdbb155498f8e82a60a6d064729",
        "IPY_MODEL_338e1fab39464188b1a50be9a911298e"
       ],
       "layout": "IPY_MODEL_4515cb45fa114892b3471e7811255e19"
      }
     },
     "f588727c606d42d9baaffd915bf52d46": {
      "model_module": "@jupyter-widgets/base",
      "model_module_version": "1.0.0",
      "model_name": "LayoutModel",
      "state": {}
     },
     "f70b1fe678e14f46abf8285f02741566": {
      "model_module": "@jupyter-widgets/controls",
      "model_module_version": "1.2.0",
      "model_name": "ProgressStyleModel",
      "state": {
       "description_width": ""
      }
     },
     "f9d6f43f85da4b7ba6c8bfbeb276ea7d": {
      "model_module": "@jupyter-widgets/controls",
      "model_module_version": "1.2.0",
      "model_name": "DescriptionStyleModel",
      "state": {
       "description_width": ""
      }
     },
     "fa1132f903584094a6d39610c98adde6": {
      "model_module": "@jupyter-widgets/controls",
      "model_module_version": "1.2.0",
      "model_name": "HTMLModel",
      "state": {
       "layout": "IPY_MODEL_e4c93aa83eed41d2adcaa7c41948d304",
       "style": "IPY_MODEL_51c1fb08fe4a4cb7bef91b10464cabf5",
       "value": "  0% 0/1 [00:00&lt;?, ?it/s]"
      }
     }
    },
    "version_major": 2,
    "version_minor": 0
   }
  }
 },
 "nbformat": 4,
 "nbformat_minor": 2
}
